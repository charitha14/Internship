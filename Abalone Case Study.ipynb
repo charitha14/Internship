{
 "cells": [
  {
   "cell_type": "code",
   "execution_count": 195,
   "id": "7e12007a",
   "metadata": {},
   "outputs": [],
   "source": [
    "import pandas as pd\n",
    "import numpy as np\n",
    "import seaborn as sb\n",
    "import matplotlib.pyplot as plt"
   ]
  },
  {
   "cell_type": "code",
   "execution_count": 6,
   "id": "88f86f78",
   "metadata": {},
   "outputs": [],
   "source": [
    "abalone = pd.read_csv('https://raw.githubusercontent.com/dsrscientist/dataset1/master/abalone.csv')"
   ]
  },
  {
   "cell_type": "code",
   "execution_count": 7,
   "id": "9582fc8d",
   "metadata": {},
   "outputs": [
    {
     "name": "stdout",
     "output_type": "stream",
     "text": [
      "  Sex  Length  Diameter  Height  Whole weight  Shucked weight  Viscera weight  \\\n",
      "0   M   0.455     0.365   0.095        0.5140          0.2245          0.1010   \n",
      "1   M   0.350     0.265   0.090        0.2255          0.0995          0.0485   \n",
      "2   F   0.530     0.420   0.135        0.6770          0.2565          0.1415   \n",
      "3   M   0.440     0.365   0.125        0.5160          0.2155          0.1140   \n",
      "4   I   0.330     0.255   0.080        0.2050          0.0895          0.0395   \n",
      "\n",
      "   Shell weight  Rings  \n",
      "0         0.150     15  \n",
      "1         0.070      7  \n",
      "2         0.210      9  \n",
      "3         0.155     10  \n",
      "4         0.055      7  \n"
     ]
    }
   ],
   "source": [
    "print(abalone.head())"
   ]
  },
  {
   "cell_type": "code",
   "execution_count": 8,
   "id": "85170ca7",
   "metadata": {},
   "outputs": [
    {
     "name": "stdout",
     "output_type": "stream",
     "text": [
      "<class 'pandas.core.frame.DataFrame'>\n",
      "RangeIndex: 4177 entries, 0 to 4176\n",
      "Data columns (total 9 columns):\n",
      " #   Column          Non-Null Count  Dtype  \n",
      "---  ------          --------------  -----  \n",
      " 0   Sex             4177 non-null   object \n",
      " 1   Length          4177 non-null   float64\n",
      " 2   Diameter        4177 non-null   float64\n",
      " 3   Height          4177 non-null   float64\n",
      " 4   Whole weight    4177 non-null   float64\n",
      " 5   Shucked weight  4177 non-null   float64\n",
      " 6   Viscera weight  4177 non-null   float64\n",
      " 7   Shell weight    4177 non-null   float64\n",
      " 8   Rings           4177 non-null   int64  \n",
      "dtypes: float64(7), int64(1), object(1)\n",
      "memory usage: 293.8+ KB\n",
      "None\n"
     ]
    }
   ],
   "source": [
    "print(abalone.info())"
   ]
  },
  {
   "cell_type": "code",
   "execution_count": 9,
   "id": "aba4eb00",
   "metadata": {},
   "outputs": [
    {
     "name": "stdout",
     "output_type": "stream",
     "text": [
      "            Length     Diameter       Height  Whole weight  Shucked weight  \\\n",
      "count  4177.000000  4177.000000  4177.000000   4177.000000     4177.000000   \n",
      "mean      0.523992     0.407881     0.139516      0.828742        0.359367   \n",
      "std       0.120093     0.099240     0.041827      0.490389        0.221963   \n",
      "min       0.075000     0.055000     0.000000      0.002000        0.001000   \n",
      "25%       0.450000     0.350000     0.115000      0.441500        0.186000   \n",
      "50%       0.545000     0.425000     0.140000      0.799500        0.336000   \n",
      "75%       0.615000     0.480000     0.165000      1.153000        0.502000   \n",
      "max       0.815000     0.650000     1.130000      2.825500        1.488000   \n",
      "\n",
      "       Viscera weight  Shell weight        Rings  \n",
      "count     4177.000000   4177.000000  4177.000000  \n",
      "mean         0.180594      0.238831     9.933684  \n",
      "std          0.109614      0.139203     3.224169  \n",
      "min          0.000500      0.001500     1.000000  \n",
      "25%          0.093500      0.130000     8.000000  \n",
      "50%          0.171000      0.234000     9.000000  \n",
      "75%          0.253000      0.329000    11.000000  \n",
      "max          0.760000      1.005000    29.000000  \n"
     ]
    }
   ],
   "source": [
    "print(abalone.describe())"
   ]
  },
  {
   "cell_type": "code",
   "execution_count": 11,
   "id": "91a0b4da",
   "metadata": {},
   "outputs": [
    {
     "data": {
      "text/html": [
       "<div>\n",
       "<style scoped>\n",
       "    .dataframe tbody tr th:only-of-type {\n",
       "        vertical-align: middle;\n",
       "    }\n",
       "\n",
       "    .dataframe tbody tr th {\n",
       "        vertical-align: top;\n",
       "    }\n",
       "\n",
       "    .dataframe thead th {\n",
       "        text-align: right;\n",
       "    }\n",
       "</style>\n",
       "<table border=\"1\" class=\"dataframe\">\n",
       "  <thead>\n",
       "    <tr style=\"text-align: right;\">\n",
       "      <th></th>\n",
       "      <th>Sex</th>\n",
       "      <th>Length</th>\n",
       "      <th>Diameter</th>\n",
       "      <th>Height</th>\n",
       "      <th>Whole weight</th>\n",
       "      <th>Shucked weight</th>\n",
       "      <th>Viscera weight</th>\n",
       "      <th>Shell weight</th>\n",
       "      <th>Rings</th>\n",
       "    </tr>\n",
       "  </thead>\n",
       "  <tbody>\n",
       "    <tr>\n",
       "      <th>0</th>\n",
       "      <td>M</td>\n",
       "      <td>0.455</td>\n",
       "      <td>0.365</td>\n",
       "      <td>0.095</td>\n",
       "      <td>0.5140</td>\n",
       "      <td>0.2245</td>\n",
       "      <td>0.1010</td>\n",
       "      <td>0.150</td>\n",
       "      <td>15</td>\n",
       "    </tr>\n",
       "    <tr>\n",
       "      <th>1</th>\n",
       "      <td>M</td>\n",
       "      <td>0.350</td>\n",
       "      <td>0.265</td>\n",
       "      <td>0.090</td>\n",
       "      <td>0.2255</td>\n",
       "      <td>0.0995</td>\n",
       "      <td>0.0485</td>\n",
       "      <td>0.070</td>\n",
       "      <td>7</td>\n",
       "    </tr>\n",
       "    <tr>\n",
       "      <th>2</th>\n",
       "      <td>F</td>\n",
       "      <td>0.530</td>\n",
       "      <td>0.420</td>\n",
       "      <td>0.135</td>\n",
       "      <td>0.6770</td>\n",
       "      <td>0.2565</td>\n",
       "      <td>0.1415</td>\n",
       "      <td>0.210</td>\n",
       "      <td>9</td>\n",
       "    </tr>\n",
       "    <tr>\n",
       "      <th>3</th>\n",
       "      <td>M</td>\n",
       "      <td>0.440</td>\n",
       "      <td>0.365</td>\n",
       "      <td>0.125</td>\n",
       "      <td>0.5160</td>\n",
       "      <td>0.2155</td>\n",
       "      <td>0.1140</td>\n",
       "      <td>0.155</td>\n",
       "      <td>10</td>\n",
       "    </tr>\n",
       "    <tr>\n",
       "      <th>4</th>\n",
       "      <td>I</td>\n",
       "      <td>0.330</td>\n",
       "      <td>0.255</td>\n",
       "      <td>0.080</td>\n",
       "      <td>0.2050</td>\n",
       "      <td>0.0895</td>\n",
       "      <td>0.0395</td>\n",
       "      <td>0.055</td>\n",
       "      <td>7</td>\n",
       "    </tr>\n",
       "    <tr>\n",
       "      <th>5</th>\n",
       "      <td>I</td>\n",
       "      <td>0.425</td>\n",
       "      <td>0.300</td>\n",
       "      <td>0.095</td>\n",
       "      <td>0.3515</td>\n",
       "      <td>0.1410</td>\n",
       "      <td>0.0775</td>\n",
       "      <td>0.120</td>\n",
       "      <td>8</td>\n",
       "    </tr>\n",
       "    <tr>\n",
       "      <th>6</th>\n",
       "      <td>F</td>\n",
       "      <td>0.530</td>\n",
       "      <td>0.415</td>\n",
       "      <td>0.150</td>\n",
       "      <td>0.7775</td>\n",
       "      <td>0.2370</td>\n",
       "      <td>0.1415</td>\n",
       "      <td>0.330</td>\n",
       "      <td>20</td>\n",
       "    </tr>\n",
       "    <tr>\n",
       "      <th>7</th>\n",
       "      <td>F</td>\n",
       "      <td>0.545</td>\n",
       "      <td>0.425</td>\n",
       "      <td>0.125</td>\n",
       "      <td>0.7680</td>\n",
       "      <td>0.2940</td>\n",
       "      <td>0.1495</td>\n",
       "      <td>0.260</td>\n",
       "      <td>16</td>\n",
       "    </tr>\n",
       "    <tr>\n",
       "      <th>8</th>\n",
       "      <td>M</td>\n",
       "      <td>0.475</td>\n",
       "      <td>0.370</td>\n",
       "      <td>0.125</td>\n",
       "      <td>0.5095</td>\n",
       "      <td>0.2165</td>\n",
       "      <td>0.1125</td>\n",
       "      <td>0.165</td>\n",
       "      <td>9</td>\n",
       "    </tr>\n",
       "    <tr>\n",
       "      <th>9</th>\n",
       "      <td>F</td>\n",
       "      <td>0.550</td>\n",
       "      <td>0.440</td>\n",
       "      <td>0.150</td>\n",
       "      <td>0.8945</td>\n",
       "      <td>0.3145</td>\n",
       "      <td>0.1510</td>\n",
       "      <td>0.320</td>\n",
       "      <td>19</td>\n",
       "    </tr>\n",
       "  </tbody>\n",
       "</table>\n",
       "</div>"
      ],
      "text/plain": [
       "  Sex  Length  Diameter  Height  Whole weight  Shucked weight  Viscera weight  \\\n",
       "0   M   0.455     0.365   0.095        0.5140          0.2245          0.1010   \n",
       "1   M   0.350     0.265   0.090        0.2255          0.0995          0.0485   \n",
       "2   F   0.530     0.420   0.135        0.6770          0.2565          0.1415   \n",
       "3   M   0.440     0.365   0.125        0.5160          0.2155          0.1140   \n",
       "4   I   0.330     0.255   0.080        0.2050          0.0895          0.0395   \n",
       "5   I   0.425     0.300   0.095        0.3515          0.1410          0.0775   \n",
       "6   F   0.530     0.415   0.150        0.7775          0.2370          0.1415   \n",
       "7   F   0.545     0.425   0.125        0.7680          0.2940          0.1495   \n",
       "8   M   0.475     0.370   0.125        0.5095          0.2165          0.1125   \n",
       "9   F   0.550     0.440   0.150        0.8945          0.3145          0.1510   \n",
       "\n",
       "   Shell weight  Rings  \n",
       "0         0.150     15  \n",
       "1         0.070      7  \n",
       "2         0.210      9  \n",
       "3         0.155     10  \n",
       "4         0.055      7  \n",
       "5         0.120      8  \n",
       "6         0.330     20  \n",
       "7         0.260     16  \n",
       "8         0.165      9  \n",
       "9         0.320     19  "
      ]
     },
     "execution_count": 11,
     "metadata": {},
     "output_type": "execute_result"
    }
   ],
   "source": [
    "abalone.head(10)"
   ]
  },
  {
   "cell_type": "code",
   "execution_count": 12,
   "id": "b8fb3b05",
   "metadata": {},
   "outputs": [],
   "source": [
    "ab1=abalone.copy()"
   ]
  },
  {
   "cell_type": "code",
   "execution_count": 13,
   "id": "d807535b",
   "metadata": {},
   "outputs": [
    {
     "data": {
      "text/plain": [
       "Sex               0\n",
       "Length            0\n",
       "Diameter          0\n",
       "Height            0\n",
       "Whole weight      0\n",
       "Shucked weight    0\n",
       "Viscera weight    0\n",
       "Shell weight      0\n",
       "Rings             0\n",
       "dtype: int64"
      ]
     },
     "execution_count": 13,
     "metadata": {},
     "output_type": "execute_result"
    }
   ],
   "source": [
    "ab1.isnull().sum(axis=0)"
   ]
  },
  {
   "cell_type": "code",
   "execution_count": 16,
   "id": "b5049d9b",
   "metadata": {},
   "outputs": [],
   "source": [
    "ab1_all = ab1.drop(columns=\"Rings\")\n",
    "target = ab1['Rings']"
   ]
  },
  {
   "cell_type": "code",
   "execution_count": 18,
   "id": "f783bd3c",
   "metadata": {},
   "outputs": [
    {
     "data": {
      "text/plain": [
       "Index(['Length', 'Diameter', 'Height', 'Whole weight', 'Shucked weight',\n",
       "       'Viscera weight', 'Shell weight', 'Sex_F', 'Sex_I', 'Sex_M'],\n",
       "      dtype='object')"
      ]
     },
     "execution_count": 18,
     "metadata": {},
     "output_type": "execute_result"
    }
   ],
   "source": [
    "ab1_all = pd.get_dummies(ab1_all)\n",
    "ab1_all.columns"
   ]
  },
  {
   "cell_type": "code",
   "execution_count": 21,
   "id": "e3f30649",
   "metadata": {},
   "outputs": [
    {
     "data": {
      "text/plain": [
       "(4177, 10)"
      ]
     },
     "execution_count": 21,
     "metadata": {},
     "output_type": "execute_result"
    }
   ],
   "source": [
    "ab1_all.shape"
   ]
  },
  {
   "cell_type": "code",
   "execution_count": 22,
   "id": "88d946ab",
   "metadata": {},
   "outputs": [
    {
     "data": {
      "text/plain": [
       "9     689\n",
       "10    634\n",
       "8     568\n",
       "11    487\n",
       "7     391\n",
       "12    267\n",
       "6     259\n",
       "13    203\n",
       "14    126\n",
       "5     115\n",
       "15    103\n",
       "16     67\n",
       "17     58\n",
       "4      57\n",
       "18     42\n",
       "19     32\n",
       "20     26\n",
       "3      15\n",
       "21     14\n",
       "23      9\n",
       "22      6\n",
       "27      2\n",
       "24      2\n",
       "1       1\n",
       "26      1\n",
       "29      1\n",
       "2       1\n",
       "25      1\n",
       "Name: Rings, dtype: int64"
      ]
     },
     "execution_count": 22,
     "metadata": {},
     "output_type": "execute_result"
    }
   ],
   "source": [
    "target.value_counts()"
   ]
  },
  {
   "cell_type": "code",
   "execution_count": 24,
   "id": "9c02b500",
   "metadata": {},
   "outputs": [],
   "source": [
    "from sklearn import preprocessing\n",
    "ab1_unscaled = ab1_all.values\n",
    "ab1_minmax = preprocessing.MinMaxScaler().fit_transform(ab1_unscaled)"
   ]
  },
  {
   "cell_type": "code",
   "execution_count": 26,
   "id": "bc1617ac",
   "metadata": {},
   "outputs": [],
   "source": [
    "from sklearn.neighbors import KNeighborsClassifier\n",
    "clf = KNeighborsClassifier(n_neighbors=1)"
   ]
  },
  {
   "cell_type": "code",
   "execution_count": 29,
   "id": "c6ce0134",
   "metadata": {},
   "outputs": [],
   "source": [
    "from sklearn.model_selection import KFold, RepeatedStratifiedKFold, StratifiedKFold\n",
    "cv_method = RepeatedStratifiedKFold(n_splits=5,\n",
    "                                   n_repeats=3,\n",
    "                                   random_state=999)"
   ]
  },
  {
   "cell_type": "code",
   "execution_count": 33,
   "id": "d600c8d4",
   "metadata": {},
   "outputs": [
    {
     "name": "stderr",
     "output_type": "stream",
     "text": [
      "C:\\Users\\HUCON SOLUTIONS PVT\\anaconda3\\lib\\site-packages\\sklearn\\model_selection\\_split.py:666: UserWarning: The least populated class in y has only 1 members, which is less than n_splits=5.\n",
      "  warnings.warn((\"The least populated class in y has only %d\"\n",
      "C:\\Users\\HUCON SOLUTIONS PVT\\anaconda3\\lib\\site-packages\\sklearn\\model_selection\\_split.py:666: UserWarning: The least populated class in y has only 1 members, which is less than n_splits=5.\n",
      "  warnings.warn((\"The least populated class in y has only %d\"\n",
      "C:\\Users\\HUCON SOLUTIONS PVT\\anaconda3\\lib\\site-packages\\sklearn\\model_selection\\_split.py:666: UserWarning: The least populated class in y has only 1 members, which is less than n_splits=5.\n",
      "  warnings.warn((\"The least populated class in y has only %d\"\n"
     ]
    }
   ],
   "source": [
    "from sklearn.model_selection import cross_val_score\n",
    "from sklearn.preprocessing import MinMaxScaler\n",
    "scoring_metric = 'accuracy'\n",
    "cv_results_full = cross_val_score(estimator=clf,\n",
    "                                 X=ab1_minmax,\n",
    "                                 y=target,\n",
    "                                 cv=cv_method,\n",
    "                                 scoring=scoring_metric)"
   ]
  },
  {
   "cell_type": "code",
   "execution_count": 34,
   "id": "94408c9e",
   "metadata": {},
   "outputs": [
    {
     "data": {
      "text/plain": [
       "array([0.19258373, 0.20813397, 0.2       , 0.21077844, 0.21916168,\n",
       "       0.19856459, 0.20454545, 0.21317365, 0.19041916, 0.2011976 ,\n",
       "       0.21172249, 0.20813397, 0.19161677, 0.18323353, 0.19401198])"
      ]
     },
     "execution_count": 34,
     "metadata": {},
     "output_type": "execute_result"
    }
   ],
   "source": [
    "cv_results_full"
   ]
  },
  {
   "cell_type": "code",
   "execution_count": 35,
   "id": "1a2261ae",
   "metadata": {},
   "outputs": [
    {
     "data": {
      "text/plain": [
       "0.2018"
      ]
     },
     "execution_count": 35,
     "metadata": {},
     "output_type": "execute_result"
    }
   ],
   "source": [
    "cv_results_full.mean().round(4)"
   ]
  },
  {
   "cell_type": "code",
   "execution_count": null,
   "id": "62a40c2e",
   "metadata": {},
   "outputs": [],
   "source": [
    "#F Score"
   ]
  },
  {
   "cell_type": "code",
   "execution_count": 36,
   "id": "05800824",
   "metadata": {},
   "outputs": [],
   "source": [
    "num_features = 10"
   ]
  },
  {
   "cell_type": "code",
   "execution_count": 38,
   "id": "8c181f5c",
   "metadata": {},
   "outputs": [
    {
     "data": {
      "text/plain": [
       "array([1, 0, 6, 2, 3, 5, 4, 8, 7, 9], dtype=int64)"
      ]
     },
     "execution_count": 38,
     "metadata": {},
     "output_type": "execute_result"
    }
   ],
   "source": [
    "from sklearn import feature_selection as fs\n",
    "fs_fit_fscore = fs.SelectKBest(fs.f_classif, k=num_features)\n",
    "fs_fit_fscore.fit_transform(ab1_minmax, target)\n",
    "fs_indices_fscore = np.argsort(fs_fit_fscore.scores_)[::-1][0:num_features]\n",
    "fs_indices_fscore"
   ]
  },
  {
   "cell_type": "code",
   "execution_count": 39,
   "id": "c72dc1f3",
   "metadata": {},
   "outputs": [
    {
     "data": {
      "text/plain": [
       "Length            float64\n",
       "Diameter          float64\n",
       "Height            float64\n",
       "Whole weight      float64\n",
       "Shucked weight    float64\n",
       "Viscera weight    float64\n",
       "Shell weight      float64\n",
       "Sex_F               uint8\n",
       "Sex_I               uint8\n",
       "Sex_M               uint8\n",
       "dtype: object"
      ]
     },
     "execution_count": 39,
     "metadata": {},
     "output_type": "execute_result"
    }
   ],
   "source": [
    "ab1_all.dtypes"
   ]
  },
  {
   "cell_type": "code",
   "execution_count": 40,
   "id": "7e23d893",
   "metadata": {},
   "outputs": [
    {
     "data": {
      "text/plain": [
       "array(['Diameter', 'Length', 'Shell weight', 'Height', 'Whole weight',\n",
       "       'Viscera weight', 'Shucked weight', 'Sex_I', 'Sex_F', 'Sex_M'],\n",
       "      dtype=object)"
      ]
     },
     "execution_count": 40,
     "metadata": {},
     "output_type": "execute_result"
    }
   ],
   "source": [
    "best_features_fscore = ab1_all.columns[fs_indices_fscore].values\n",
    "best_features_fscore"
   ]
  },
  {
   "cell_type": "code",
   "execution_count": 41,
   "id": "a1a36167",
   "metadata": {},
   "outputs": [
    {
     "data": {
      "text/plain": [
       "array([196.43610528, 188.50942458, 147.23694566, 124.42771441,\n",
       "       113.71233973, 103.72143783,  80.79767682,  68.87047717,\n",
       "        15.78351983,  10.62934022])"
      ]
     },
     "execution_count": 41,
     "metadata": {},
     "output_type": "execute_result"
    }
   ],
   "source": [
    "feature_importances_fscore = fs_fit_fscore.scores_[fs_indices_fscore]\n",
    "feature_importances_fscore"
   ]
  },
  {
   "cell_type": "code",
   "execution_count": 80,
   "id": "be0e168e",
   "metadata": {},
   "outputs": [
    {
     "name": "stdout",
     "output_type": "stream",
     "text": [
      "Collecting altair\n",
      "  Downloading altair-4.2.0-py3-none-any.whl (812 kB)\n",
      "Requirement already satisfied: toolz in c:\\users\\hucon solutions pvt\\anaconda3\\lib\\site-packages (from altair) (0.11.1)\n",
      "Requirement already satisfied: pandas>=0.18 in c:\\users\\hucon solutions pvt\\anaconda3\\lib\\site-packages (from altair) (1.3.4)\n",
      "Requirement already satisfied: numpy in c:\\users\\hucon solutions pvt\\anaconda3\\lib\\site-packages (from altair) (1.20.3)\n",
      "Requirement already satisfied: entrypoints in c:\\users\\hucon solutions pvt\\anaconda3\\lib\\site-packages (from altair) (0.3)\n",
      "Requirement already satisfied: jsonschema>=3.0 in c:\\users\\hucon solutions pvt\\anaconda3\\lib\\site-packages (from altair) (3.2.0)\n",
      "Requirement already satisfied: jinja2 in c:\\users\\hucon solutions pvt\\anaconda3\\lib\\site-packages (from altair) (2.11.3)\n",
      "Requirement already satisfied: attrs>=17.4.0 in c:\\users\\hucon solutions pvt\\anaconda3\\lib\\site-packages (from jsonschema>=3.0->altair) (21.2.0)\n",
      "Requirement already satisfied: setuptools in c:\\users\\hucon solutions pvt\\anaconda3\\lib\\site-packages (from jsonschema>=3.0->altair) (58.0.4)\n",
      "Requirement already satisfied: pyrsistent>=0.14.0 in c:\\users\\hucon solutions pvt\\anaconda3\\lib\\site-packages (from jsonschema>=3.0->altair) (0.18.0)\n",
      "Requirement already satisfied: six>=1.11.0 in c:\\users\\hucon solutions pvt\\anaconda3\\lib\\site-packages (from jsonschema>=3.0->altair) (1.16.0)\n",
      "Requirement already satisfied: pytz>=2017.3 in c:\\users\\hucon solutions pvt\\anaconda3\\lib\\site-packages (from pandas>=0.18->altair) (2021.3)\n",
      "Requirement already satisfied: python-dateutil>=2.7.3 in c:\\users\\hucon solutions pvt\\anaconda3\\lib\\site-packages (from pandas>=0.18->altair) (2.8.2)\n",
      "Requirement already satisfied: MarkupSafe>=0.23 in c:\\users\\hucon solutions pvt\\anaconda3\\lib\\site-packages (from jinja2->altair) (1.1.1)\n",
      "Installing collected packages: altair\n",
      "Successfully installed altair-4.2.0\n"
     ]
    }
   ],
   "source": [
    "!pip install altair"
   ]
  },
  {
   "cell_type": "code",
   "execution_count": 82,
   "id": "a9706c95",
   "metadata": {},
   "outputs": [],
   "source": [
    "import altair as alt"
   ]
  },
  {
   "cell_type": "code",
   "execution_count": 83,
   "id": "9d79838d",
   "metadata": {},
   "outputs": [],
   "source": [
    "def plot_imp(best_features, scores, method_name, color):\n",
    " \n",
    " abalone = pd.DataFrame({'features': best_features,\n",
    " 'importances': scores})\n",
    " \n",
    " chart = alt.Chart(abalone,\n",
    " width=500,\n",
    " title=method_name + ' Feature Importances'\n",
    " ).mark_bar(opacity=0.75,\n",
    " color=color).encode(\n",
    " alt.X('features', title='Feature', sort=None, axis=alt.AxisConfig(labelAngle=45)),\n",
    " alt.Y('importances', title='Importance')\n",
    " )\n",
    " \n",
    " return chart"
   ]
  },
  {
   "cell_type": "code",
   "execution_count": 84,
   "id": "d16271a5",
   "metadata": {},
   "outputs": [
    {
     "name": "stderr",
     "output_type": "stream",
     "text": [
      "C:\\Users\\HUCON SOLUTIONS PVT\\anaconda3\\lib\\site-packages\\sklearn\\model_selection\\_split.py:666: UserWarning: The least populated class in y has only 1 members, which is less than n_splits=5.\n",
      "  warnings.warn((\"The least populated class in y has only %d\"\n",
      "C:\\Users\\HUCON SOLUTIONS PVT\\anaconda3\\lib\\site-packages\\sklearn\\model_selection\\_split.py:666: UserWarning: The least populated class in y has only 1 members, which is less than n_splits=5.\n",
      "  warnings.warn((\"The least populated class in y has only %d\"\n",
      "C:\\Users\\HUCON SOLUTIONS PVT\\anaconda3\\lib\\site-packages\\sklearn\\model_selection\\_split.py:666: UserWarning: The least populated class in y has only 1 members, which is less than n_splits=5.\n",
      "  warnings.warn((\"The least populated class in y has only %d\"\n"
     ]
    },
    {
     "data": {
      "text/plain": [
       "0.2025"
      ]
     },
     "execution_count": 84,
     "metadata": {},
     "output_type": "execute_result"
    }
   ],
   "source": [
    "cv_results_fscore = cross_val_score(estimator=clf,\n",
    " X=ab1_minmax[:, fs_indices_fscore[:8]],\n",
    " y=target,\n",
    " cv=cv_method,\n",
    " scoring=scoring_metric)\n",
    "cv_results_fscore.mean().round(4)"
   ]
  },
  {
   "cell_type": "code",
   "execution_count": null,
   "id": "21b7d0e1",
   "metadata": {},
   "outputs": [],
   "source": []
  },
  {
   "cell_type": "code",
   "execution_count": 85,
   "id": "3236713e",
   "metadata": {},
   "outputs": [
    {
     "data": {
      "text/html": [
       "\n",
       "<div id=\"altair-viz-6b727021de3c484ca7579145d728e7b3\"></div>\n",
       "<script type=\"text/javascript\">\n",
       "  var VEGA_DEBUG = (typeof VEGA_DEBUG == \"undefined\") ? {} : VEGA_DEBUG;\n",
       "  (function(spec, embedOpt){\n",
       "    let outputDiv = document.currentScript.previousElementSibling;\n",
       "    if (outputDiv.id !== \"altair-viz-6b727021de3c484ca7579145d728e7b3\") {\n",
       "      outputDiv = document.getElementById(\"altair-viz-6b727021de3c484ca7579145d728e7b3\");\n",
       "    }\n",
       "    const paths = {\n",
       "      \"vega\": \"https://cdn.jsdelivr.net/npm//vega@5?noext\",\n",
       "      \"vega-lib\": \"https://cdn.jsdelivr.net/npm//vega-lib?noext\",\n",
       "      \"vega-lite\": \"https://cdn.jsdelivr.net/npm//vega-lite@4.17.0?noext\",\n",
       "      \"vega-embed\": \"https://cdn.jsdelivr.net/npm//vega-embed@6?noext\",\n",
       "    };\n",
       "\n",
       "    function maybeLoadScript(lib, version) {\n",
       "      var key = `${lib.replace(\"-\", \"\")}_version`;\n",
       "      return (VEGA_DEBUG[key] == version) ?\n",
       "        Promise.resolve(paths[lib]) :\n",
       "        new Promise(function(resolve, reject) {\n",
       "          var s = document.createElement('script');\n",
       "          document.getElementsByTagName(\"head\")[0].appendChild(s);\n",
       "          s.async = true;\n",
       "          s.onload = () => {\n",
       "            VEGA_DEBUG[key] = version;\n",
       "            return resolve(paths[lib]);\n",
       "          };\n",
       "          s.onerror = () => reject(`Error loading script: ${paths[lib]}`);\n",
       "          s.src = paths[lib];\n",
       "        });\n",
       "    }\n",
       "\n",
       "    function showError(err) {\n",
       "      outputDiv.innerHTML = `<div class=\"error\" style=\"color:red;\">${err}</div>`;\n",
       "      throw err;\n",
       "    }\n",
       "\n",
       "    function displayChart(vegaEmbed) {\n",
       "      vegaEmbed(outputDiv, spec, embedOpt)\n",
       "        .catch(err => showError(`Javascript Error: ${err.message}<br>This usually means there's a typo in your chart specification. See the javascript console for the full traceback.`));\n",
       "    }\n",
       "\n",
       "    if(typeof define === \"function\" && define.amd) {\n",
       "      requirejs.config({paths});\n",
       "      require([\"vega-embed\"], displayChart, err => showError(`Error loading script: ${err.message}`));\n",
       "    } else {\n",
       "      maybeLoadScript(\"vega\", \"5\")\n",
       "        .then(() => maybeLoadScript(\"vega-lite\", \"4.17.0\"))\n",
       "        .then(() => maybeLoadScript(\"vega-embed\", \"6\"))\n",
       "        .catch(showError)\n",
       "        .then(() => displayChart(vegaEmbed));\n",
       "    }\n",
       "  })({\"config\": {\"view\": {\"continuousWidth\": 400, \"continuousHeight\": 300}}, \"data\": {\"name\": \"data-4435cb541caaa86b2e4940a86230d75b\"}, \"mark\": {\"type\": \"bar\", \"color\": \"blue\", \"opacity\": 0.75}, \"encoding\": {\"x\": {\"axis\": {\"labelAngle\": 45}, \"field\": \"features\", \"sort\": null, \"title\": \"Feature\", \"type\": \"nominal\"}, \"y\": {\"field\": \"importances\", \"title\": \"Importance\", \"type\": \"quantitative\"}}, \"title\": \"F-Score Feature Importances\", \"width\": 500, \"$schema\": \"https://vega.github.io/schema/vega-lite/v4.17.0.json\", \"datasets\": {\"data-4435cb541caaa86b2e4940a86230d75b\": [{\"features\": \"Diameter\", \"importances\": 196.43610528184706}, {\"features\": \"Length\", \"importances\": 188.50942457958263}, {\"features\": \"Shell weight\", \"importances\": 147.23694565832218}, {\"features\": \"Height\", \"importances\": 124.42771440609181}, {\"features\": \"Whole weight\", \"importances\": 113.71233973150558}, {\"features\": \"Viscera weight\", \"importances\": 103.7214378341033}, {\"features\": \"Shucked weight\", \"importances\": 80.79767682320175}, {\"features\": \"Sex_I\", \"importances\": 68.87047717189621}, {\"features\": \"Sex_F\", \"importances\": 15.783519829969476}, {\"features\": \"Sex_M\", \"importances\": 10.629340224063503}]}}, {\"mode\": \"vega-lite\"});\n",
       "</script>"
      ],
      "text/plain": [
       "alt.Chart(...)"
      ]
     },
     "execution_count": 85,
     "metadata": {},
     "output_type": "execute_result"
    }
   ],
   "source": [
    "plot_imp(best_features_fscore, feature_importances_fscore, 'F-Score', 'blue')"
   ]
  },
  {
   "cell_type": "code",
   "execution_count": null,
   "id": "d322a802",
   "metadata": {},
   "outputs": [],
   "source": [
    "#fs using mutual information"
   ]
  },
  {
   "cell_type": "code",
   "execution_count": 54,
   "id": "1e51174d",
   "metadata": {},
   "outputs": [
    {
     "data": {
      "text/plain": [
       "array(['Shell weight', 'Diameter', 'Height', 'Whole weight',\n",
       "       'Viscera weight', 'Length', 'Shucked weight', 'Sex_I', 'Sex_F',\n",
       "       'Sex_M'], dtype=object)"
      ]
     },
     "execution_count": 54,
     "metadata": {},
     "output_type": "execute_result"
    }
   ],
   "source": [
    "fs_fit_mutual_info = fs.SelectKBest(fs.mutual_info_classif, k=num_features)\n",
    "fs_fit_mutual_info.fit_transform(ab1_minmax, target)\n",
    "fs_indices_mutual_info = np.argsort(fs_fit_mutual_info.scores_)[::-1][0:num_features]\n",
    "best_features_mutual_info = ab1_all.columns[fs_indices_mutual_info].values\n",
    "best_features_mutual_info"
   ]
  },
  {
   "cell_type": "code",
   "execution_count": 55,
   "id": "8b3c05f7",
   "metadata": {},
   "outputs": [
    {
     "data": {
      "text/plain": [
       "array([0.45954723, 0.40479394, 0.38949394, 0.38897483, 0.37867451,\n",
       "       0.37074299, 0.32874121, 0.15257082, 0.06772601, 0.03799386])"
      ]
     },
     "execution_count": 55,
     "metadata": {},
     "output_type": "execute_result"
    }
   ],
   "source": [
    "feature_importances_mutual_info = fs_fit_mutual_info.scores_[fs_indices_mutual_info]\n",
    "feature_importances_mutual_info"
   ]
  },
  {
   "cell_type": "code",
   "execution_count": 59,
   "id": "f74cf259",
   "metadata": {},
   "outputs": [
    {
     "name": "stderr",
     "output_type": "stream",
     "text": [
      "C:\\Users\\HUCON SOLUTIONS PVT\\anaconda3\\lib\\site-packages\\sklearn\\model_selection\\_split.py:666: UserWarning: The least populated class in y has only 1 members, which is less than n_splits=5.\n",
      "  warnings.warn((\"The least populated class in y has only %d\"\n",
      "C:\\Users\\HUCON SOLUTIONS PVT\\anaconda3\\lib\\site-packages\\sklearn\\model_selection\\_split.py:666: UserWarning: The least populated class in y has only 1 members, which is less than n_splits=5.\n",
      "  warnings.warn((\"The least populated class in y has only %d\"\n",
      "C:\\Users\\HUCON SOLUTIONS PVT\\anaconda3\\lib\\site-packages\\sklearn\\model_selection\\_split.py:666: UserWarning: The least populated class in y has only 1 members, which is less than n_splits=5.\n",
      "  warnings.warn((\"The least populated class in y has only %d\"\n"
     ]
    },
    {
     "data": {
      "text/plain": [
       "0.2025"
      ]
     },
     "execution_count": 59,
     "metadata": {},
     "output_type": "execute_result"
    }
   ],
   "source": [
    "cv_results_mutual_info = cross_val_score(estimator=clf,\n",
    " X=ab1_minmax[:, fs_indices_mutual_info[:8]],\n",
    " y=target,\n",
    " cv=cv_method,\n",
    " scoring=scoring_metric)\n",
    "cv_results_mutual_info.mean().round(4)\n"
   ]
  },
  {
   "cell_type": "code",
   "execution_count": 86,
   "id": "1aa9a870",
   "metadata": {},
   "outputs": [
    {
     "data": {
      "text/html": [
       "\n",
       "<div id=\"altair-viz-03a9f4e02250454fa72c9d3141c0104b\"></div>\n",
       "<script type=\"text/javascript\">\n",
       "  var VEGA_DEBUG = (typeof VEGA_DEBUG == \"undefined\") ? {} : VEGA_DEBUG;\n",
       "  (function(spec, embedOpt){\n",
       "    let outputDiv = document.currentScript.previousElementSibling;\n",
       "    if (outputDiv.id !== \"altair-viz-03a9f4e02250454fa72c9d3141c0104b\") {\n",
       "      outputDiv = document.getElementById(\"altair-viz-03a9f4e02250454fa72c9d3141c0104b\");\n",
       "    }\n",
       "    const paths = {\n",
       "      \"vega\": \"https://cdn.jsdelivr.net/npm//vega@5?noext\",\n",
       "      \"vega-lib\": \"https://cdn.jsdelivr.net/npm//vega-lib?noext\",\n",
       "      \"vega-lite\": \"https://cdn.jsdelivr.net/npm//vega-lite@4.17.0?noext\",\n",
       "      \"vega-embed\": \"https://cdn.jsdelivr.net/npm//vega-embed@6?noext\",\n",
       "    };\n",
       "\n",
       "    function maybeLoadScript(lib, version) {\n",
       "      var key = `${lib.replace(\"-\", \"\")}_version`;\n",
       "      return (VEGA_DEBUG[key] == version) ?\n",
       "        Promise.resolve(paths[lib]) :\n",
       "        new Promise(function(resolve, reject) {\n",
       "          var s = document.createElement('script');\n",
       "          document.getElementsByTagName(\"head\")[0].appendChild(s);\n",
       "          s.async = true;\n",
       "          s.onload = () => {\n",
       "            VEGA_DEBUG[key] = version;\n",
       "            return resolve(paths[lib]);\n",
       "          };\n",
       "          s.onerror = () => reject(`Error loading script: ${paths[lib]}`);\n",
       "          s.src = paths[lib];\n",
       "        });\n",
       "    }\n",
       "\n",
       "    function showError(err) {\n",
       "      outputDiv.innerHTML = `<div class=\"error\" style=\"color:red;\">${err}</div>`;\n",
       "      throw err;\n",
       "    }\n",
       "\n",
       "    function displayChart(vegaEmbed) {\n",
       "      vegaEmbed(outputDiv, spec, embedOpt)\n",
       "        .catch(err => showError(`Javascript Error: ${err.message}<br>This usually means there's a typo in your chart specification. See the javascript console for the full traceback.`));\n",
       "    }\n",
       "\n",
       "    if(typeof define === \"function\" && define.amd) {\n",
       "      requirejs.config({paths});\n",
       "      require([\"vega-embed\"], displayChart, err => showError(`Error loading script: ${err.message}`));\n",
       "    } else {\n",
       "      maybeLoadScript(\"vega\", \"5\")\n",
       "        .then(() => maybeLoadScript(\"vega-lite\", \"4.17.0\"))\n",
       "        .then(() => maybeLoadScript(\"vega-embed\", \"6\"))\n",
       "        .catch(showError)\n",
       "        .then(() => displayChart(vegaEmbed));\n",
       "    }\n",
       "  })({\"config\": {\"view\": {\"continuousWidth\": 400, \"continuousHeight\": 300}}, \"data\": {\"name\": \"data-7dad98b64d31a7654408d91ae8569255\"}, \"mark\": {\"type\": \"bar\", \"color\": \"pink\", \"opacity\": 0.75}, \"encoding\": {\"x\": {\"axis\": {\"labelAngle\": 45}, \"field\": \"features\", \"sort\": null, \"title\": \"Feature\", \"type\": \"nominal\"}, \"y\": {\"field\": \"importances\", \"title\": \"Importance\", \"type\": \"quantitative\"}}, \"title\": \"Mutual Information Feature Importances\", \"width\": 500, \"$schema\": \"https://vega.github.io/schema/vega-lite/v4.17.0.json\", \"datasets\": {\"data-7dad98b64d31a7654408d91ae8569255\": [{\"features\": \"Shell weight\", \"importances\": 0.45954722814649696}, {\"features\": \"Diameter\", \"importances\": 0.40479394058963303}, {\"features\": \"Height\", \"importances\": 0.38949393908474494}, {\"features\": \"Whole weight\", \"importances\": 0.38897483196877936}, {\"features\": \"Viscera weight\", \"importances\": 0.3786745128791331}, {\"features\": \"Length\", \"importances\": 0.37074298832455943}, {\"features\": \"Shucked weight\", \"importances\": 0.3287412127393763}, {\"features\": \"Sex_I\", \"importances\": 0.15257082494129381}, {\"features\": \"Sex_F\", \"importances\": 0.06772600891172376}, {\"features\": \"Sex_M\", \"importances\": 0.037993862171152415}]}}, {\"mode\": \"vega-lite\"});\n",
       "</script>"
      ],
      "text/plain": [
       "alt.Chart(...)"
      ]
     },
     "execution_count": 86,
     "metadata": {},
     "output_type": "execute_result"
    }
   ],
   "source": [
    "plot_imp(best_features_mutual_info, feature_importances_mutual_info, 'Mutual Information', 'pink')"
   ]
  },
  {
   "cell_type": "code",
   "execution_count": null,
   "id": "d701103f",
   "metadata": {},
   "outputs": [],
   "source": [
    "#Random Forest Model"
   ]
  },
  {
   "cell_type": "code",
   "execution_count": 60,
   "id": "ee4dee14",
   "metadata": {},
   "outputs": [],
   "source": [
    "from sklearn.ensemble import RandomForestClassifier, ExtraTreesClassifier"
   ]
  },
  {
   "cell_type": "code",
   "execution_count": 61,
   "id": "828b29c1",
   "metadata": {},
   "outputs": [],
   "source": [
    "model_rfi = RandomForestClassifier(n_estimators=100)\n",
    "model_rfi.fit(ab1_minmax, target)\n",
    "fs_indices_rfi = np.argsort(model_rfi.feature_importances_)[::-1][0:num_features]"
   ]
  },
  {
   "cell_type": "code",
   "execution_count": 62,
   "id": "17aeaa19",
   "metadata": {},
   "outputs": [
    {
     "data": {
      "text/plain": [
       "array(['Shell weight', 'Shucked weight', 'Whole weight', 'Viscera weight',\n",
       "       'Length', 'Diameter', 'Height', 'Sex_F', 'Sex_M', 'Sex_I'],\n",
       "      dtype=object)"
      ]
     },
     "execution_count": 62,
     "metadata": {},
     "output_type": "execute_result"
    }
   ],
   "source": [
    "best_features_rfi = ab1_all.columns[fs_indices_rfi].values\n",
    "best_features_rfi"
   ]
  },
  {
   "cell_type": "code",
   "execution_count": 63,
   "id": "21b149fd",
   "metadata": {},
   "outputs": [
    {
     "data": {
      "text/plain": [
       "array([0.16265237, 0.15355083, 0.14991391, 0.1480885 , 0.11618823,\n",
       "       0.11566623, 0.10279527, 0.01814958, 0.01801308, 0.01498201])"
      ]
     },
     "execution_count": 63,
     "metadata": {},
     "output_type": "execute_result"
    }
   ],
   "source": [
    "feature_importances_rfi = model_rfi.feature_importances_[fs_indices_rfi]\n",
    "feature_importances_rfi"
   ]
  },
  {
   "cell_type": "code",
   "execution_count": 87,
   "id": "daf4d936",
   "metadata": {},
   "outputs": [
    {
     "data": {
      "text/html": [
       "\n",
       "<div id=\"altair-viz-abd4fc503a5a470b9d20bed5ec37e05c\"></div>\n",
       "<script type=\"text/javascript\">\n",
       "  var VEGA_DEBUG = (typeof VEGA_DEBUG == \"undefined\") ? {} : VEGA_DEBUG;\n",
       "  (function(spec, embedOpt){\n",
       "    let outputDiv = document.currentScript.previousElementSibling;\n",
       "    if (outputDiv.id !== \"altair-viz-abd4fc503a5a470b9d20bed5ec37e05c\") {\n",
       "      outputDiv = document.getElementById(\"altair-viz-abd4fc503a5a470b9d20bed5ec37e05c\");\n",
       "    }\n",
       "    const paths = {\n",
       "      \"vega\": \"https://cdn.jsdelivr.net/npm//vega@5?noext\",\n",
       "      \"vega-lib\": \"https://cdn.jsdelivr.net/npm//vega-lib?noext\",\n",
       "      \"vega-lite\": \"https://cdn.jsdelivr.net/npm//vega-lite@4.17.0?noext\",\n",
       "      \"vega-embed\": \"https://cdn.jsdelivr.net/npm//vega-embed@6?noext\",\n",
       "    };\n",
       "\n",
       "    function maybeLoadScript(lib, version) {\n",
       "      var key = `${lib.replace(\"-\", \"\")}_version`;\n",
       "      return (VEGA_DEBUG[key] == version) ?\n",
       "        Promise.resolve(paths[lib]) :\n",
       "        new Promise(function(resolve, reject) {\n",
       "          var s = document.createElement('script');\n",
       "          document.getElementsByTagName(\"head\")[0].appendChild(s);\n",
       "          s.async = true;\n",
       "          s.onload = () => {\n",
       "            VEGA_DEBUG[key] = version;\n",
       "            return resolve(paths[lib]);\n",
       "          };\n",
       "          s.onerror = () => reject(`Error loading script: ${paths[lib]}`);\n",
       "          s.src = paths[lib];\n",
       "        });\n",
       "    }\n",
       "\n",
       "    function showError(err) {\n",
       "      outputDiv.innerHTML = `<div class=\"error\" style=\"color:red;\">${err}</div>`;\n",
       "      throw err;\n",
       "    }\n",
       "\n",
       "    function displayChart(vegaEmbed) {\n",
       "      vegaEmbed(outputDiv, spec, embedOpt)\n",
       "        .catch(err => showError(`Javascript Error: ${err.message}<br>This usually means there's a typo in your chart specification. See the javascript console for the full traceback.`));\n",
       "    }\n",
       "\n",
       "    if(typeof define === \"function\" && define.amd) {\n",
       "      requirejs.config({paths});\n",
       "      require([\"vega-embed\"], displayChart, err => showError(`Error loading script: ${err.message}`));\n",
       "    } else {\n",
       "      maybeLoadScript(\"vega\", \"5\")\n",
       "        .then(() => maybeLoadScript(\"vega-lite\", \"4.17.0\"))\n",
       "        .then(() => maybeLoadScript(\"vega-embed\", \"6\"))\n",
       "        .catch(showError)\n",
       "        .then(() => displayChart(vegaEmbed));\n",
       "    }\n",
       "  })({\"config\": {\"view\": {\"continuousWidth\": 400, \"continuousHeight\": 300}}, \"data\": {\"name\": \"data-8e0af7c58f922c13f8e3dd83d1969e8e\"}, \"mark\": {\"type\": \"bar\", \"color\": \"green\", \"opacity\": 0.75}, \"encoding\": {\"x\": {\"axis\": {\"labelAngle\": 45}, \"field\": \"features\", \"sort\": null, \"title\": \"Feature\", \"type\": \"nominal\"}, \"y\": {\"field\": \"importances\", \"title\": \"Importance\", \"type\": \"quantitative\"}}, \"title\": \"Random Forest Feature Importances\", \"width\": 500, \"$schema\": \"https://vega.github.io/schema/vega-lite/v4.17.0.json\", \"datasets\": {\"data-8e0af7c58f922c13f8e3dd83d1969e8e\": [{\"features\": \"Shell weight\", \"importances\": 0.1626523731699304}, {\"features\": \"Shucked weight\", \"importances\": 0.15355082535160655}, {\"features\": \"Whole weight\", \"importances\": 0.14991391398829224}, {\"features\": \"Viscera weight\", \"importances\": 0.14808849736234}, {\"features\": \"Length\", \"importances\": 0.11618822798679722}, {\"features\": \"Diameter\", \"importances\": 0.11566622815757514}, {\"features\": \"Height\", \"importances\": 0.1027952714378959}, {\"features\": \"Sex_F\", \"importances\": 0.018149575311605912}, {\"features\": \"Sex_M\", \"importances\": 0.018013078605336654}, {\"features\": \"Sex_I\", \"importances\": 0.014982008628619883}]}}, {\"mode\": \"vega-lite\"});\n",
       "</script>"
      ],
      "text/plain": [
       "alt.Chart(...)"
      ]
     },
     "execution_count": 87,
     "metadata": {},
     "output_type": "execute_result"
    }
   ],
   "source": [
    "plot_imp(best_features_rfi, feature_importances_rfi, 'Random Forest', 'green')"
   ]
  },
  {
   "cell_type": "code",
   "execution_count": 89,
   "id": "d2bfc42a",
   "metadata": {},
   "outputs": [
    {
     "name": "stderr",
     "output_type": "stream",
     "text": [
      "C:\\Users\\HUCON SOLUTIONS PVT\\anaconda3\\lib\\site-packages\\sklearn\\model_selection\\_split.py:666: UserWarning: The least populated class in y has only 1 members, which is less than n_splits=5.\n",
      "  warnings.warn((\"The least populated class in y has only %d\"\n",
      "C:\\Users\\HUCON SOLUTIONS PVT\\anaconda3\\lib\\site-packages\\sklearn\\model_selection\\_split.py:666: UserWarning: The least populated class in y has only 1 members, which is less than n_splits=5.\n",
      "  warnings.warn((\"The least populated class in y has only %d\"\n",
      "C:\\Users\\HUCON SOLUTIONS PVT\\anaconda3\\lib\\site-packages\\sklearn\\model_selection\\_split.py:666: UserWarning: The least populated class in y has only 1 members, which is less than n_splits=5.\n",
      "  warnings.warn((\"The least populated class in y has only %d\"\n"
     ]
    },
    {
     "data": {
      "text/plain": [
       "0.2116"
      ]
     },
     "execution_count": 89,
     "metadata": {},
     "output_type": "execute_result"
    }
   ],
   "source": [
    "cv_results_rfi = cross_val_score(estimator=clf,\n",
    " X=ab1_minmax[:, fs_indices_rfi[:5]],\n",
    " y=target,\n",
    " cv=cv_method,\n",
    " scoring=scoring_metric)\n",
    "cv_results_rfi.mean().round(4)"
   ]
  },
  {
   "cell_type": "code",
   "execution_count": 96,
   "id": "36136eb3",
   "metadata": {},
   "outputs": [
    {
     "name": "stdout",
     "output_type": "stream",
     "text": [
      "Ttest_relResult(statistic=2.702836791350596, pvalue=0.017161043382258018)\n",
      "Ttest_relResult(statistic=2.702836791350596, pvalue=0.017161043382258018)\n",
      "Ttest_relResult(statistic=nan, pvalue=nan)\n"
     ]
    }
   ],
   "source": [
    "from scipy import stats\n",
    "print(stats.ttest_rel(cv_results_rfi, cv_results_fscore))\n",
    "print(stats.ttest_rel(cv_results_rfi, cv_results_mutual_info))\n",
    "print(stats.ttest_rel(cv_results_mutual_info, cv_results_fscore)) # they are equal"
   ]
  },
  {
   "cell_type": "code",
   "execution_count": 97,
   "id": "de315696",
   "metadata": {},
   "outputs": [
    {
     "name": "stdout",
     "output_type": "stream",
     "text": [
      "Ttest_relResult(statistic=3.069620795234529, pvalue=0.008319423198012177)\n"
     ]
    }
   ],
   "source": [
    "print(stats.ttest_rel(cv_results_rfi, cv_results_full))"
   ]
  },
  {
   "cell_type": "code",
   "execution_count": 98,
   "id": "a8f9df56",
   "metadata": {},
   "outputs": [
    {
     "data": {
      "text/plain": [
       "Index(['Shell weight', 'Shucked weight', 'Whole weight', 'Viscera weight',\n",
       "       'Length'],\n",
       "      dtype='object')"
      ]
     },
     "execution_count": 98,
     "metadata": {},
     "output_type": "execute_result"
    }
   ],
   "source": [
    "ab1_all.columns[fs_indices_rfi[:5]]"
   ]
  },
  {
   "cell_type": "code",
   "execution_count": 99,
   "id": "ba1a2157",
   "metadata": {},
   "outputs": [],
   "source": [
    "ab1_minmax_df = pd.DataFrame(data = ab1_minmax,columns = ab1_all.columns)"
   ]
  },
  {
   "cell_type": "code",
   "execution_count": 101,
   "id": "c4007444",
   "metadata": {},
   "outputs": [],
   "source": [
    "ab1_rfi = ab1_minmax_df[ab1_all.columns[fs_indices_rfi[:5]].values]"
   ]
  },
  {
   "cell_type": "code",
   "execution_count": 103,
   "id": "2472a7a8",
   "metadata": {},
   "outputs": [],
   "source": [
    "ab1_rfi = ab1_rfi.values"
   ]
  },
  {
   "cell_type": "code",
   "execution_count": null,
   "id": "a2b35528",
   "metadata": {},
   "outputs": [],
   "source": [
    "#Hyper Parameter Tuning"
   ]
  },
  {
   "cell_type": "code",
   "execution_count": 90,
   "id": "ef69f0e1",
   "metadata": {},
   "outputs": [],
   "source": [
    "cv_method = RepeatedStratifiedKFold(n_splits=10,\n",
    " n_repeats=3,\n",
    " random_state=4)"
   ]
  },
  {
   "cell_type": "code",
   "execution_count": 91,
   "id": "608505b7",
   "metadata": {},
   "outputs": [],
   "source": [
    "params_KNN = {'n_neighbors': [2, 4, 8, 16, 32, 64],'p': [1, 2]}"
   ]
  },
  {
   "cell_type": "code",
   "execution_count": 92,
   "id": "55c2f8d2",
   "metadata": {},
   "outputs": [],
   "source": [
    "from sklearn.model_selection import GridSearchCV\n",
    "gs_KNN = GridSearchCV(estimator=KNeighborsClassifier(),\n",
    " param_grid=params_KNN,\n",
    " cv=cv_method,\n",
    " verbose=1, # verbose: the higher, the more messages\n",
    " scoring='accuracy',\n",
    " return_train_score=True)"
   ]
  },
  {
   "cell_type": "code",
   "execution_count": 104,
   "id": "532d1da0",
   "metadata": {},
   "outputs": [
    {
     "name": "stdout",
     "output_type": "stream",
     "text": [
      "Fitting 30 folds for each of 12 candidates, totalling 360 fits\n"
     ]
    },
    {
     "name": "stderr",
     "output_type": "stream",
     "text": [
      "C:\\Users\\HUCON SOLUTIONS PVT\\anaconda3\\lib\\site-packages\\sklearn\\model_selection\\_split.py:666: UserWarning: The least populated class in y has only 1 members, which is less than n_splits=10.\n",
      "  warnings.warn((\"The least populated class in y has only %d\"\n",
      "C:\\Users\\HUCON SOLUTIONS PVT\\anaconda3\\lib\\site-packages\\sklearn\\model_selection\\_split.py:666: UserWarning: The least populated class in y has only 1 members, which is less than n_splits=10.\n",
      "  warnings.warn((\"The least populated class in y has only %d\"\n",
      "C:\\Users\\HUCON SOLUTIONS PVT\\anaconda3\\lib\\site-packages\\sklearn\\model_selection\\_split.py:666: UserWarning: The least populated class in y has only 1 members, which is less than n_splits=10.\n",
      "  warnings.warn((\"The least populated class in y has only %d\"\n"
     ]
    }
   ],
   "source": [
    "gs_KNN.fit(ab1_rfi, target);"
   ]
  },
  {
   "cell_type": "code",
   "execution_count": 105,
   "id": "b603d321",
   "metadata": {},
   "outputs": [
    {
     "data": {
      "text/plain": [
       "{'n_neighbors': 64, 'p': 1}"
      ]
     },
     "execution_count": 105,
     "metadata": {},
     "output_type": "execute_result"
    }
   ],
   "source": [
    "gs_KNN.best_params_"
   ]
  },
  {
   "cell_type": "code",
   "execution_count": 106,
   "id": "d44cd534",
   "metadata": {},
   "outputs": [
    {
     "data": {
      "text/plain": [
       "0.26949311364305684"
      ]
     },
     "execution_count": 106,
     "metadata": {},
     "output_type": "execute_result"
    }
   ],
   "source": [
    "gs_KNN.best_score_"
   ]
  },
  {
   "cell_type": "code",
   "execution_count": 107,
   "id": "5fbcdcd9",
   "metadata": {},
   "outputs": [],
   "source": [
    "results_KNN = pd.DataFrame(gs_KNN.cv_results_['params'])"
   ]
  },
  {
   "cell_type": "code",
   "execution_count": 108,
   "id": "ee1c9f12",
   "metadata": {},
   "outputs": [],
   "source": [
    "results_KNN['test_score'] = gs_KNN.cv_results_['mean_test_score']"
   ]
  },
  {
   "cell_type": "code",
   "execution_count": 109,
   "id": "71768ca5",
   "metadata": {},
   "outputs": [
    {
     "data": {
      "text/html": [
       "<div>\n",
       "<style scoped>\n",
       "    .dataframe tbody tr th:only-of-type {\n",
       "        vertical-align: middle;\n",
       "    }\n",
       "\n",
       "    .dataframe tbody tr th {\n",
       "        vertical-align: top;\n",
       "    }\n",
       "\n",
       "    .dataframe thead th {\n",
       "        text-align: right;\n",
       "    }\n",
       "</style>\n",
       "<table border=\"1\" class=\"dataframe\">\n",
       "  <thead>\n",
       "    <tr style=\"text-align: right;\">\n",
       "      <th></th>\n",
       "      <th>n_neighbors</th>\n",
       "      <th>p</th>\n",
       "      <th>test_score</th>\n",
       "      <th>metric</th>\n",
       "    </tr>\n",
       "  </thead>\n",
       "  <tbody>\n",
       "    <tr>\n",
       "      <th>0</th>\n",
       "      <td>2</td>\n",
       "      <td>1</td>\n",
       "      <td>0.219376</td>\n",
       "      <td>Manhattan</td>\n",
       "    </tr>\n",
       "    <tr>\n",
       "      <th>1</th>\n",
       "      <td>2</td>\n",
       "      <td>2</td>\n",
       "      <td>0.219778</td>\n",
       "      <td>Euclidean</td>\n",
       "    </tr>\n",
       "    <tr>\n",
       "      <th>2</th>\n",
       "      <td>4</td>\n",
       "      <td>1</td>\n",
       "      <td>0.220813</td>\n",
       "      <td>Manhattan</td>\n",
       "    </tr>\n",
       "    <tr>\n",
       "      <th>3</th>\n",
       "      <td>4</td>\n",
       "      <td>2</td>\n",
       "      <td>0.218742</td>\n",
       "      <td>Euclidean</td>\n",
       "    </tr>\n",
       "    <tr>\n",
       "      <th>4</th>\n",
       "      <td>8</td>\n",
       "      <td>1</td>\n",
       "      <td>0.244437</td>\n",
       "      <td>Manhattan</td>\n",
       "    </tr>\n",
       "    <tr>\n",
       "      <th>5</th>\n",
       "      <td>8</td>\n",
       "      <td>2</td>\n",
       "      <td>0.245074</td>\n",
       "      <td>Euclidean</td>\n",
       "    </tr>\n",
       "    <tr>\n",
       "      <th>6</th>\n",
       "      <td>16</td>\n",
       "      <td>1</td>\n",
       "      <td>0.251536</td>\n",
       "      <td>Manhattan</td>\n",
       "    </tr>\n",
       "    <tr>\n",
       "      <th>7</th>\n",
       "      <td>16</td>\n",
       "      <td>2</td>\n",
       "      <td>0.254729</td>\n",
       "      <td>Euclidean</td>\n",
       "    </tr>\n",
       "    <tr>\n",
       "      <th>8</th>\n",
       "      <td>32</td>\n",
       "      <td>1</td>\n",
       "      <td>0.259600</td>\n",
       "      <td>Manhattan</td>\n",
       "    </tr>\n",
       "    <tr>\n",
       "      <th>9</th>\n",
       "      <td>32</td>\n",
       "      <td>2</td>\n",
       "      <td>0.262789</td>\n",
       "      <td>Euclidean</td>\n",
       "    </tr>\n",
       "    <tr>\n",
       "      <th>10</th>\n",
       "      <td>64</td>\n",
       "      <td>1</td>\n",
       "      <td>0.269493</td>\n",
       "      <td>Manhattan</td>\n",
       "    </tr>\n",
       "    <tr>\n",
       "      <th>11</th>\n",
       "      <td>64</td>\n",
       "      <td>2</td>\n",
       "      <td>0.269012</td>\n",
       "      <td>Euclidean</td>\n",
       "    </tr>\n",
       "  </tbody>\n",
       "</table>\n",
       "</div>"
      ],
      "text/plain": [
       "    n_neighbors  p  test_score     metric\n",
       "0             2  1    0.219376  Manhattan\n",
       "1             2  2    0.219778  Euclidean\n",
       "2             4  1    0.220813  Manhattan\n",
       "3             4  2    0.218742  Euclidean\n",
       "4             8  1    0.244437  Manhattan\n",
       "5             8  2    0.245074  Euclidean\n",
       "6            16  1    0.251536  Manhattan\n",
       "7            16  2    0.254729  Euclidean\n",
       "8            32  1    0.259600  Manhattan\n",
       "9            32  2    0.262789  Euclidean\n",
       "10           64  1    0.269493  Manhattan\n",
       "11           64  2    0.269012  Euclidean"
      ]
     },
     "execution_count": 109,
     "metadata": {},
     "output_type": "execute_result"
    }
   ],
   "source": [
    "results_KNN['metric'] = results_KNN['p'].replace([1,2,3], [\"Manhattan\", \"Euclidean\", \"Minkowski\"\n",
    "])\n",
    "results_KNN"
   ]
  },
  {
   "cell_type": "code",
   "execution_count": 110,
   "id": "3a029f1a",
   "metadata": {},
   "outputs": [
    {
     "data": {
      "text/html": [
       "\n",
       "<div id=\"altair-viz-e8e820e6058649278ad3194fd7419e5f\"></div>\n",
       "<script type=\"text/javascript\">\n",
       "  var VEGA_DEBUG = (typeof VEGA_DEBUG == \"undefined\") ? {} : VEGA_DEBUG;\n",
       "  (function(spec, embedOpt){\n",
       "    let outputDiv = document.currentScript.previousElementSibling;\n",
       "    if (outputDiv.id !== \"altair-viz-e8e820e6058649278ad3194fd7419e5f\") {\n",
       "      outputDiv = document.getElementById(\"altair-viz-e8e820e6058649278ad3194fd7419e5f\");\n",
       "    }\n",
       "    const paths = {\n",
       "      \"vega\": \"https://cdn.jsdelivr.net/npm//vega@5?noext\",\n",
       "      \"vega-lib\": \"https://cdn.jsdelivr.net/npm//vega-lib?noext\",\n",
       "      \"vega-lite\": \"https://cdn.jsdelivr.net/npm//vega-lite@4.17.0?noext\",\n",
       "      \"vega-embed\": \"https://cdn.jsdelivr.net/npm//vega-embed@6?noext\",\n",
       "    };\n",
       "\n",
       "    function maybeLoadScript(lib, version) {\n",
       "      var key = `${lib.replace(\"-\", \"\")}_version`;\n",
       "      return (VEGA_DEBUG[key] == version) ?\n",
       "        Promise.resolve(paths[lib]) :\n",
       "        new Promise(function(resolve, reject) {\n",
       "          var s = document.createElement('script');\n",
       "          document.getElementsByTagName(\"head\")[0].appendChild(s);\n",
       "          s.async = true;\n",
       "          s.onload = () => {\n",
       "            VEGA_DEBUG[key] = version;\n",
       "            return resolve(paths[lib]);\n",
       "          };\n",
       "          s.onerror = () => reject(`Error loading script: ${paths[lib]}`);\n",
       "          s.src = paths[lib];\n",
       "        });\n",
       "    }\n",
       "\n",
       "    function showError(err) {\n",
       "      outputDiv.innerHTML = `<div class=\"error\" style=\"color:red;\">${err}</div>`;\n",
       "      throw err;\n",
       "    }\n",
       "\n",
       "    function displayChart(vegaEmbed) {\n",
       "      vegaEmbed(outputDiv, spec, embedOpt)\n",
       "        .catch(err => showError(`Javascript Error: ${err.message}<br>This usually means there's a typo in your chart specification. See the javascript console for the full traceback.`));\n",
       "    }\n",
       "\n",
       "    if(typeof define === \"function\" && define.amd) {\n",
       "      requirejs.config({paths});\n",
       "      require([\"vega-embed\"], displayChart, err => showError(`Error loading script: ${err.message}`));\n",
       "    } else {\n",
       "      maybeLoadScript(\"vega\", \"5\")\n",
       "        .then(() => maybeLoadScript(\"vega-lite\", \"4.17.0\"))\n",
       "        .then(() => maybeLoadScript(\"vega-embed\", \"6\"))\n",
       "        .catch(showError)\n",
       "        .then(() => displayChart(vegaEmbed));\n",
       "    }\n",
       "  })({\"config\": {\"view\": {\"continuousWidth\": 400, \"continuousHeight\": 300}}, \"data\": {\"name\": \"data-2711bb66e4549bb7cb0223d142e87381\"}, \"mark\": {\"type\": \"line\", \"point\": true}, \"encoding\": {\"color\": {\"field\": \"metric\", \"type\": \"nominal\"}, \"x\": {\"field\": \"n_neighbors\", \"title\": \"Number of Neighbors\", \"type\": \"quantitative\"}, \"y\": {\"field\": \"test_score\", \"scale\": {\"zero\": false}, \"title\": \"Mean CV Score\", \"type\": \"quantitative\"}}, \"title\": \"KNN Performance Comparison\", \"$schema\": \"https://vega.github.io/schema/vega-lite/v4.17.0.json\", \"datasets\": {\"data-2711bb66e4549bb7cb0223d142e87381\": [{\"n_neighbors\": 2, \"p\": 1, \"test_score\": 0.21937626931947263, \"metric\": \"Manhattan\"}, {\"n_neighbors\": 2, \"p\": 2, \"test_score\": 0.21977767068641735, \"metric\": \"Euclidean\"}, {\"n_neighbors\": 4, \"p\": 1, \"test_score\": 0.22081320589461445, \"metric\": \"Manhattan\"}, {\"n_neighbors\": 4, \"p\": 2, \"test_score\": 0.21874175300907603, \"metric\": \"Euclidean\"}, {\"n_neighbors\": 8, \"p\": 1, \"test_score\": 0.2444373687652749, \"metric\": \"Manhattan\"}, {\"n_neighbors\": 8, \"p\": 2, \"test_score\": 0.24507398865596516, \"metric\": \"Euclidean\"}, {\"n_neighbors\": 16, \"p\": 1, \"test_score\": 0.2515356136143717, \"metric\": \"Manhattan\"}, {\"n_neighbors\": 16, \"p\": 2, \"test_score\": 0.2547292309692916, \"metric\": \"Euclidean\"}, {\"n_neighbors\": 32, \"p\": 1, \"test_score\": 0.2595995930528305, \"metric\": \"Manhattan\"}, {\"n_neighbors\": 32, \"p\": 2, \"test_score\": 0.26278862077801873, \"metric\": \"Euclidean\"}, {\"n_neighbors\": 64, \"p\": 1, \"test_score\": 0.26949311364305684, \"metric\": \"Manhattan\"}, {\"n_neighbors\": 64, \"p\": 2, \"test_score\": 0.2690119674595252, \"metric\": \"Euclidean\"}]}}, {\"mode\": \"vega-lite\"});\n",
       "</script>"
      ],
      "text/plain": [
       "alt.Chart(...)"
      ]
     },
     "execution_count": 110,
     "metadata": {},
     "output_type": "execute_result"
    }
   ],
   "source": [
    "alt.Chart(results_KNN,\n",
    " title='KNN Performance Comparison'\n",
    " ).mark_line(point=True).encode(\n",
    " alt.X('n_neighbors', title='Number of Neighbors'),\n",
    " alt.Y('test_score', title='Mean CV Score', scale=alt.Scale(zero=False)),\n",
    " color='metric'\n",
    ")"
   ]
  },
  {
   "cell_type": "code",
   "execution_count": null,
   "id": "cbcdd5bd",
   "metadata": {},
   "outputs": [],
   "source": [
    "#Decision Tree"
   ]
  },
  {
   "cell_type": "code",
   "execution_count": 112,
   "id": "2557610b",
   "metadata": {},
   "outputs": [
    {
     "name": "stdout",
     "output_type": "stream",
     "text": [
      "Fitting 15 folds for each of 32 candidates, totalling 480 fits\n"
     ]
    },
    {
     "name": "stderr",
     "output_type": "stream",
     "text": [
      "C:\\Users\\HUCON SOLUTIONS PVT\\anaconda3\\lib\\site-packages\\sklearn\\model_selection\\_split.py:666: UserWarning: The least populated class in y has only 1 members, which is less than n_splits=5.\n",
      "  warnings.warn((\"The least populated class in y has only %d\"\n",
      "C:\\Users\\HUCON SOLUTIONS PVT\\anaconda3\\lib\\site-packages\\sklearn\\model_selection\\_split.py:666: UserWarning: The least populated class in y has only 1 members, which is less than n_splits=5.\n",
      "  warnings.warn((\"The least populated class in y has only %d\"\n",
      "C:\\Users\\HUCON SOLUTIONS PVT\\anaconda3\\lib\\site-packages\\sklearn\\model_selection\\_split.py:666: UserWarning: The least populated class in y has only 1 members, which is less than n_splits=5.\n",
      "  warnings.warn((\"The least populated class in y has only %d\"\n"
     ]
    }
   ],
   "source": [
    "from sklearn import tree\n",
    "from sklearn.tree import DecisionTreeClassifier\n",
    "abalone_classifier = DecisionTreeClassifier(random_state=4)\n",
    "params_DT = {'criterion': ['gini', 'entropy'],\n",
    " 'max_depth': [1, 2, 3, 4, 5, 6, 7, 8],\n",
    " 'min_samples_split': [2, 3]}\n",
    "cv_method = RepeatedStratifiedKFold(n_splits=5,\n",
    " n_repeats=3,\n",
    " random_state=999)\n",
    "gs_DT = GridSearchCV(estimator=abalone_classifier,\n",
    " param_grid=params_DT,\n",
    " cv=cv_method,\n",
    " verbose=1,\n",
    " scoring='accuracy')\n",
    "gs_DT.fit(ab1_rfi, target);"
   ]
  },
  {
   "cell_type": "code",
   "execution_count": 113,
   "id": "3650d732",
   "metadata": {},
   "outputs": [
    {
     "data": {
      "text/plain": [
       "{'criterion': 'entropy', 'max_depth': 4, 'min_samples_split': 2}"
      ]
     },
     "execution_count": 113,
     "metadata": {},
     "output_type": "execute_result"
    }
   ],
   "source": [
    "gs_DT.best_params_"
   ]
  },
  {
   "cell_type": "code",
   "execution_count": 114,
   "id": "af588481",
   "metadata": {},
   "outputs": [
    {
     "data": {
      "text/plain": [
       "0.2669356979820264"
      ]
     },
     "execution_count": 114,
     "metadata": {},
     "output_type": "execute_result"
    }
   ],
   "source": [
    "gs_DT.best_score_"
   ]
  },
  {
   "cell_type": "code",
   "execution_count": 115,
   "id": "93f446e1",
   "metadata": {},
   "outputs": [
    {
     "data": {
      "text/plain": [
       "Index(['criterion', 'max_depth', 'min_samples_split', 'test_score'], dtype='object')"
      ]
     },
     "execution_count": 115,
     "metadata": {},
     "output_type": "execute_result"
    }
   ],
   "source": [
    "results_DT = pd.DataFrame(gs_DT.cv_results_['params'])\n",
    "results_DT['test_score'] = gs_DT.cv_results_['mean_test_score']\n",
    "results_DT.columns"
   ]
  },
  {
   "cell_type": "code",
   "execution_count": 116,
   "id": "921e828c",
   "metadata": {},
   "outputs": [
    {
     "data": {
      "text/html": [
       "\n",
       "<div id=\"altair-viz-59b09dde97d643588c7c945d55b2c3a0\"></div>\n",
       "<script type=\"text/javascript\">\n",
       "  var VEGA_DEBUG = (typeof VEGA_DEBUG == \"undefined\") ? {} : VEGA_DEBUG;\n",
       "  (function(spec, embedOpt){\n",
       "    let outputDiv = document.currentScript.previousElementSibling;\n",
       "    if (outputDiv.id !== \"altair-viz-59b09dde97d643588c7c945d55b2c3a0\") {\n",
       "      outputDiv = document.getElementById(\"altair-viz-59b09dde97d643588c7c945d55b2c3a0\");\n",
       "    }\n",
       "    const paths = {\n",
       "      \"vega\": \"https://cdn.jsdelivr.net/npm//vega@5?noext\",\n",
       "      \"vega-lib\": \"https://cdn.jsdelivr.net/npm//vega-lib?noext\",\n",
       "      \"vega-lite\": \"https://cdn.jsdelivr.net/npm//vega-lite@4.17.0?noext\",\n",
       "      \"vega-embed\": \"https://cdn.jsdelivr.net/npm//vega-embed@6?noext\",\n",
       "    };\n",
       "\n",
       "    function maybeLoadScript(lib, version) {\n",
       "      var key = `${lib.replace(\"-\", \"\")}_version`;\n",
       "      return (VEGA_DEBUG[key] == version) ?\n",
       "        Promise.resolve(paths[lib]) :\n",
       "        new Promise(function(resolve, reject) {\n",
       "          var s = document.createElement('script');\n",
       "          document.getElementsByTagName(\"head\")[0].appendChild(s);\n",
       "          s.async = true;\n",
       "          s.onload = () => {\n",
       "            VEGA_DEBUG[key] = version;\n",
       "            return resolve(paths[lib]);\n",
       "          };\n",
       "          s.onerror = () => reject(`Error loading script: ${paths[lib]}`);\n",
       "          s.src = paths[lib];\n",
       "        });\n",
       "    }\n",
       "\n",
       "    function showError(err) {\n",
       "      outputDiv.innerHTML = `<div class=\"error\" style=\"color:red;\">${err}</div>`;\n",
       "      throw err;\n",
       "    }\n",
       "\n",
       "    function displayChart(vegaEmbed) {\n",
       "      vegaEmbed(outputDiv, spec, embedOpt)\n",
       "        .catch(err => showError(`Javascript Error: ${err.message}<br>This usually means there's a typo in your chart specification. See the javascript console for the full traceback.`));\n",
       "    }\n",
       "\n",
       "    if(typeof define === \"function\" && define.amd) {\n",
       "      requirejs.config({paths});\n",
       "      require([\"vega-embed\"], displayChart, err => showError(`Error loading script: ${err.message}`));\n",
       "    } else {\n",
       "      maybeLoadScript(\"vega\", \"5\")\n",
       "        .then(() => maybeLoadScript(\"vega-lite\", \"4.17.0\"))\n",
       "        .then(() => maybeLoadScript(\"vega-embed\", \"6\"))\n",
       "        .catch(showError)\n",
       "        .then(() => displayChart(vegaEmbed));\n",
       "    }\n",
       "  })({\"config\": {\"view\": {\"continuousWidth\": 400, \"continuousHeight\": 300}}, \"data\": {\"name\": \"data-9c85fb95632d4e150580e9ca5e4c1d62\"}, \"mark\": {\"type\": \"line\", \"point\": true}, \"encoding\": {\"color\": {\"field\": \"criterion\", \"type\": \"nominal\"}, \"x\": {\"field\": \"max_depth\", \"title\": \"Maximum Depth\", \"type\": \"quantitative\"}, \"y\": {\"aggregate\": \"average\", \"field\": \"test_score\", \"scale\": {\"zero\": false}, \"title\": \"Mean CV Score\", \"type\": \"quantitative\"}}, \"title\": \"DT Performance Comparison\", \"$schema\": \"https://vega.github.io/schema/vega-lite/v4.17.0.json\", \"datasets\": {\"data-9c85fb95632d4e150580e9ca5e4c1d62\": [{\"criterion\": \"gini\", \"max_depth\": 1, \"min_samples_split\": 2, \"test_score\": 0.2107572414978655}, {\"criterion\": \"gini\", \"max_depth\": 1, \"min_samples_split\": 3, \"test_score\": 0.2107572414978655}, {\"criterion\": \"gini\", \"max_depth\": 2, \"min_samples_split\": 2, \"test_score\": 0.2459493453284818}, {\"criterion\": \"gini\", \"max_depth\": 2, \"min_samples_split\": 3, \"test_score\": 0.2459493453284818}, {\"criterion\": \"gini\", \"max_depth\": 3, \"min_samples_split\": 2, \"test_score\": 0.2539279336064712}, {\"criterion\": \"gini\", \"max_depth\": 3, \"min_samples_split\": 3, \"test_score\": 0.2539279336064712}, {\"criterion\": \"gini\", \"max_depth\": 4, \"min_samples_split\": 2, \"test_score\": 0.26382431309629545}, {\"criterion\": \"gini\", \"max_depth\": 4, \"min_samples_split\": 3, \"test_score\": 0.26382431309629545}, {\"criterion\": \"gini\", \"max_depth\": 5, \"min_samples_split\": 2, \"test_score\": 0.2624676006837999}, {\"criterion\": \"gini\", \"max_depth\": 5, \"min_samples_split\": 3, \"test_score\": 0.2624676006837999}, {\"criterion\": \"gini\", \"max_depth\": 6, \"min_samples_split\": 2, \"test_score\": 0.257437278552942}, {\"criterion\": \"gini\", \"max_depth\": 6, \"min_samples_split\": 3, \"test_score\": 0.2573574382335807}, {\"criterion\": \"gini\", \"max_depth\": 7, \"min_samples_split\": 2, \"test_score\": 0.25584305074062397}, {\"criterion\": \"gini\", \"max_depth\": 7, \"min_samples_split\": 3, \"test_score\": 0.2554438491438176}, {\"criterion\": \"gini\", \"max_depth\": 8, \"min_samples_split\": 2, \"test_score\": 0.24802251955419308}, {\"criterion\": \"gini\", \"max_depth\": 8, \"min_samples_split\": 3, \"test_score\": 0.24738379699930282}, {\"criterion\": \"entropy\", \"max_depth\": 1, \"min_samples_split\": 2, \"test_score\": 0.2093214527882035}, {\"criterion\": \"entropy\", \"max_depth\": 1, \"min_samples_split\": 3, \"test_score\": 0.2093214527882035}, {\"criterion\": \"entropy\", \"max_depth\": 2, \"min_samples_split\": 2, \"test_score\": 0.2474663113963461}, {\"criterion\": \"entropy\", \"max_depth\": 2, \"min_samples_split\": 3, \"test_score\": 0.2474663113963461}, {\"criterion\": \"entropy\", \"max_depth\": 3, \"min_samples_split\": 2, \"test_score\": 0.2572019597169298}, {\"criterion\": \"entropy\", \"max_depth\": 3, \"min_samples_split\": 3, \"test_score\": 0.2572019597169298}, {\"criterion\": \"entropy\", \"max_depth\": 4, \"min_samples_split\": 2, \"test_score\": 0.2669356979820264}, {\"criterion\": \"entropy\", \"max_depth\": 4, \"min_samples_split\": 3, \"test_score\": 0.2669356979820264}, {\"criterion\": \"entropy\", \"max_depth\": 5, \"min_samples_split\": 2, \"test_score\": 0.26231059412275926}, {\"criterion\": \"entropy\", \"max_depth\": 5, \"min_samples_split\": 3, \"test_score\": 0.26231059412275926}, {\"criterion\": \"entropy\", \"max_depth\": 6, \"min_samples_split\": 2, \"test_score\": 0.2583170501103057}, {\"criterion\": \"entropy\", \"max_depth\": 6, \"min_samples_split\": 3, \"test_score\": 0.2583170501103057}, {\"criterion\": \"entropy\", \"max_depth\": 7, \"min_samples_split\": 2, \"test_score\": 0.2496975427136158}, {\"criterion\": \"entropy\", \"max_depth\": 7, \"min_samples_split\": 3, \"test_score\": 0.24929843661958376}, {\"criterion\": \"entropy\", \"max_depth\": 8, \"min_samples_split\": 2, \"test_score\": 0.24219608629630687}, {\"criterion\": \"entropy\", \"max_depth\": 8, \"min_samples_split\": 3, \"test_score\": 0.24203678766868172}]}}, {\"mode\": \"vega-lite\"});\n",
       "</script>"
      ],
      "text/plain": [
       "alt.Chart(...)"
      ]
     },
     "execution_count": 116,
     "metadata": {},
     "output_type": "execute_result"
    }
   ],
   "source": [
    "alt.Chart(results_DT,\n",
    " title='DT Performance Comparison'\n",
    " ).mark_line(point=True).encode(\n",
    " alt.X('max_depth', title='Maximum Depth'),\n",
    " alt.Y('test_score', title='Mean CV Score', aggregate='average', scale=alt.Scale(zero=False\n",
    ")),\n",
    " color='criterion'\n",
    ")"
   ]
  },
  {
   "cell_type": "code",
   "execution_count": 117,
   "id": "7d358324",
   "metadata": {},
   "outputs": [],
   "source": [
    "#Random Forest Classifier"
   ]
  },
  {
   "cell_type": "code",
   "execution_count": 120,
   "id": "c561115c",
   "metadata": {},
   "outputs": [
    {
     "name": "stdout",
     "output_type": "stream",
     "text": [
      "Fitting 15 folds for each of 32 candidates, totalling 480 fits\n"
     ]
    },
    {
     "name": "stderr",
     "output_type": "stream",
     "text": [
      "C:\\Users\\HUCON SOLUTIONS PVT\\anaconda3\\lib\\site-packages\\sklearn\\model_selection\\_split.py:666: UserWarning: The least populated class in y has only 1 members, which is less than n_splits=5.\n",
      "  warnings.warn((\"The least populated class in y has only %d\"\n",
      "C:\\Users\\HUCON SOLUTIONS PVT\\anaconda3\\lib\\site-packages\\sklearn\\model_selection\\_split.py:666: UserWarning: The least populated class in y has only 1 members, which is less than n_splits=5.\n",
      "  warnings.warn((\"The least populated class in y has only %d\"\n",
      "C:\\Users\\HUCON SOLUTIONS PVT\\anaconda3\\lib\\site-packages\\sklearn\\model_selection\\_split.py:666: UserWarning: The least populated class in y has only 1 members, which is less than n_splits=5.\n",
      "  warnings.warn((\"The least populated class in y has only %d\"\n"
     ]
    }
   ],
   "source": [
    "abalone_classifier = RandomForestClassifier(random_state=4)\n",
    "params_RF = {'criterion': ['gini', 'entropy'],\n",
    " 'max_depth': [1, 2, 3, 4, 5, 6, 7, 8],\n",
    " 'min_samples_split': [2, 3]}\n",
    "cv_method = RepeatedStratifiedKFold(n_splits=5,\n",
    " n_repeats=3,\n",
    " random_state=999)\n",
    "gs_RF = GridSearchCV(estimator=abalone_classifier,\n",
    " param_grid=params_RF,\n",
    " cv=cv_method,\n",
    " verbose=1,\n",
    " scoring='accuracy')\n",
    "gs_RF.fit(ab1_rfi, target);"
   ]
  },
  {
   "cell_type": "code",
   "execution_count": 121,
   "id": "12d678cf",
   "metadata": {},
   "outputs": [
    {
     "data": {
      "text/plain": [
       "{'criterion': 'gini', 'max_depth': 6, 'min_samples_split': 2}"
      ]
     },
     "execution_count": 121,
     "metadata": {},
     "output_type": "execute_result"
    }
   ],
   "source": [
    "gs_RF.best_params_"
   ]
  },
  {
   "cell_type": "code",
   "execution_count": 122,
   "id": "1a9b2158",
   "metadata": {},
   "outputs": [
    {
     "data": {
      "text/plain": [
       "0.27627224020857805"
      ]
     },
     "execution_count": 122,
     "metadata": {},
     "output_type": "execute_result"
    }
   ],
   "source": [
    "gs_RF.best_score_"
   ]
  },
  {
   "cell_type": "code",
   "execution_count": 123,
   "id": "b4622f2d",
   "metadata": {},
   "outputs": [
    {
     "data": {
      "text/plain": [
       "array([0.2180972 , 0.2180972 , 0.25839632, 0.25839632, 0.27140676,\n",
       "       0.27140676, 0.27395983, 0.27395983, 0.27236322, 0.27292191,\n",
       "       0.27627224, 0.27555482, 0.27411722, 0.2735592 , 0.27100717,\n",
       "       0.2707667 , 0.21259166, 0.21259166, 0.25504455, 0.25504455,\n",
       "       0.27020944, 0.27020944, 0.27363961, 0.27363961, 0.27459722,\n",
       "       0.27467696, 0.27579444, 0.27547451, 0.27611447, 0.27419821,\n",
       "       0.26988845, 0.26749573])"
      ]
     },
     "execution_count": 123,
     "metadata": {},
     "output_type": "execute_result"
    }
   ],
   "source": [
    "gs_RF.cv_results_['mean_test_score']"
   ]
  },
  {
   "cell_type": "code",
   "execution_count": 124,
   "id": "b6343816",
   "metadata": {},
   "outputs": [
    {
     "data": {
      "text/plain": [
       "Index(['criterion', 'max_depth', 'min_samples_split', 'test_score'], dtype='object')"
      ]
     },
     "execution_count": 124,
     "metadata": {},
     "output_type": "execute_result"
    }
   ],
   "source": [
    "results_RF = pd.DataFrame(gs_RF.cv_results_['params'])\n",
    "results_RF['test_score'] = gs_RF.cv_results_['mean_test_score']\n",
    "results_RF.columns"
   ]
  },
  {
   "cell_type": "code",
   "execution_count": 125,
   "id": "3ede32fe",
   "metadata": {},
   "outputs": [
    {
     "data": {
      "text/html": [
       "\n",
       "<div id=\"altair-viz-67c12d95416b4d1bac76a768a5263f99\"></div>\n",
       "<script type=\"text/javascript\">\n",
       "  var VEGA_DEBUG = (typeof VEGA_DEBUG == \"undefined\") ? {} : VEGA_DEBUG;\n",
       "  (function(spec, embedOpt){\n",
       "    let outputDiv = document.currentScript.previousElementSibling;\n",
       "    if (outputDiv.id !== \"altair-viz-67c12d95416b4d1bac76a768a5263f99\") {\n",
       "      outputDiv = document.getElementById(\"altair-viz-67c12d95416b4d1bac76a768a5263f99\");\n",
       "    }\n",
       "    const paths = {\n",
       "      \"vega\": \"https://cdn.jsdelivr.net/npm//vega@5?noext\",\n",
       "      \"vega-lib\": \"https://cdn.jsdelivr.net/npm//vega-lib?noext\",\n",
       "      \"vega-lite\": \"https://cdn.jsdelivr.net/npm//vega-lite@4.17.0?noext\",\n",
       "      \"vega-embed\": \"https://cdn.jsdelivr.net/npm//vega-embed@6?noext\",\n",
       "    };\n",
       "\n",
       "    function maybeLoadScript(lib, version) {\n",
       "      var key = `${lib.replace(\"-\", \"\")}_version`;\n",
       "      return (VEGA_DEBUG[key] == version) ?\n",
       "        Promise.resolve(paths[lib]) :\n",
       "        new Promise(function(resolve, reject) {\n",
       "          var s = document.createElement('script');\n",
       "          document.getElementsByTagName(\"head\")[0].appendChild(s);\n",
       "          s.async = true;\n",
       "          s.onload = () => {\n",
       "            VEGA_DEBUG[key] = version;\n",
       "            return resolve(paths[lib]);\n",
       "          };\n",
       "          s.onerror = () => reject(`Error loading script: ${paths[lib]}`);\n",
       "          s.src = paths[lib];\n",
       "        });\n",
       "    }\n",
       "\n",
       "    function showError(err) {\n",
       "      outputDiv.innerHTML = `<div class=\"error\" style=\"color:red;\">${err}</div>`;\n",
       "      throw err;\n",
       "    }\n",
       "\n",
       "    function displayChart(vegaEmbed) {\n",
       "      vegaEmbed(outputDiv, spec, embedOpt)\n",
       "        .catch(err => showError(`Javascript Error: ${err.message}<br>This usually means there's a typo in your chart specification. See the javascript console for the full traceback.`));\n",
       "    }\n",
       "\n",
       "    if(typeof define === \"function\" && define.amd) {\n",
       "      requirejs.config({paths});\n",
       "      require([\"vega-embed\"], displayChart, err => showError(`Error loading script: ${err.message}`));\n",
       "    } else {\n",
       "      maybeLoadScript(\"vega\", \"5\")\n",
       "        .then(() => maybeLoadScript(\"vega-lite\", \"4.17.0\"))\n",
       "        .then(() => maybeLoadScript(\"vega-embed\", \"6\"))\n",
       "        .catch(showError)\n",
       "        .then(() => displayChart(vegaEmbed));\n",
       "    }\n",
       "  })({\"config\": {\"view\": {\"continuousWidth\": 400, \"continuousHeight\": 300}}, \"data\": {\"name\": \"data-e8ed9de68e319fad07612b66cb27bc28\"}, \"mark\": {\"type\": \"line\", \"point\": true}, \"encoding\": {\"color\": {\"field\": \"criterion\", \"type\": \"nominal\"}, \"x\": {\"field\": \"max_depth\", \"title\": \"Maximum Depth\", \"type\": \"quantitative\"}, \"y\": {\"aggregate\": \"average\", \"field\": \"test_score\", \"scale\": {\"zero\": false}, \"title\": \"Mean CV Score\", \"type\": \"quantitative\"}}, \"title\": \"RF Performance Comparison\", \"$schema\": \"https://vega.github.io/schema/vega-lite/v4.17.0.json\", \"datasets\": {\"data-e8ed9de68e319fad07612b66cb27bc28\": [{\"criterion\": \"gini\", \"max_depth\": 1, \"min_samples_split\": 2, \"test_score\": 0.21809720272373917}, {\"criterion\": \"gini\", \"max_depth\": 1, \"min_samples_split\": 3, \"test_score\": 0.21809720272373917}, {\"criterion\": \"gini\", \"max_depth\": 2, \"min_samples_split\": 2, \"test_score\": 0.2583963174130208}, {\"criterion\": \"gini\", \"max_depth\": 2, \"min_samples_split\": 3, \"test_score\": 0.2583963174130208}, {\"criterion\": \"gini\", \"max_depth\": 3, \"min_samples_split\": 2, \"test_score\": 0.27140675586625795}, {\"criterion\": \"gini\", \"max_depth\": 3, \"min_samples_split\": 3, \"test_score\": 0.27140675586625795}, {\"criterion\": \"gini\", \"max_depth\": 4, \"min_samples_split\": 2, \"test_score\": 0.27395983153310605}, {\"criterion\": \"gini\", \"max_depth\": 4, \"min_samples_split\": 3, \"test_score\": 0.27395983153310605}, {\"criterion\": \"gini\", \"max_depth\": 5, \"min_samples_split\": 2, \"test_score\": 0.2723632161514292}, {\"criterion\": \"gini\", \"max_depth\": 5, \"min_samples_split\": 3, \"test_score\": 0.2729219073814094}, {\"criterion\": \"gini\", \"max_depth\": 6, \"min_samples_split\": 2, \"test_score\": 0.27627224020857805}, {\"criterion\": \"gini\", \"max_depth\": 6, \"min_samples_split\": 3, \"test_score\": 0.27555482336761883}, {\"criterion\": \"gini\", \"max_depth\": 7, \"min_samples_split\": 2, \"test_score\": 0.27411722010524403}, {\"criterion\": \"gini\", \"max_depth\": 7, \"min_samples_split\": 3, \"test_score\": 0.2735591973946843}, {\"criterion\": \"gini\", \"max_depth\": 8, \"min_samples_split\": 2, \"test_score\": 0.27100717225835413}, {\"criterion\": \"gini\", \"max_depth\": 8, \"min_samples_split\": 3, \"test_score\": 0.2707666962725267}, {\"criterion\": \"entropy\", \"max_depth\": 1, \"min_samples_split\": 2, \"test_score\": 0.2125916587876878}, {\"criterion\": \"entropy\", \"max_depth\": 1, \"min_samples_split\": 3, \"test_score\": 0.2125916587876878}, {\"criterion\": \"entropy\", \"max_depth\": 2, \"min_samples_split\": 2, \"test_score\": 0.25504455204423687}, {\"criterion\": \"entropy\", \"max_depth\": 2, \"min_samples_split\": 3, \"test_score\": 0.25504455204423687}, {\"criterion\": \"entropy\", \"max_depth\": 3, \"min_samples_split\": 2, \"test_score\": 0.2702094375841619}, {\"criterion\": \"entropy\", \"max_depth\": 3, \"min_samples_split\": 3, \"test_score\": 0.2702094375841619}, {\"criterion\": \"entropy\", \"max_depth\": 4, \"min_samples_split\": 2, \"test_score\": 0.2736396107306918}, {\"criterion\": \"entropy\", \"max_depth\": 4, \"min_samples_split\": 3, \"test_score\": 0.2736396107306918}, {\"criterion\": \"entropy\", \"max_depth\": 5, \"min_samples_split\": 2, \"test_score\": 0.2745972170491553}, {\"criterion\": \"entropy\", \"max_depth\": 5, \"min_samples_split\": 3, \"test_score\": 0.2746769618657422}, {\"criterion\": \"entropy\", \"max_depth\": 6, \"min_samples_split\": 2, \"test_score\": 0.275794439828477}, {\"criterion\": \"entropy\", \"max_depth\": 6, \"min_samples_split\": 3, \"test_score\": 0.2754745055343858}, {\"criterion\": \"entropy\", \"max_depth\": 7, \"min_samples_split\": 2, \"test_score\": 0.2761144696253426}, {\"criterion\": \"entropy\", \"max_depth\": 7, \"min_samples_split\": 3, \"test_score\": 0.27419820645789755}, {\"criterion\": \"entropy\", \"max_depth\": 8, \"min_samples_split\": 2, \"test_score\": 0.26988845275955264}, {\"criterion\": \"entropy\", \"max_depth\": 8, \"min_samples_split\": 3, \"test_score\": 0.2674957262508475}]}}, {\"mode\": \"vega-lite\"});\n",
       "</script>"
      ],
      "text/plain": [
       "alt.Chart(...)"
      ]
     },
     "execution_count": 125,
     "metadata": {},
     "output_type": "execute_result"
    }
   ],
   "source": [
    "alt.Chart(results_RF,\n",
    " title='RF Performance Comparison'\n",
    " ).mark_line(point=True).encode(\n",
    " alt.X('max_depth', title='Maximum Depth'),\n",
    " alt.Y('test_score', title='Mean CV Score', aggregate='average', scale=alt.Scale(zero=False\n",
    ")),\n",
    " color='criterion'\n",
    ")"
   ]
  },
  {
   "cell_type": "code",
   "execution_count": null,
   "id": "99ecd36d",
   "metadata": {},
   "outputs": [],
   "source": [
    "#GaussianNB"
   ]
  },
  {
   "cell_type": "code",
   "execution_count": 126,
   "id": "0651ce39",
   "metadata": {},
   "outputs": [
    {
     "data": {
      "text/plain": [
       "array([1.e+00, 1.e-01, 1.e-02, 1.e-03, 1.e-04, 1.e-05, 1.e-06, 1.e-07,\n",
       "       1.e-08, 1.e-09])"
      ]
     },
     "execution_count": 126,
     "metadata": {},
     "output_type": "execute_result"
    }
   ],
   "source": [
    "np.logspace(0,-9, num=10)"
   ]
  },
  {
   "cell_type": "code",
   "execution_count": 129,
   "id": "aca4bcb4",
   "metadata": {},
   "outputs": [],
   "source": [
    "\n",
    "from sklearn.preprocessing import PowerTransformer\n",
    "ab1_power = PowerTransformer().fit_transform(ab1_unscaled)"
   ]
  },
  {
   "cell_type": "code",
   "execution_count": 130,
   "id": "2ca44802",
   "metadata": {},
   "outputs": [],
   "source": [
    "ab1_power_df = pd.DataFrame(data = ab1_power,columns = ab1_all.columns)"
   ]
  },
  {
   "cell_type": "code",
   "execution_count": 131,
   "id": "0eee9724",
   "metadata": {},
   "outputs": [],
   "source": [
    "ab1_power_rfi = ab1_power_df[ab1_all.columns[fs_indices_rfi[:5]].values]\n",
    "ab1_power_rfi = ab1_power_rfi.values"
   ]
  },
  {
   "cell_type": "code",
   "execution_count": 132,
   "id": "db5739a4",
   "metadata": {},
   "outputs": [
    {
     "name": "stdout",
     "output_type": "stream",
     "text": [
      "Fitting 15 folds for each of 100 candidates, totalling 1500 fits\n"
     ]
    },
    {
     "name": "stderr",
     "output_type": "stream",
     "text": [
      "C:\\Users\\HUCON SOLUTIONS PVT\\anaconda3\\lib\\site-packages\\sklearn\\model_selection\\_split.py:666: UserWarning: The least populated class in y has only 1 members, which is less than n_splits=5.\n",
      "  warnings.warn((\"The least populated class in y has only %d\"\n",
      "C:\\Users\\HUCON SOLUTIONS PVT\\anaconda3\\lib\\site-packages\\sklearn\\model_selection\\_split.py:666: UserWarning: The least populated class in y has only 1 members, which is less than n_splits=5.\n",
      "  warnings.warn((\"The least populated class in y has only %d\"\n",
      "C:\\Users\\HUCON SOLUTIONS PVT\\anaconda3\\lib\\site-packages\\sklearn\\model_selection\\_split.py:666: UserWarning: The least populated class in y has only 1 members, which is less than n_splits=5.\n",
      "  warnings.warn((\"The least populated class in y has only %d\"\n"
     ]
    }
   ],
   "source": [
    "from sklearn.naive_bayes import GaussianNB\n",
    "nb_classifier = GaussianNB()\n",
    "params_NB = {'var_smoothing': np.logspace(0,-9, num=100)}\n",
    "cv_method = RepeatedStratifiedKFold(n_splits=5,\n",
    " n_repeats=3,\n",
    " random_state=999)\n",
    "gs_NB = GridSearchCV(estimator=nb_classifier,\n",
    " param_grid=params_NB,\n",
    " cv=cv_method,\n",
    " verbose=1,\n",
    " scoring='accuracy')\n",
    "Data_transformed = PowerTransformer().fit_transform(ab1_rfi)\n",
    "gs_NB.fit(ab1_power_rfi, target);"
   ]
  },
  {
   "cell_type": "code",
   "execution_count": 133,
   "id": "49e2b7c7",
   "metadata": {},
   "outputs": [
    {
     "data": {
      "text/plain": [
       "{'var_smoothing': 0.8111308307896871}"
      ]
     },
     "execution_count": 133,
     "metadata": {},
     "output_type": "execute_result"
    }
   ],
   "source": [
    "gs_NB.best_params_"
   ]
  },
  {
   "cell_type": "code",
   "execution_count": 134,
   "id": "85ad07ed",
   "metadata": {},
   "outputs": [
    {
     "data": {
      "text/plain": [
       "0.26151276394579265"
      ]
     },
     "execution_count": 134,
     "metadata": {},
     "output_type": "execute_result"
    }
   ],
   "source": [
    "gs_NB.best_score_"
   ]
  },
  {
   "cell_type": "code",
   "execution_count": 135,
   "id": "7fe654bc",
   "metadata": {},
   "outputs": [],
   "source": [
    "results_NB = pd.DataFrame(gs_NB.cv_results_['params'])\n",
    "results_NB['test_score'] = gs_NB.cv_results_['mean_test_score']"
   ]
  },
  {
   "cell_type": "code",
   "execution_count": 136,
   "id": "40fac528",
   "metadata": {},
   "outputs": [
    {
     "data": {
      "text/html": [
       "\n",
       "<div id=\"altair-viz-8d76d27a2e93495681a6747abb608cd7\"></div>\n",
       "<script type=\"text/javascript\">\n",
       "  var VEGA_DEBUG = (typeof VEGA_DEBUG == \"undefined\") ? {} : VEGA_DEBUG;\n",
       "  (function(spec, embedOpt){\n",
       "    let outputDiv = document.currentScript.previousElementSibling;\n",
       "    if (outputDiv.id !== \"altair-viz-8d76d27a2e93495681a6747abb608cd7\") {\n",
       "      outputDiv = document.getElementById(\"altair-viz-8d76d27a2e93495681a6747abb608cd7\");\n",
       "    }\n",
       "    const paths = {\n",
       "      \"vega\": \"https://cdn.jsdelivr.net/npm//vega@5?noext\",\n",
       "      \"vega-lib\": \"https://cdn.jsdelivr.net/npm//vega-lib?noext\",\n",
       "      \"vega-lite\": \"https://cdn.jsdelivr.net/npm//vega-lite@4.17.0?noext\",\n",
       "      \"vega-embed\": \"https://cdn.jsdelivr.net/npm//vega-embed@6?noext\",\n",
       "    };\n",
       "\n",
       "    function maybeLoadScript(lib, version) {\n",
       "      var key = `${lib.replace(\"-\", \"\")}_version`;\n",
       "      return (VEGA_DEBUG[key] == version) ?\n",
       "        Promise.resolve(paths[lib]) :\n",
       "        new Promise(function(resolve, reject) {\n",
       "          var s = document.createElement('script');\n",
       "          document.getElementsByTagName(\"head\")[0].appendChild(s);\n",
       "          s.async = true;\n",
       "          s.onload = () => {\n",
       "            VEGA_DEBUG[key] = version;\n",
       "            return resolve(paths[lib]);\n",
       "          };\n",
       "          s.onerror = () => reject(`Error loading script: ${paths[lib]}`);\n",
       "          s.src = paths[lib];\n",
       "        });\n",
       "    }\n",
       "\n",
       "    function showError(err) {\n",
       "      outputDiv.innerHTML = `<div class=\"error\" style=\"color:red;\">${err}</div>`;\n",
       "      throw err;\n",
       "    }\n",
       "\n",
       "    function displayChart(vegaEmbed) {\n",
       "      vegaEmbed(outputDiv, spec, embedOpt)\n",
       "        .catch(err => showError(`Javascript Error: ${err.message}<br>This usually means there's a typo in your chart specification. See the javascript console for the full traceback.`));\n",
       "    }\n",
       "\n",
       "    if(typeof define === \"function\" && define.amd) {\n",
       "      requirejs.config({paths});\n",
       "      require([\"vega-embed\"], displayChart, err => showError(`Error loading script: ${err.message}`));\n",
       "    } else {\n",
       "      maybeLoadScript(\"vega\", \"5\")\n",
       "        .then(() => maybeLoadScript(\"vega-lite\", \"4.17.0\"))\n",
       "        .then(() => maybeLoadScript(\"vega-embed\", \"6\"))\n",
       "        .catch(showError)\n",
       "        .then(() => displayChart(vegaEmbed));\n",
       "    }\n",
       "  })({\"config\": {\"view\": {\"continuousWidth\": 400, \"continuousHeight\": 300}}, \"data\": {\"name\": \"data-056c8fe3d88d9ddcf22e86f305cc2747\"}, \"mark\": {\"type\": \"line\", \"point\": true}, \"encoding\": {\"x\": {\"field\": \"var_smoothing\", \"title\": \"Var. Smoothing\", \"type\": \"quantitative\"}, \"y\": {\"field\": \"test_score\", \"scale\": {\"zero\": false}, \"title\": \"Mean CV Score\", \"type\": \"quantitative\"}}, \"selection\": {\"selector001\": {\"type\": \"interval\", \"bind\": \"scales\", \"encodings\": [\"x\", \"y\"]}}, \"title\": \"NB Performance Comparison\", \"$schema\": \"https://vega.github.io/schema/vega-lite/v4.17.0.json\", \"datasets\": {\"data-056c8fe3d88d9ddcf22e86f305cc2747\": [{\"var_smoothing\": 1.0, \"test_score\": 0.26151152240972597}, {\"var_smoothing\": 0.8111308307896871, \"test_score\": 0.26151276394579265}, {\"var_smoothing\": 0.657933224657568, \"test_score\": 0.2584795003294846}, {\"var_smoothing\": 0.533669923120631, \"test_score\": 0.2565640011842344}, {\"var_smoothing\": 0.43287612810830584, \"test_score\": 0.2547286288666685}, {\"var_smoothing\": 0.3511191734215131, \"test_score\": 0.2530533191989227}, {\"var_smoothing\": 0.2848035868435802, \"test_score\": 0.25121756487025954}, {\"var_smoothing\": 0.23101297000831597, \"test_score\": 0.24922260741674543}, {\"var_smoothing\": 0.1873817422860384, \"test_score\": 0.24531224632075563}, {\"var_smoothing\": 0.15199110829529336, \"test_score\": 0.24203974825468677}, {\"var_smoothing\": 0.12328467394420659, \"test_score\": 0.2406035775339274}, {\"var_smoothing\": 0.1, \"test_score\": 0.2401245356177597}, {\"var_smoothing\": 0.08111308307896872, \"test_score\": 0.23964616222101254}, {\"var_smoothing\": 0.0657933224657568, \"test_score\": 0.23892836336895584}, {\"var_smoothing\": 0.0533669923120631, \"test_score\": 0.23852963928602125}, {\"var_smoothing\": 0.04328761281083057, \"test_score\": 0.2380507883754023}, {\"var_smoothing\": 0.03511191734215131, \"test_score\": 0.23717311787907436}, {\"var_smoothing\": 0.02848035868435802, \"test_score\": 0.23733279851779696}, {\"var_smoothing\": 0.02310129700083159, \"test_score\": 0.23773247762847513}, {\"var_smoothing\": 0.01873817422860384, \"test_score\": 0.23877001976907428}, {\"var_smoothing\": 0.01519911082952933, \"test_score\": 0.23869008394693866}, {\"var_smoothing\": 0.012328467394420659, \"test_score\": 0.23940826481009272}, {\"var_smoothing\": 0.01, \"test_score\": 0.23996724254839602}, {\"var_smoothing\": 0.008111308307896872, \"test_score\": 0.2405258382756019}, {\"var_smoothing\": 0.006579332246575682, \"test_score\": 0.2402865083230668}, {\"var_smoothing\": 0.005336699231206307, \"test_score\": 0.24052612478392493}, {\"var_smoothing\": 0.004328761281083057, \"test_score\": 0.2402866038258411}, {\"var_smoothing\": 0.003511191734215131, \"test_score\": 0.24044647547011241}, {\"var_smoothing\": 0.002848035868435802, \"test_score\": 0.24052622028669932}, {\"var_smoothing\": 0.0023101297000831605, \"test_score\": 0.240526411292248}, {\"var_smoothing\": 0.001873817422860383, \"test_score\": 0.2407660277531062}, {\"var_smoothing\": 0.0015199110829529332, \"test_score\": 0.24084577256969314}, {\"var_smoothing\": 0.0012328467394420659, \"test_score\": 0.24084577256969314}, {\"var_smoothing\": 0.001, \"test_score\": 0.24092551738628004}, {\"var_smoothing\": 0.0008111308307896872, \"test_score\": 0.24092551738628004}, {\"var_smoothing\": 0.0006579332246575676, \"test_score\": 0.24092551738628004}, {\"var_smoothing\": 0.0005336699231206307, \"test_score\": 0.24092551738628004}, {\"var_smoothing\": 0.0004328761281083057, \"test_score\": 0.2410850070194539}, {\"var_smoothing\": 0.0003511191734215131, \"test_score\": 0.2411647518360408}, {\"var_smoothing\": 0.0002848035868435802, \"test_score\": 0.2412445921554021}, {\"var_smoothing\": 0.0002310129700083158, \"test_score\": 0.24132443247476335}, {\"var_smoothing\": 0.0001873817422860383, \"test_score\": 0.2412445921554021}, {\"var_smoothing\": 0.0001519911082952933, \"test_score\": 0.24132443247476335}, {\"var_smoothing\": 0.0001232846739442066, \"test_score\": 0.2414839221079372}, {\"var_smoothing\": 0.0001, \"test_score\": 0.2415637624272985}, {\"var_smoothing\": 8.111308307896872e-05, \"test_score\": 0.2416436027466598}, {\"var_smoothing\": 6.579332246575683e-05, \"test_score\": 0.2416436027466598}, {\"var_smoothing\": 5.3366992312063123e-05, \"test_score\": 0.2416436027466598}, {\"var_smoothing\": 4.328761281083062e-05, \"test_score\": 0.24172344306602106}, {\"var_smoothing\": 3.511191734215127e-05, \"test_score\": 0.24188312370474366}, {\"var_smoothing\": 2.848035868435799e-05, \"test_score\": 0.24196296402410492}, {\"var_smoothing\": 2.310129700083158e-05, \"test_score\": 0.24196296402410492}, {\"var_smoothing\": 1.873817422860383e-05, \"test_score\": 0.24196296402410492}, {\"var_smoothing\": 1.5199110829529332e-05, \"test_score\": 0.24196296402410492}, {\"var_smoothing\": 1.2328467394420658e-05, \"test_score\": 0.24196296402410492}, {\"var_smoothing\": 1e-05, \"test_score\": 0.24196296402410492}, {\"var_smoothing\": 8.111308307896873e-06, \"test_score\": 0.24196296402410492}, {\"var_smoothing\": 6.579332246575683e-06, \"test_score\": 0.24196296402410492}, {\"var_smoothing\": 5.336699231206313e-06, \"test_score\": 0.24196296402410492}, {\"var_smoothing\": 4.328761281083053e-06, \"test_score\": 0.24196296402410492}, {\"var_smoothing\": 3.5111917342151275e-06, \"test_score\": 0.24196296402410492}, {\"var_smoothing\": 2.848035868435799e-06, \"test_score\": 0.24196296402410492}, {\"var_smoothing\": 2.310129700083158e-06, \"test_score\": 0.24196296402410492}, {\"var_smoothing\": 1.873817422860383e-06, \"test_score\": 0.24196296402410492}, {\"var_smoothing\": 1.519911082952933e-06, \"test_score\": 0.24196296402410492}, {\"var_smoothing\": 1.232846739442066e-06, \"test_score\": 0.24196296402410492}, {\"var_smoothing\": 1e-06, \"test_score\": 0.24196296402410492}, {\"var_smoothing\": 8.111308307896872e-07, \"test_score\": 0.24196296402410492}, {\"var_smoothing\": 6.579332246575682e-07, \"test_score\": 0.24196296402410492}, {\"var_smoothing\": 5.336699231206313e-07, \"test_score\": 0.24196296402410492}, {\"var_smoothing\": 4.3287612810830526e-07, \"test_score\": 0.24196296402410492}, {\"var_smoothing\": 3.5111917342151277e-07, \"test_score\": 0.24196296402410492}, {\"var_smoothing\": 2.848035868435799e-07, \"test_score\": 0.24196296402410492}, {\"var_smoothing\": 2.310129700083158e-07, \"test_score\": 0.24196296402410492}, {\"var_smoothing\": 1.873817422860383e-07, \"test_score\": 0.24196296402410492}, {\"var_smoothing\": 1.519911082952933e-07, \"test_score\": 0.24196296402410492}, {\"var_smoothing\": 1.232846739442066e-07, \"test_score\": 0.24196296402410492}, {\"var_smoothing\": 1e-07, \"test_score\": 0.24196296402410492}, {\"var_smoothing\": 8.111308307896873e-08, \"test_score\": 0.24196296402410492}, {\"var_smoothing\": 6.579332246575682e-08, \"test_score\": 0.24196296402410492}, {\"var_smoothing\": 5.336699231206302e-08, \"test_score\": 0.24196296402410492}, {\"var_smoothing\": 4.3287612810830526e-08, \"test_score\": 0.24196296402410492}, {\"var_smoothing\": 3.5111917342151277e-08, \"test_score\": 0.24196296402410492}, {\"var_smoothing\": 2.848035868435799e-08, \"test_score\": 0.24196296402410492}, {\"var_smoothing\": 2.310129700083158e-08, \"test_score\": 0.24196296402410492}, {\"var_smoothing\": 1.873817422860383e-08, \"test_score\": 0.24196296402410492}, {\"var_smoothing\": 1.519911082952933e-08, \"test_score\": 0.24196296402410492}, {\"var_smoothing\": 1.232846739442066e-08, \"test_score\": 0.24196296402410492}, {\"var_smoothing\": 1e-08, \"test_score\": 0.24196296402410492}, {\"var_smoothing\": 8.111308307896856e-09, \"test_score\": 0.24196296402410492}, {\"var_smoothing\": 6.579332246575682e-09, \"test_score\": 0.24196296402410492}, {\"var_smoothing\": 5.336699231206302e-09, \"test_score\": 0.24196296402410492}, {\"var_smoothing\": 4.328761281083061e-09, \"test_score\": 0.24196296402410492}, {\"var_smoothing\": 3.5111917342151273e-09, \"test_score\": 0.24196296402410492}, {\"var_smoothing\": 2.848035868435805e-09, \"test_score\": 0.24196296402410492}, {\"var_smoothing\": 2.310129700083158e-09, \"test_score\": 0.24196296402410492}, {\"var_smoothing\": 1.873817422860387e-09, \"test_score\": 0.24196296402410492}, {\"var_smoothing\": 1.519911082952933e-09, \"test_score\": 0.24196296402410492}, {\"var_smoothing\": 1.2328467394420635e-09, \"test_score\": 0.24196296402410492}, {\"var_smoothing\": 1e-09, \"test_score\": 0.24196296402410492}]}}, {\"mode\": \"vega-lite\"});\n",
       "</script>"
      ],
      "text/plain": [
       "alt.Chart(...)"
      ]
     },
     "execution_count": 136,
     "metadata": {},
     "output_type": "execute_result"
    }
   ],
   "source": [
    "alt.Chart(results_NB,\n",
    " title='NB Performance Comparison'\n",
    " ).mark_line(point=True).encode(\n",
    " alt.X('var_smoothing', title='Var. Smoothing'),\n",
    " alt.Y('test_score', title='Mean CV Score', scale=alt.Scale(zero=False))\n",
    ").interactive()"
   ]
  },
  {
   "cell_type": "code",
   "execution_count": null,
   "id": "ea32a4ee",
   "metadata": {},
   "outputs": [],
   "source": [
    "#MLP Classifier"
   ]
  },
  {
   "cell_type": "code",
   "execution_count": 138,
   "id": "00eb7aa0",
   "metadata": {},
   "outputs": [
    {
     "name": "stdout",
     "output_type": "stream",
     "text": [
      "Fitting 15 folds for each of 24 candidates, totalling 360 fits\n"
     ]
    }
   ],
   "source": [
    "import warnings\n",
    "warnings.filterwarnings('ignore')\n",
    "from sklearn.neural_network import MLPClassifier\n",
    "abalone_classifier = MLPClassifier(max_iter = 100)\n",
    "params_MLP = {'hidden_layer_sizes': [5, 10, 20],\n",
    " 'alpha': [0.0001, 0.001],\n",
    " 'solver': ['sgd', 'adam'],\n",
    " 'learning_rate': ['constant','adaptive']}\n",
    "cv_method = RepeatedStratifiedKFold(n_splits=5,\n",
    " n_repeats=3,\n",
    " random_state=999)\n",
    "gs_MLP = GridSearchCV(estimator=abalone_classifier,\n",
    " param_grid=params_MLP,\n",
    " cv=cv_method,\n",
    " verbose=1,\n",
    " scoring='accuracy')\n",
    "gs_MLP.fit(ab1_rfi, target);"
   ]
  },
  {
   "cell_type": "code",
   "execution_count": 139,
   "id": "e8f330f2",
   "metadata": {},
   "outputs": [
    {
     "data": {
      "text/plain": [
       "{'alpha': 0.001,\n",
       " 'hidden_layer_sizes': 20,\n",
       " 'learning_rate': 'constant',\n",
       " 'solver': 'adam'}"
      ]
     },
     "execution_count": 139,
     "metadata": {},
     "output_type": "execute_result"
    }
   ],
   "source": [
    "gs_MLP.best_params_"
   ]
  },
  {
   "cell_type": "code",
   "execution_count": 140,
   "id": "564cc07f",
   "metadata": {},
   "outputs": [
    {
     "data": {
      "text/plain": [
       "0.2647833519563743"
      ]
     },
     "execution_count": 140,
     "metadata": {},
     "output_type": "execute_result"
    }
   ],
   "source": [
    "gs_MLP.best_score_"
   ]
  },
  {
   "cell_type": "code",
   "execution_count": 141,
   "id": "8c45d4db",
   "metadata": {},
   "outputs": [],
   "source": [
    "results_MLP = pd.DataFrame(gs_MLP.cv_results_['params'])\n",
    "results_MLP['test_score'] = gs_MLP.cv_results_['mean_test_score']"
   ]
  },
  {
   "cell_type": "code",
   "execution_count": 142,
   "id": "e5af1d80",
   "metadata": {},
   "outputs": [
    {
     "data": {
      "text/html": [
       "<div>\n",
       "<style scoped>\n",
       "    .dataframe tbody tr th:only-of-type {\n",
       "        vertical-align: middle;\n",
       "    }\n",
       "\n",
       "    .dataframe tbody tr th {\n",
       "        vertical-align: top;\n",
       "    }\n",
       "\n",
       "    .dataframe thead th {\n",
       "        text-align: right;\n",
       "    }\n",
       "</style>\n",
       "<table border=\"1\" class=\"dataframe\">\n",
       "  <thead>\n",
       "    <tr style=\"text-align: right;\">\n",
       "      <th></th>\n",
       "      <th>alpha</th>\n",
       "      <th>hidden_layer_sizes</th>\n",
       "      <th>learning_rate</th>\n",
       "      <th>solver</th>\n",
       "      <th>test_score</th>\n",
       "    </tr>\n",
       "  </thead>\n",
       "  <tbody>\n",
       "    <tr>\n",
       "      <th>0</th>\n",
       "      <td>0.0001</td>\n",
       "      <td>5</td>\n",
       "      <td>constant</td>\n",
       "      <td>sgd</td>\n",
       "      <td>0.168545</td>\n",
       "    </tr>\n",
       "    <tr>\n",
       "      <th>1</th>\n",
       "      <td>0.0001</td>\n",
       "      <td>5</td>\n",
       "      <td>constant</td>\n",
       "      <td>adam</td>\n",
       "      <td>0.227667</td>\n",
       "    </tr>\n",
       "    <tr>\n",
       "      <th>2</th>\n",
       "      <td>0.0001</td>\n",
       "      <td>5</td>\n",
       "      <td>adaptive</td>\n",
       "      <td>sgd</td>\n",
       "      <td>0.172211</td>\n",
       "    </tr>\n",
       "    <tr>\n",
       "      <th>3</th>\n",
       "      <td>0.0001</td>\n",
       "      <td>5</td>\n",
       "      <td>adaptive</td>\n",
       "      <td>adam</td>\n",
       "      <td>0.243316</td>\n",
       "    </tr>\n",
       "    <tr>\n",
       "      <th>4</th>\n",
       "      <td>0.0001</td>\n",
       "      <td>10</td>\n",
       "      <td>constant</td>\n",
       "      <td>sgd</td>\n",
       "      <td>0.178438</td>\n",
       "    </tr>\n",
       "    <tr>\n",
       "      <th>5</th>\n",
       "      <td>0.0001</td>\n",
       "      <td>10</td>\n",
       "      <td>constant</td>\n",
       "      <td>adam</td>\n",
       "      <td>0.257122</td>\n",
       "    </tr>\n",
       "    <tr>\n",
       "      <th>6</th>\n",
       "      <td>0.0001</td>\n",
       "      <td>10</td>\n",
       "      <td>adaptive</td>\n",
       "      <td>sgd</td>\n",
       "      <td>0.172132</td>\n",
       "    </tr>\n",
       "    <tr>\n",
       "      <th>7</th>\n",
       "      <td>0.0001</td>\n",
       "      <td>10</td>\n",
       "      <td>adaptive</td>\n",
       "      <td>adam</td>\n",
       "      <td>0.254247</td>\n",
       "    </tr>\n",
       "    <tr>\n",
       "      <th>8</th>\n",
       "      <td>0.0001</td>\n",
       "      <td>20</td>\n",
       "      <td>constant</td>\n",
       "      <td>sgd</td>\n",
       "      <td>0.177161</td>\n",
       "    </tr>\n",
       "    <tr>\n",
       "      <th>9</th>\n",
       "      <td>0.0001</td>\n",
       "      <td>20</td>\n",
       "      <td>constant</td>\n",
       "      <td>adam</td>\n",
       "      <td>0.261593</td>\n",
       "    </tr>\n",
       "    <tr>\n",
       "      <th>10</th>\n",
       "      <td>0.0001</td>\n",
       "      <td>20</td>\n",
       "      <td>adaptive</td>\n",
       "      <td>sgd</td>\n",
       "      <td>0.182669</td>\n",
       "    </tr>\n",
       "    <tr>\n",
       "      <th>11</th>\n",
       "      <td>0.0001</td>\n",
       "      <td>20</td>\n",
       "      <td>adaptive</td>\n",
       "      <td>adam</td>\n",
       "      <td>0.263506</td>\n",
       "    </tr>\n",
       "    <tr>\n",
       "      <th>12</th>\n",
       "      <td>0.0010</td>\n",
       "      <td>5</td>\n",
       "      <td>constant</td>\n",
       "      <td>sgd</td>\n",
       "      <td>0.173646</td>\n",
       "    </tr>\n",
       "    <tr>\n",
       "      <th>13</th>\n",
       "      <td>0.0010</td>\n",
       "      <td>5</td>\n",
       "      <td>constant</td>\n",
       "      <td>adam</td>\n",
       "      <td>0.229202</td>\n",
       "    </tr>\n",
       "    <tr>\n",
       "      <th>14</th>\n",
       "      <td>0.0010</td>\n",
       "      <td>5</td>\n",
       "      <td>adaptive</td>\n",
       "      <td>sgd</td>\n",
       "      <td>0.170137</td>\n",
       "    </tr>\n",
       "    <tr>\n",
       "      <th>15</th>\n",
       "      <td>0.0010</td>\n",
       "      <td>5</td>\n",
       "      <td>adaptive</td>\n",
       "      <td>adam</td>\n",
       "      <td>0.249781</td>\n",
       "    </tr>\n",
       "    <tr>\n",
       "      <th>16</th>\n",
       "      <td>0.0010</td>\n",
       "      <td>10</td>\n",
       "      <td>constant</td>\n",
       "      <td>sgd</td>\n",
       "      <td>0.174127</td>\n",
       "    </tr>\n",
       "    <tr>\n",
       "      <th>17</th>\n",
       "      <td>0.0010</td>\n",
       "      <td>10</td>\n",
       "      <td>constant</td>\n",
       "      <td>adam</td>\n",
       "      <td>0.254012</td>\n",
       "    </tr>\n",
       "    <tr>\n",
       "      <th>18</th>\n",
       "      <td>0.0010</td>\n",
       "      <td>10</td>\n",
       "      <td>adaptive</td>\n",
       "      <td>sgd</td>\n",
       "      <td>0.175164</td>\n",
       "    </tr>\n",
       "    <tr>\n",
       "      <th>19</th>\n",
       "      <td>0.0010</td>\n",
       "      <td>10</td>\n",
       "      <td>adaptive</td>\n",
       "      <td>adam</td>\n",
       "      <td>0.252016</td>\n",
       "    </tr>\n",
       "    <tr>\n",
       "      <th>20</th>\n",
       "      <td>0.0010</td>\n",
       "      <td>20</td>\n",
       "      <td>constant</td>\n",
       "      <td>sgd</td>\n",
       "      <td>0.177877</td>\n",
       "    </tr>\n",
       "    <tr>\n",
       "      <th>21</th>\n",
       "      <td>0.0010</td>\n",
       "      <td>20</td>\n",
       "      <td>constant</td>\n",
       "      <td>adam</td>\n",
       "      <td>0.264783</td>\n",
       "    </tr>\n",
       "    <tr>\n",
       "      <th>22</th>\n",
       "      <td>0.0010</td>\n",
       "      <td>20</td>\n",
       "      <td>adaptive</td>\n",
       "      <td>sgd</td>\n",
       "      <td>0.184503</td>\n",
       "    </tr>\n",
       "    <tr>\n",
       "      <th>23</th>\n",
       "      <td>0.0010</td>\n",
       "      <td>20</td>\n",
       "      <td>adaptive</td>\n",
       "      <td>adam</td>\n",
       "      <td>0.263188</td>\n",
       "    </tr>\n",
       "  </tbody>\n",
       "</table>\n",
       "</div>"
      ],
      "text/plain": [
       "     alpha  hidden_layer_sizes learning_rate solver  test_score\n",
       "0   0.0001                   5      constant    sgd    0.168545\n",
       "1   0.0001                   5      constant   adam    0.227667\n",
       "2   0.0001                   5      adaptive    sgd    0.172211\n",
       "3   0.0001                   5      adaptive   adam    0.243316\n",
       "4   0.0001                  10      constant    sgd    0.178438\n",
       "5   0.0001                  10      constant   adam    0.257122\n",
       "6   0.0001                  10      adaptive    sgd    0.172132\n",
       "7   0.0001                  10      adaptive   adam    0.254247\n",
       "8   0.0001                  20      constant    sgd    0.177161\n",
       "9   0.0001                  20      constant   adam    0.261593\n",
       "10  0.0001                  20      adaptive    sgd    0.182669\n",
       "11  0.0001                  20      adaptive   adam    0.263506\n",
       "12  0.0010                   5      constant    sgd    0.173646\n",
       "13  0.0010                   5      constant   adam    0.229202\n",
       "14  0.0010                   5      adaptive    sgd    0.170137\n",
       "15  0.0010                   5      adaptive   adam    0.249781\n",
       "16  0.0010                  10      constant    sgd    0.174127\n",
       "17  0.0010                  10      constant   adam    0.254012\n",
       "18  0.0010                  10      adaptive    sgd    0.175164\n",
       "19  0.0010                  10      adaptive   adam    0.252016\n",
       "20  0.0010                  20      constant    sgd    0.177877\n",
       "21  0.0010                  20      constant   adam    0.264783\n",
       "22  0.0010                  20      adaptive    sgd    0.184503\n",
       "23  0.0010                  20      adaptive   adam    0.263188"
      ]
     },
     "execution_count": 142,
     "metadata": {},
     "output_type": "execute_result"
    }
   ],
   "source": [
    "results_MLP"
   ]
  },
  {
   "cell_type": "code",
   "execution_count": null,
   "id": "6e6ae04b",
   "metadata": {},
   "outputs": [],
   "source": [
    "#Linear Regression"
   ]
  },
  {
   "cell_type": "code",
   "execution_count": 253,
   "id": "22b85e61",
   "metadata": {},
   "outputs": [],
   "source": [
    "kf = KFold(n_splits=2,shuffle=False,random_state = None)"
   ]
  },
  {
   "cell_type": "code",
   "execution_count": 254,
   "id": "ee8bf8ef",
   "metadata": {},
   "outputs": [],
   "source": [
    "from sklearn.linear_model import LinearRegression, LogisticRegression, LogisticRegressionCV\n",
    "from sklearn.model_selection import train_test_split\n",
    "from sklearn.metrics import mean_squared_error\n",
    "test = []\n",
    "prediction = []\n",
    "model = LinearRegression()\n",
    "for train_index,test_index in kf.split(ab1_rfi):\n",
    "    X_train,X_test = ab1_rfi[train_index],ab1_rfi[test_index]\n",
    "y_train, y_test = target.values[train_index], target.values[test_index]\n",
    "model.fit(X_train, y_train)\n",
    "pred = model.predict(X_test)\n",
    "prediction += [pred[x] for x in range(len(pred))]\n",
    "test += [y_test[x] for x in range(len(y_test))]"
   ]
  },
  {
   "cell_type": "code",
   "execution_count": 255,
   "id": "91d511a7",
   "metadata": {},
   "outputs": [],
   "source": [
    "error = mean_squared_error(test,prediction)"
   ]
  },
  {
   "cell_type": "code",
   "execution_count": 256,
   "id": "49c4b13a",
   "metadata": {},
   "outputs": [
    {
     "name": "stdout",
     "output_type": "stream",
     "text": [
      "4.909961866246647\n",
      "2.215843375838339\n"
     ]
    }
   ],
   "source": [
    "print(error) \n",
    "print(error**0.5)"
   ]
  },
  {
   "cell_type": "code",
   "execution_count": 257,
   "id": "c482f3a0",
   "metadata": {},
   "outputs": [],
   "source": [
    "test = []\n",
    "prediction = []\n",
    "model = LogisticRegression()\n",
    "for train_index,test_index in kf.split(ab1_rfi):\n",
    "    X_train,X_test = ab1_rfi[train_index],ab1_rfi[test_index]\n",
    "y_train, y_test = target.values[train_index], target.values[test_index]\n",
    "model.fit(X_train, y_train)\n",
    "pred = model.predict(X_test)\n",
    " \n",
    "prediction += [pred[x] for x in range(len(pred))]\n",
    "test += [y_test[x] for x in range(len(y_test))]"
   ]
  },
  {
   "cell_type": "code",
   "execution_count": 258,
   "id": "f500854d",
   "metadata": {},
   "outputs": [
    {
     "name": "stdout",
     "output_type": "stream",
     "text": [
      "8.177681992337165\n",
      "2.8596646643159342\n"
     ]
    }
   ],
   "source": [
    "error = mean_squared_error(test,prediction)\n",
    "print(error)\n",
    "print(error**0.5)"
   ]
  },
  {
   "cell_type": "code",
   "execution_count": 259,
   "id": "79355e0a",
   "metadata": {},
   "outputs": [],
   "source": [
    "model = LogisticRegressionCV()\n",
    "cv_results_logic = cross_val_score(model,ab1_rfi,target.values,cv = 5)"
   ]
  },
  {
   "cell_type": "code",
   "execution_count": 260,
   "id": "f66f3e15",
   "metadata": {},
   "outputs": [
    {
     "data": {
      "text/plain": [
       "nan"
      ]
     },
     "execution_count": 260,
     "metadata": {},
     "output_type": "execute_result"
    }
   ],
   "source": [
    "cv_results_logic.mean().round(4)"
   ]
  },
  {
   "cell_type": "code",
   "execution_count": 261,
   "id": "bedf763a",
   "metadata": {},
   "outputs": [],
   "source": [
    "#Model Comparision"
   ]
  },
  {
   "cell_type": "code",
   "execution_count": 264,
   "id": "5976b7d6",
   "metadata": {},
   "outputs": [
    {
     "data": {
      "text/plain": [
       "0.2705162186040641"
      ]
     },
     "execution_count": 264,
     "metadata": {},
     "output_type": "execute_result"
    }
   ],
   "source": [
    "cv_method_test = StratifiedKFold(n_splits=10,shuffle=True, random_state= None)\n",
    "cv_results_KNN = cross_val_score(estimator=gs_KNN.best_estimator_,\n",
    " X=ab1_rfi,\n",
    " y=target,\n",
    " cv=cv_method_ttest,\n",
    " n_jobs=-2,\n",
    " scoring='accuracy')\n",
    "cv_results_KNN.mean()"
   ]
  },
  {
   "cell_type": "code",
   "execution_count": 265,
   "id": "f579e896",
   "metadata": {},
   "outputs": [
    {
     "data": {
      "text/plain": [
       "0.26454109439720946"
      ]
     },
     "execution_count": 265,
     "metadata": {},
     "output_type": "execute_result"
    }
   ],
   "source": [
    "cv_results_DT = cross_val_score(estimator=gs_DT.best_estimator_,\n",
    " X=ab1_rfi,\n",
    " y=target,\n",
    " cv=cv_method_test,\n",
    " n_jobs=-2,\n",
    " scoring='accuracy')\n",
    "cv_results_DT.mean()"
   ]
  },
  {
   "cell_type": "code",
   "execution_count": 271,
   "id": "092b01ed",
   "metadata": {},
   "outputs": [
    {
     "data": {
      "text/plain": [
       "0.2709992771333173"
      ]
     },
     "execution_count": 271,
     "metadata": {},
     "output_type": "execute_result"
    }
   ],
   "source": [
    "cv_results_RF = cross_val_score(estimator=gs_RF.best_estimator_,\n",
    " X=ab1_rfi,\n",
    " y=target,\n",
    " cv=cv_method_ttest,\n",
    " n_jobs=-2,\n",
    " scoring='accuracy')\n",
    "cv_results_RF.mean()"
   ]
  },
  {
   "cell_type": "code",
   "execution_count": 272,
   "id": "69a43347",
   "metadata": {},
   "outputs": [
    {
     "data": {
      "text/plain": [
       "0.2635921884501967"
      ]
     },
     "execution_count": 272,
     "metadata": {},
     "output_type": "execute_result"
    }
   ],
   "source": [
    "cv_results_NB = cross_val_score(estimator=gs_NB.best_estimator_,\n",
    " X=ab1_power_rfi,\n",
    " y=target,\n",
    " cv=cv_method_ttest,\n",
    " n_jobs=-2,\n",
    " scoring='accuracy')\n",
    "cv_results_NB.mean()"
   ]
  },
  {
   "cell_type": "code",
   "execution_count": 273,
   "id": "edab3796",
   "metadata": {},
   "outputs": [
    {
     "data": {
      "text/plain": [
       "0.263335169185226"
      ]
     },
     "execution_count": 273,
     "metadata": {},
     "output_type": "execute_result"
    }
   ],
   "source": [
    "cv_results_MLP = cross_val_score(estimator=gs_MLP.best_estimator_,\n",
    " X=ab1_rfi,\n",
    " y=target,\n",
    " cv=cv_method_ttest,\n",
    " n_jobs=-2,\n",
    " scoring='accuracy')\n",
    "cv_results_MLP.mean()"
   ]
  },
  {
   "cell_type": "code",
   "execution_count": 274,
   "id": "42d46c15",
   "metadata": {},
   "outputs": [
    {
     "name": "stdout",
     "output_type": "stream",
     "text": [
      "Ttest_relResult(statistic=0.038825881816546615, pvalue=0.9698768138925684)\n",
      "Ttest_relResult(statistic=0.5233734974341119, pvalue=0.6133551005400291)\n",
      "Ttest_relResult(statistic=0.6571098536427962, pvalue=0.5275548775567289)\n",
      "Ttest_relResult(statistic=0.6020874129609738, pvalue=0.5619754592992992)\n"
     ]
    }
   ],
   "source": [
    "print(stats.ttest_rel(cv_results_RF, cv_results_KNN))\n",
    "print(stats.ttest_rel(cv_results_RF, cv_results_DT))\n",
    "print(stats.ttest_rel(cv_results_RF, cv_results_NB))\n",
    "print(stats.ttest_rel(cv_results_RF, cv_results_MLP))"
   ]
  },
  {
   "cell_type": "code",
   "execution_count": 277,
   "id": "a27201ac",
   "metadata": {},
   "outputs": [],
   "source": [
    "pred_KNN = gs_KNN.predict(ab1_rfi)\n",
    "pred_DT = gs_DT.predict(ab1_rfi)\n",
    "pred_RF = gs_RF.predict(ab1_rfi)\n",
    "pred_NB = gs_NB.predict(ab1_power_rfi)\n",
    "pred_MLP = gs_MLP.predict(ab1_rfi)"
   ]
  },
  {
   "cell_type": "code",
   "execution_count": 279,
   "id": "b85c8af5",
   "metadata": {},
   "outputs": [
    {
     "name": "stdout",
     "output_type": "stream",
     "text": [
      "\n",
      "Confusion matrix for K-Nearest Neighbor\n",
      "[[  1   0   0   0   0   0   0   0   0   0   0   0   0   0   0   0   0   0\n",
      "    0   0   0   0   0   0   0   0   0   0]\n",
      " [  0   0   0   1   0   0   0   0   0   0   0   0   0   0   0   0   0   0\n",
      "    0   0   0   0   0   0   0   0   0   0]\n",
      " [  0   0   7   8   0   0   0   0   0   0   0   0   0   0   0   0   0   0\n",
      "    0   0   0   0   0   0   0   0   0   0]\n",
      " [  0   0   0  42   8   6   1   0   0   0   0   0   0   0   0   0   0   0\n",
      "    0   0   0   0   0   0   0   0   0   0]\n",
      " [  0   0   0  12  61  22  20   0   0   0   0   0   0   0   0   0   0   0\n",
      "    0   0   0   0   0   0   0   0   0   0]\n",
      " [  0   0   0   2  22  93 112  23   5   1   0   0   1   0   0   0   0   0\n",
      "    0   0   0   0   0   0   0   0   0   0]\n",
      " [  0   0   0   2  12  25 224  94  29   4   1   0   0   0   0   0   0   0\n",
      "    0   0   0   0   0   0   0   0   0   0]\n",
      " [  0   0   0   0   6  13  95 259 139  52   4   0   0   0   0   0   0   0\n",
      "    0   0   0   0   0   0   0   0   0   0]\n",
      " [  0   0   0   0   0   8  66 122 308 151  34   0   0   0   0   0   0   0\n",
      "    0   0   0   0   0   0   0   0   0   0]\n",
      " [  0   0   0   0   0   4  40  68 157 294  68   2   1   0   0   0   0   0\n",
      "    0   0   0   0   0   0   0   0   0   0]\n",
      " [  0   0   0   0   0   4  20  32 113 170 143   4   1   0   0   0   0   0\n",
      "    0   0   0   0   0   0   0   0   0   0]\n",
      " [  0   0   0   0   0   0  12  29  62  94  50  15   4   0   0   1   0   0\n",
      "    0   0   0   0   0   0   0   0   0   0]\n",
      " [  0   0   0   0   0   1   3  19  33  85  40   2  20   0   0   0   0   0\n",
      "    0   0   0   0   0   0   0   0   0   0]\n",
      " [  0   0   0   0   0   0   3  12  27  56  16   4   3   3   0   2   0   0\n",
      "    0   0   0   0   0   0   0   0   0   0]\n",
      " [  0   0   0   0   0   0   2  11  18  53  16   0   3   0   0   0   0   0\n",
      "    0   0   0   0   0   0   0   0   0   0]\n",
      " [  0   0   0   0   0   0   1   3  10  35   6   2   1   0   0   9   0   0\n",
      "    0   0   0   0   0   0   0   0   0   0]\n",
      " [  0   0   0   0   0   0   0   2   6  33   8   4   1   0   0   2   2   0\n",
      "    0   0   0   0   0   0   0   0   0   0]\n",
      " [  0   0   0   0   0   0   1   3   3  26   5   0   0   0   0   2   1   1\n",
      "    0   0   0   0   0   0   0   0   0   0]\n",
      " [  0   0   0   0   0   0   0   0   2  21   7   0   2   0   0   0   0   0\n",
      "    0   0   0   0   0   0   0   0   0   0]\n",
      " [  0   0   0   0   0   0   0   0   2  16   4   1   3   0   0   0   0   0\n",
      "    0   0   0   0   0   0   0   0   0   0]\n",
      " [  0   0   0   0   0   0   0   1   1   6   3   0   1   0   0   2   0   0\n",
      "    0   0   0   0   0   0   0   0   0   0]\n",
      " [  0   0   0   0   0   0   0   0   1   3   1   0   0   0   0   1   0   0\n",
      "    0   0   0   0   0   0   0   0   0   0]\n",
      " [  0   0   0   0   0   0   0   0   0   5   0   1   3   0   0   0   0   0\n",
      "    0   0   0   0   0   0   0   0   0   0]\n",
      " [  0   0   0   0   0   0   0   0   0   0   2   0   0   0   0   0   0   0\n",
      "    0   0   0   0   0   0   0   0   0   0]\n",
      " [  0   0   0   0   0   0   0   0   0   0   0   0   0   0   0   1   0   0\n",
      "    0   0   0   0   0   0   0   0   0   0]\n",
      " [  0   0   0   0   0   0   0   0   0   1   0   0   0   0   0   0   0   0\n",
      "    0   0   0   0   0   0   0   0   0   0]\n",
      " [  0   0   0   0   0   0   0   0   0   0   1   0   1   0   0   0   0   0\n",
      "    0   0   0   0   0   0   0   0   0   0]\n",
      " [  0   0   0   0   0   0   0   0   0   0   1   0   0   0   0   0   0   0\n",
      "    0   0   0   0   0   0   0   0   0   0]]\n"
     ]
    }
   ],
   "source": [
    "from sklearn import metrics\n",
    "print(\"\\nConfusion matrix for K-Nearest Neighbor\")\n",
    "print(metrics.confusion_matrix(target, pred_RF))"
   ]
  },
  {
   "cell_type": "code",
   "execution_count": null,
   "id": "27c4152d",
   "metadata": {},
   "outputs": [],
   "source": []
  }
 ],
 "metadata": {
  "kernelspec": {
   "display_name": "Python 3 (ipykernel)",
   "language": "python",
   "name": "python3"
  },
  "language_info": {
   "codemirror_mode": {
    "name": "ipython",
    "version": 3
   },
   "file_extension": ".py",
   "mimetype": "text/x-python",
   "name": "python",
   "nbconvert_exporter": "python",
   "pygments_lexer": "ipython3",
   "version": "3.9.7"
  }
 },
 "nbformat": 4,
 "nbformat_minor": 5
}
