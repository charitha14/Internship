{
 "cells": [
  {
   "cell_type": "code",
   "execution_count": 1,
   "id": "25c98809",
   "metadata": {},
   "outputs": [
    {
     "name": "stdout",
     "output_type": "stream",
     "text": [
      "Please enter the Your Own String = charitha\n",
      "{'c': 1, 'h': 2, 'a': 2, 'r': 1, 'i': 1, 't': 1}\n"
     ]
    }
   ],
   "source": [
    "string = input(\"Please enter the Your Own String = \")\n",
    "chardict = {}\n",
    "\n",
    "for num in string:\n",
    "    keys = chardict.keys()\n",
    "    if num in keys:\n",
    "        chardict[num] += 1\n",
    "    else:\n",
    "        chardict[num] = 1\n",
    "\n",
    "print(chardict)"
   ]
  },
  {
   "cell_type": "code",
   "execution_count": null,
   "id": "550971b7",
   "metadata": {},
   "outputs": [],
   "source": []
  }
 ],
 "metadata": {
  "kernelspec": {
   "display_name": "Python 3 (ipykernel)",
   "language": "python",
   "name": "python3"
  },
  "language_info": {
   "codemirror_mode": {
    "name": "ipython",
    "version": 3
   },
   "file_extension": ".py",
   "mimetype": "text/x-python",
   "name": "python",
   "nbconvert_exporter": "python",
   "pygments_lexer": "ipython3",
   "version": "3.9.7"
  }
 },
 "nbformat": 4,
 "nbformat_minor": 5
}
