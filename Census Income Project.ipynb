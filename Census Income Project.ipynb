{
 "cells": [
  {
   "cell_type": "code",
   "execution_count": 1,
   "id": "ef501fa8",
   "metadata": {},
   "outputs": [],
   "source": [
    "import pandas as pd\n",
    "import numpy as np\n",
    "import seaborn as sns\n",
    "%matplotlib inline\n",
    "from matplotlib import pyplot as plt\n",
    "import sklearn\n",
    "from sklearn.linear_model import LogisticRegression\n",
    "from sklearn.metrics import accuracy_score\n",
    "from sklearn.metrics import confusion_matrix, classification_report\n",
    "from sklearn.model_selection import train_test_split\n",
    "import warnings\n",
    "warnings.filterwarnings('ignore')"
   ]
  },
  {
   "cell_type": "code",
   "execution_count": 2,
   "id": "b4be381f",
   "metadata": {},
   "outputs": [
    {
     "name": "stdout",
     "output_type": "stream",
     "text": [
      "Number of Observations in adult dataset: (32560, 15)\n"
     ]
    },
    {
     "data": {
      "text/html": [
       "<div>\n",
       "<style scoped>\n",
       "    .dataframe tbody tr th:only-of-type {\n",
       "        vertical-align: middle;\n",
       "    }\n",
       "\n",
       "    .dataframe tbody tr th {\n",
       "        vertical-align: top;\n",
       "    }\n",
       "\n",
       "    .dataframe thead th {\n",
       "        text-align: right;\n",
       "    }\n",
       "</style>\n",
       "<table border=\"1\" class=\"dataframe\">\n",
       "  <thead>\n",
       "    <tr style=\"text-align: right;\">\n",
       "      <th></th>\n",
       "      <th>Age</th>\n",
       "      <th>Workclass</th>\n",
       "      <th>Fnlwgt</th>\n",
       "      <th>Education</th>\n",
       "      <th>Education_num</th>\n",
       "      <th>Marital_status</th>\n",
       "      <th>Occupation</th>\n",
       "      <th>Relationship</th>\n",
       "      <th>Race</th>\n",
       "      <th>Sex</th>\n",
       "      <th>Capital_gain</th>\n",
       "      <th>Capital_loss</th>\n",
       "      <th>Hours_per_week</th>\n",
       "      <th>Native_country</th>\n",
       "      <th>Income</th>\n",
       "    </tr>\n",
       "  </thead>\n",
       "  <tbody>\n",
       "    <tr>\n",
       "      <th>0</th>\n",
       "      <td>50</td>\n",
       "      <td>Self-emp-not-inc</td>\n",
       "      <td>83311</td>\n",
       "      <td>Bachelors</td>\n",
       "      <td>13</td>\n",
       "      <td>Married-civ-spouse</td>\n",
       "      <td>Exec-managerial</td>\n",
       "      <td>Husband</td>\n",
       "      <td>White</td>\n",
       "      <td>Male</td>\n",
       "      <td>0</td>\n",
       "      <td>0</td>\n",
       "      <td>13</td>\n",
       "      <td>United-States</td>\n",
       "      <td>&lt;=50K</td>\n",
       "    </tr>\n",
       "    <tr>\n",
       "      <th>1</th>\n",
       "      <td>38</td>\n",
       "      <td>Private</td>\n",
       "      <td>215646</td>\n",
       "      <td>HS-grad</td>\n",
       "      <td>9</td>\n",
       "      <td>Divorced</td>\n",
       "      <td>Handlers-cleaners</td>\n",
       "      <td>Not-in-family</td>\n",
       "      <td>White</td>\n",
       "      <td>Male</td>\n",
       "      <td>0</td>\n",
       "      <td>0</td>\n",
       "      <td>40</td>\n",
       "      <td>United-States</td>\n",
       "      <td>&lt;=50K</td>\n",
       "    </tr>\n",
       "    <tr>\n",
       "      <th>2</th>\n",
       "      <td>53</td>\n",
       "      <td>Private</td>\n",
       "      <td>234721</td>\n",
       "      <td>11th</td>\n",
       "      <td>7</td>\n",
       "      <td>Married-civ-spouse</td>\n",
       "      <td>Handlers-cleaners</td>\n",
       "      <td>Husband</td>\n",
       "      <td>Black</td>\n",
       "      <td>Male</td>\n",
       "      <td>0</td>\n",
       "      <td>0</td>\n",
       "      <td>40</td>\n",
       "      <td>United-States</td>\n",
       "      <td>&lt;=50K</td>\n",
       "    </tr>\n",
       "    <tr>\n",
       "      <th>3</th>\n",
       "      <td>28</td>\n",
       "      <td>Private</td>\n",
       "      <td>338409</td>\n",
       "      <td>Bachelors</td>\n",
       "      <td>13</td>\n",
       "      <td>Married-civ-spouse</td>\n",
       "      <td>Prof-specialty</td>\n",
       "      <td>Wife</td>\n",
       "      <td>Black</td>\n",
       "      <td>Female</td>\n",
       "      <td>0</td>\n",
       "      <td>0</td>\n",
       "      <td>40</td>\n",
       "      <td>Cuba</td>\n",
       "      <td>&lt;=50K</td>\n",
       "    </tr>\n",
       "    <tr>\n",
       "      <th>4</th>\n",
       "      <td>37</td>\n",
       "      <td>Private</td>\n",
       "      <td>284582</td>\n",
       "      <td>Masters</td>\n",
       "      <td>14</td>\n",
       "      <td>Married-civ-spouse</td>\n",
       "      <td>Exec-managerial</td>\n",
       "      <td>Wife</td>\n",
       "      <td>White</td>\n",
       "      <td>Female</td>\n",
       "      <td>0</td>\n",
       "      <td>0</td>\n",
       "      <td>40</td>\n",
       "      <td>United-States</td>\n",
       "      <td>&lt;=50K</td>\n",
       "    </tr>\n",
       "  </tbody>\n",
       "</table>\n",
       "</div>"
      ],
      "text/plain": [
       "   Age          Workclass  Fnlwgt   Education  Education_num  \\\n",
       "0   50   Self-emp-not-inc   83311   Bachelors             13   \n",
       "1   38            Private  215646     HS-grad              9   \n",
       "2   53            Private  234721        11th              7   \n",
       "3   28            Private  338409   Bachelors             13   \n",
       "4   37            Private  284582     Masters             14   \n",
       "\n",
       "        Marital_status          Occupation    Relationship    Race      Sex  \\\n",
       "0   Married-civ-spouse     Exec-managerial         Husband   White     Male   \n",
       "1             Divorced   Handlers-cleaners   Not-in-family   White     Male   \n",
       "2   Married-civ-spouse   Handlers-cleaners         Husband   Black     Male   \n",
       "3   Married-civ-spouse      Prof-specialty            Wife   Black   Female   \n",
       "4   Married-civ-spouse     Exec-managerial            Wife   White   Female   \n",
       "\n",
       "   Capital_gain  Capital_loss  Hours_per_week  Native_country  Income  \n",
       "0             0             0              13   United-States   <=50K  \n",
       "1             0             0              40   United-States   <=50K  \n",
       "2             0             0              40   United-States   <=50K  \n",
       "3             0             0              40            Cuba   <=50K  \n",
       "4             0             0              40   United-States   <=50K  "
      ]
     },
     "execution_count": 2,
     "metadata": {},
     "output_type": "execute_result"
    }
   ],
   "source": [
    "df=pd.read_csv(r'https://raw.githubusercontent.com/dsrscientist/dataset1/master/census_income.csv')\n",
    "print(\"Number of Observations in adult dataset:\", df.shape)\n",
    "df.head()"
   ]
  },
  {
   "cell_type": "code",
   "execution_count": 3,
   "id": "41c40cc3",
   "metadata": {},
   "outputs": [
    {
     "name": "stdout",
     "output_type": "stream",
     "text": [
      "<class 'pandas.core.frame.DataFrame'>\n",
      "RangeIndex: 32560 entries, 0 to 32559\n",
      "Data columns (total 15 columns):\n",
      " #   Column          Non-Null Count  Dtype \n",
      "---  ------          --------------  ----- \n",
      " 0   Age             32560 non-null  int64 \n",
      " 1   Workclass       32560 non-null  object\n",
      " 2   Fnlwgt          32560 non-null  int64 \n",
      " 3   Education       32560 non-null  object\n",
      " 4   Education_num   32560 non-null  int64 \n",
      " 5   Marital_status  32560 non-null  object\n",
      " 6   Occupation      32560 non-null  object\n",
      " 7   Relationship    32560 non-null  object\n",
      " 8   Race            32560 non-null  object\n",
      " 9   Sex             32560 non-null  object\n",
      " 10  Capital_gain    32560 non-null  int64 \n",
      " 11  Capital_loss    32560 non-null  int64 \n",
      " 12  Hours_per_week  32560 non-null  int64 \n",
      " 13  Native_country  32560 non-null  object\n",
      " 14  Income          32560 non-null  object\n",
      "dtypes: int64(6), object(9)\n",
      "memory usage: 3.7+ MB\n"
     ]
    }
   ],
   "source": [
    "df.info()"
   ]
  },
  {
   "cell_type": "code",
   "execution_count": 4,
   "id": "7f01e938",
   "metadata": {},
   "outputs": [
    {
     "data": {
      "text/html": [
       "<div>\n",
       "<style scoped>\n",
       "    .dataframe tbody tr th:only-of-type {\n",
       "        vertical-align: middle;\n",
       "    }\n",
       "\n",
       "    .dataframe tbody tr th {\n",
       "        vertical-align: top;\n",
       "    }\n",
       "\n",
       "    .dataframe thead th {\n",
       "        text-align: right;\n",
       "    }\n",
       "</style>\n",
       "<table border=\"1\" class=\"dataframe\">\n",
       "  <thead>\n",
       "    <tr style=\"text-align: right;\">\n",
       "      <th></th>\n",
       "      <th>Age</th>\n",
       "      <th>Fnlwgt</th>\n",
       "      <th>Education_num</th>\n",
       "      <th>Capital_gain</th>\n",
       "      <th>Capital_loss</th>\n",
       "      <th>Hours_per_week</th>\n",
       "    </tr>\n",
       "  </thead>\n",
       "  <tbody>\n",
       "    <tr>\n",
       "      <th>count</th>\n",
       "      <td>32560.000000</td>\n",
       "      <td>3.256000e+04</td>\n",
       "      <td>32560.000000</td>\n",
       "      <td>32560.000000</td>\n",
       "      <td>32560.000000</td>\n",
       "      <td>32560.000000</td>\n",
       "    </tr>\n",
       "    <tr>\n",
       "      <th>mean</th>\n",
       "      <td>38.581634</td>\n",
       "      <td>1.897818e+05</td>\n",
       "      <td>10.080590</td>\n",
       "      <td>1077.615172</td>\n",
       "      <td>87.306511</td>\n",
       "      <td>40.437469</td>\n",
       "    </tr>\n",
       "    <tr>\n",
       "      <th>std</th>\n",
       "      <td>13.640642</td>\n",
       "      <td>1.055498e+05</td>\n",
       "      <td>2.572709</td>\n",
       "      <td>7385.402999</td>\n",
       "      <td>402.966116</td>\n",
       "      <td>12.347618</td>\n",
       "    </tr>\n",
       "    <tr>\n",
       "      <th>min</th>\n",
       "      <td>17.000000</td>\n",
       "      <td>1.228500e+04</td>\n",
       "      <td>1.000000</td>\n",
       "      <td>0.000000</td>\n",
       "      <td>0.000000</td>\n",
       "      <td>1.000000</td>\n",
       "    </tr>\n",
       "    <tr>\n",
       "      <th>25%</th>\n",
       "      <td>28.000000</td>\n",
       "      <td>1.178315e+05</td>\n",
       "      <td>9.000000</td>\n",
       "      <td>0.000000</td>\n",
       "      <td>0.000000</td>\n",
       "      <td>40.000000</td>\n",
       "    </tr>\n",
       "    <tr>\n",
       "      <th>50%</th>\n",
       "      <td>37.000000</td>\n",
       "      <td>1.783630e+05</td>\n",
       "      <td>10.000000</td>\n",
       "      <td>0.000000</td>\n",
       "      <td>0.000000</td>\n",
       "      <td>40.000000</td>\n",
       "    </tr>\n",
       "    <tr>\n",
       "      <th>75%</th>\n",
       "      <td>48.000000</td>\n",
       "      <td>2.370545e+05</td>\n",
       "      <td>12.000000</td>\n",
       "      <td>0.000000</td>\n",
       "      <td>0.000000</td>\n",
       "      <td>45.000000</td>\n",
       "    </tr>\n",
       "    <tr>\n",
       "      <th>max</th>\n",
       "      <td>90.000000</td>\n",
       "      <td>1.484705e+06</td>\n",
       "      <td>16.000000</td>\n",
       "      <td>99999.000000</td>\n",
       "      <td>4356.000000</td>\n",
       "      <td>99.000000</td>\n",
       "    </tr>\n",
       "  </tbody>\n",
       "</table>\n",
       "</div>"
      ],
      "text/plain": [
       "                Age        Fnlwgt  Education_num  Capital_gain  Capital_loss  \\\n",
       "count  32560.000000  3.256000e+04   32560.000000  32560.000000  32560.000000   \n",
       "mean      38.581634  1.897818e+05      10.080590   1077.615172     87.306511   \n",
       "std       13.640642  1.055498e+05       2.572709   7385.402999    402.966116   \n",
       "min       17.000000  1.228500e+04       1.000000      0.000000      0.000000   \n",
       "25%       28.000000  1.178315e+05       9.000000      0.000000      0.000000   \n",
       "50%       37.000000  1.783630e+05      10.000000      0.000000      0.000000   \n",
       "75%       48.000000  2.370545e+05      12.000000      0.000000      0.000000   \n",
       "max       90.000000  1.484705e+06      16.000000  99999.000000   4356.000000   \n",
       "\n",
       "       Hours_per_week  \n",
       "count    32560.000000  \n",
       "mean        40.437469  \n",
       "std         12.347618  \n",
       "min          1.000000  \n",
       "25%         40.000000  \n",
       "50%         40.000000  \n",
       "75%         45.000000  \n",
       "max         99.000000  "
      ]
     },
     "execution_count": 4,
     "metadata": {},
     "output_type": "execute_result"
    }
   ],
   "source": [
    "df.describe()"
   ]
  },
  {
   "cell_type": "code",
   "execution_count": 5,
   "id": "9f0f794a",
   "metadata": {},
   "outputs": [
    {
     "data": {
      "text/plain": [
       "Age               0\n",
       "Workclass         0\n",
       "Fnlwgt            0\n",
       "Education         0\n",
       "Education_num     0\n",
       "Marital_status    0\n",
       "Occupation        0\n",
       "Relationship      0\n",
       "Race              0\n",
       "Sex               0\n",
       "Capital_gain      0\n",
       "Capital_loss      0\n",
       "Hours_per_week    0\n",
       "Native_country    0\n",
       "Income            0\n",
       "dtype: int64"
      ]
     },
     "execution_count": 5,
     "metadata": {},
     "output_type": "execute_result"
    }
   ],
   "source": [
    "df.isna().sum()"
   ]
  },
  {
   "cell_type": "code",
   "execution_count": 6,
   "id": "ecbd5141",
   "metadata": {},
   "outputs": [
    {
     "data": {
      "text/plain": [
       "<AxesSubplot:>"
      ]
     },
     "execution_count": 6,
     "metadata": {},
     "output_type": "execute_result"
    },
    {
     "data": {
      "image/png": "[encoded data removed]",
      "text/plain": [
       "<Figure size 432x288 with 2 Axes>"
      ]
     },
     "metadata": {
      "needs_background": "light"
     },
     "output_type": "display_data"
    }
   ],
   "source": [
    "sns.heatmap(df.isna())"
   ]
  },
  {
   "cell_type": "markdown",
   "id": "61718df8",
   "metadata": {},
   "source": [
    "There is no null values in the dataset"
   ]
  },
  {
   "cell_type": "code",
   "execution_count": 7,
   "id": "e61fb769",
   "metadata": {},
   "outputs": [
    {
     "data": {
      "text/plain": [
       "Age                  73\n",
       "Workclass             9\n",
       "Fnlwgt            21647\n",
       "Education            16\n",
       "Education_num        16\n",
       "Marital_status        7\n",
       "Occupation           15\n",
       "Relationship          6\n",
       "Race                  5\n",
       "Sex                   2\n",
       "Capital_gain        119\n",
       "Capital_loss         92\n",
       "Hours_per_week       94\n",
       "Native_country       42\n",
       "Income                2\n",
       "dtype: int64"
      ]
     },
     "execution_count": 7,
     "metadata": {},
     "output_type": "execute_result"
    }
   ],
   "source": [
    "df.nunique()"
   ]
  },
  {
   "cell_type": "markdown",
   "id": "a66ee385",
   "metadata": {},
   "source": [
    "These are the number of unique values present in each columns. Income holds only 2 values."
   ]
  },
  {
   "cell_type": "code",
   "execution_count": 8,
   "id": "ca7d7e47",
   "metadata": {},
   "outputs": [
    {
     "name": "stdout",
     "output_type": "stream",
     "text": [
      "36    898\n",
      "31    888\n",
      "34    886\n",
      "23    877\n",
      "35    876\n",
      "     ... \n",
      "83      6\n",
      "88      3\n",
      "85      3\n",
      "86      1\n",
      "87      1\n",
      "Name: Age, Length: 73, dtype: int64\n",
      "-----------------------------------\n",
      " Private             22696\n",
      " Self-emp-not-inc     2541\n",
      " Local-gov            2093\n",
      " ?                    1836\n",
      " State-gov            1297\n",
      " Self-emp-inc         1116\n",
      " Federal-gov           960\n",
      " Without-pay            14\n",
      " Never-worked            7\n",
      "Name: Workclass, dtype: int64\n",
      "-----------------------------------\n",
      "164190    13\n",
      "203488    13\n",
      "123011    13\n",
      "148995    12\n",
      "126675    12\n",
      "          ..\n",
      "325573     1\n",
      "140176     1\n",
      "318264     1\n",
      "329205     1\n",
      "257302     1\n",
      "Name: Fnlwgt, Length: 21647, dtype: int64\n",
      "-----------------------------------\n",
      " HS-grad         10501\n",
      " Some-college     7291\n",
      " Bachelors        5354\n",
      " Masters          1723\n",
      " Assoc-voc        1382\n",
      " 11th             1175\n",
      " Assoc-acdm       1067\n",
      " 10th              933\n",
      " 7th-8th           646\n",
      " Prof-school       576\n",
      " 9th               514\n",
      " 12th              433\n",
      " Doctorate         413\n",
      " 5th-6th           333\n",
      " 1st-4th           168\n",
      " Preschool          51\n",
      "Name: Education, dtype: int64\n",
      "-----------------------------------\n",
      "9     10501\n",
      "10     7291\n",
      "13     5354\n",
      "14     1723\n",
      "11     1382\n",
      "7      1175\n",
      "12     1067\n",
      "6       933\n",
      "4       646\n",
      "15      576\n",
      "5       514\n",
      "8       433\n",
      "16      413\n",
      "3       333\n",
      "2       168\n",
      "1        51\n",
      "Name: Education_num, dtype: int64\n",
      "-----------------------------------\n",
      " Married-civ-spouse       14976\n",
      " Never-married            10682\n",
      " Divorced                  4443\n",
      " Separated                 1025\n",
      " Widowed                    993\n",
      " Married-spouse-absent      418\n",
      " Married-AF-spouse           23\n",
      "Name: Marital_status, dtype: int64\n",
      "-----------------------------------\n",
      " Prof-specialty       4140\n",
      " Craft-repair         4099\n",
      " Exec-managerial      4066\n",
      " Adm-clerical         3769\n",
      " Sales                3650\n",
      " Other-service        3295\n",
      " Machine-op-inspct    2002\n",
      " ?                    1843\n",
      " Transport-moving     1597\n",
      " Handlers-cleaners    1370\n",
      " Farming-fishing       994\n",
      " Tech-support          928\n",
      " Protective-serv       649\n",
      " Priv-house-serv       149\n",
      " Armed-Forces            9\n",
      "Name: Occupation, dtype: int64\n",
      "-----------------------------------\n",
      " Husband           13193\n",
      " Not-in-family      8304\n",
      " Own-child          5068\n",
      " Unmarried          3446\n",
      " Wife               1568\n",
      " Other-relative      981\n",
      "Name: Relationship, dtype: int64\n",
      "-----------------------------------\n",
      " White                 27815\n",
      " Black                  3124\n",
      " Asian-Pac-Islander     1039\n",
      " Amer-Indian-Eskimo      311\n",
      " Other                   271\n",
      "Name: Race, dtype: int64\n",
      "-----------------------------------\n",
      " Male      21789\n",
      " Female    10771\n",
      "Name: Sex, dtype: int64\n",
      "-----------------------------------\n",
      "0        29849\n",
      "15024      347\n",
      "7688       284\n",
      "7298       246\n",
      "99999      159\n",
      "         ...  \n",
      "1111         1\n",
      "2538         1\n",
      "22040        1\n",
      "4931         1\n",
      "5060         1\n",
      "Name: Capital_gain, Length: 119, dtype: int64\n",
      "-----------------------------------\n",
      "0       31041\n",
      "1902      202\n",
      "1977      168\n",
      "1887      159\n",
      "1848       51\n",
      "        ...  \n",
      "2080        1\n",
      "1539        1\n",
      "1844        1\n",
      "2489        1\n",
      "1411        1\n",
      "Name: Capital_loss, Length: 92, dtype: int64\n",
      "-----------------------------------\n",
      "40    15216\n",
      "50     2819\n",
      "45     1824\n",
      "60     1475\n",
      "35     1297\n",
      "      ...  \n",
      "82        1\n",
      "94        1\n",
      "92        1\n",
      "74        1\n",
      "87        1\n",
      "Name: Hours_per_week, Length: 94, dtype: int64\n",
      "-----------------------------------\n",
      " United-States                 29169\n",
      " Mexico                          643\n",
      " ?                               583\n",
      " Philippines                     198\n",
      " Germany                         137\n",
      " Canada                          121\n",
      " Puerto-Rico                     114\n",
      " El-Salvador                     106\n",
      " India                           100\n",
      " Cuba                             95\n",
      " England                          90\n",
      " Jamaica                          81\n",
      " South                            80\n",
      " China                            75\n",
      " Italy                            73\n",
      " Dominican-Republic               70\n",
      " Vietnam                          67\n",
      " Guatemala                        64\n",
      " Japan                            62\n",
      " Poland                           60\n",
      " Columbia                         59\n",
      " Taiwan                           51\n",
      " Haiti                            44\n",
      " Iran                             43\n",
      " Portugal                         37\n",
      " Nicaragua                        34\n",
      " Peru                             31\n",
      " France                           29\n",
      " Greece                           29\n",
      " Ecuador                          28\n",
      " Ireland                          24\n",
      " Hong                             20\n",
      " Cambodia                         19\n",
      " Trinadad&Tobago                  19\n",
      " Laos                             18\n",
      " Thailand                         18\n",
      " Yugoslavia                       16\n",
      " Outlying-US(Guam-USVI-etc)       14\n",
      " Honduras                         13\n",
      " Hungary                          13\n",
      " Scotland                         12\n",
      " Holand-Netherlands                1\n",
      "Name: Native_country, dtype: int64\n",
      "-----------------------------------\n",
      " <=50K    24719\n",
      " >50K      7841\n",
      "Name: Income, dtype: int64\n",
      "-----------------------------------\n"
     ]
    }
   ],
   "source": [
    "for i in df.columns:\n",
    "    print(df[i].value_counts())\n",
    "    print('-----------------------------------')"
   ]
  },
  {
   "cell_type": "code",
   "execution_count": 9,
   "id": "cbb4961e",
   "metadata": {},
   "outputs": [
    {
     "data": {
      "text/plain": [
       "Age                  0\n",
       "Workclass         1836\n",
       "Fnlwgt               0\n",
       "Education            0\n",
       "Education_num        0\n",
       "Marital_status       0\n",
       "Occupation        1843\n",
       "Relationship         0\n",
       "Race                 0\n",
       "Sex                  0\n",
       "Capital_gain         0\n",
       "Capital_loss         0\n",
       "Hours_per_week       0\n",
       "Native_country     583\n",
       "Income               0\n",
       "dtype: int64"
      ]
     },
     "execution_count": 9,
     "metadata": {},
     "output_type": "execute_result"
    }
   ],
   "source": [
    "df.isin([\" ?\"]).sum()"
   ]
  },
  {
   "cell_type": "markdown",
   "id": "d79fb88d",
   "metadata": {},
   "source": [
    "we can see workclass, occupation, native_country holds\"?\" value.\n",
    "so we would drop the respective rows for the dataset.\n",
    "Capital_gain,Capital_loss has more 0s. these columns are not required for our analysis. so we will drop them"
   ]
  },
  {
   "cell_type": "code",
   "execution_count": 10,
   "id": "7aef38b8",
   "metadata": {},
   "outputs": [],
   "source": [
    "df.drop(\"Capital_gain\", axis=1, inplace=True)\n",
    "df.drop(\"Capital_loss\", axis=1, inplace=True)\n",
    "df.drop(\"Fnlwgt\",axis=1,inplace=True)"
   ]
  },
  {
   "cell_type": "code",
   "execution_count": 11,
   "id": "c267a1b5",
   "metadata": {},
   "outputs": [
    {
     "data": {
      "text/html": [
       "<div>\n",
       "<style scoped>\n",
       "    .dataframe tbody tr th:only-of-type {\n",
       "        vertical-align: middle;\n",
       "    }\n",
       "\n",
       "    .dataframe tbody tr th {\n",
       "        vertical-align: top;\n",
       "    }\n",
       "\n",
       "    .dataframe thead th {\n",
       "        text-align: right;\n",
       "    }\n",
       "</style>\n",
       "<table border=\"1\" class=\"dataframe\">\n",
       "  <thead>\n",
       "    <tr style=\"text-align: right;\">\n",
       "      <th></th>\n",
       "      <th>Age</th>\n",
       "      <th>Workclass</th>\n",
       "      <th>Education</th>\n",
       "      <th>Education_num</th>\n",
       "      <th>Marital_status</th>\n",
       "      <th>Occupation</th>\n",
       "      <th>Relationship</th>\n",
       "      <th>Race</th>\n",
       "      <th>Sex</th>\n",
       "      <th>Hours_per_week</th>\n",
       "      <th>Native_country</th>\n",
       "      <th>Income</th>\n",
       "    </tr>\n",
       "  </thead>\n",
       "  <tbody>\n",
       "    <tr>\n",
       "      <th>0</th>\n",
       "      <td>50</td>\n",
       "      <td>Self-emp-not-inc</td>\n",
       "      <td>Bachelors</td>\n",
       "      <td>13</td>\n",
       "      <td>Married-civ-spouse</td>\n",
       "      <td>Exec-managerial</td>\n",
       "      <td>Husband</td>\n",
       "      <td>White</td>\n",
       "      <td>Male</td>\n",
       "      <td>13</td>\n",
       "      <td>United-States</td>\n",
       "      <td>&lt;=50K</td>\n",
       "    </tr>\n",
       "    <tr>\n",
       "      <th>1</th>\n",
       "      <td>38</td>\n",
       "      <td>Private</td>\n",
       "      <td>HS-grad</td>\n",
       "      <td>9</td>\n",
       "      <td>Divorced</td>\n",
       "      <td>Handlers-cleaners</td>\n",
       "      <td>Not-in-family</td>\n",
       "      <td>White</td>\n",
       "      <td>Male</td>\n",
       "      <td>40</td>\n",
       "      <td>United-States</td>\n",
       "      <td>&lt;=50K</td>\n",
       "    </tr>\n",
       "    <tr>\n",
       "      <th>2</th>\n",
       "      <td>53</td>\n",
       "      <td>Private</td>\n",
       "      <td>11th</td>\n",
       "      <td>7</td>\n",
       "      <td>Married-civ-spouse</td>\n",
       "      <td>Handlers-cleaners</td>\n",
       "      <td>Husband</td>\n",
       "      <td>Black</td>\n",
       "      <td>Male</td>\n",
       "      <td>40</td>\n",
       "      <td>United-States</td>\n",
       "      <td>&lt;=50K</td>\n",
       "    </tr>\n",
       "    <tr>\n",
       "      <th>3</th>\n",
       "      <td>28</td>\n",
       "      <td>Private</td>\n",
       "      <td>Bachelors</td>\n",
       "      <td>13</td>\n",
       "      <td>Married-civ-spouse</td>\n",
       "      <td>Prof-specialty</td>\n",
       "      <td>Wife</td>\n",
       "      <td>Black</td>\n",
       "      <td>Female</td>\n",
       "      <td>40</td>\n",
       "      <td>Cuba</td>\n",
       "      <td>&lt;=50K</td>\n",
       "    </tr>\n",
       "    <tr>\n",
       "      <th>4</th>\n",
       "      <td>37</td>\n",
       "      <td>Private</td>\n",
       "      <td>Masters</td>\n",
       "      <td>14</td>\n",
       "      <td>Married-civ-spouse</td>\n",
       "      <td>Exec-managerial</td>\n",
       "      <td>Wife</td>\n",
       "      <td>White</td>\n",
       "      <td>Female</td>\n",
       "      <td>40</td>\n",
       "      <td>United-States</td>\n",
       "      <td>&lt;=50K</td>\n",
       "    </tr>\n",
       "    <tr>\n",
       "      <th>...</th>\n",
       "      <td>...</td>\n",
       "      <td>...</td>\n",
       "      <td>...</td>\n",
       "      <td>...</td>\n",
       "      <td>...</td>\n",
       "      <td>...</td>\n",
       "      <td>...</td>\n",
       "      <td>...</td>\n",
       "      <td>...</td>\n",
       "      <td>...</td>\n",
       "      <td>...</td>\n",
       "      <td>...</td>\n",
       "    </tr>\n",
       "    <tr>\n",
       "      <th>32555</th>\n",
       "      <td>27</td>\n",
       "      <td>Private</td>\n",
       "      <td>Assoc-acdm</td>\n",
       "      <td>12</td>\n",
       "      <td>Married-civ-spouse</td>\n",
       "      <td>Tech-support</td>\n",
       "      <td>Wife</td>\n",
       "      <td>White</td>\n",
       "      <td>Female</td>\n",
       "      <td>38</td>\n",
       "      <td>United-States</td>\n",
       "      <td>&lt;=50K</td>\n",
       "    </tr>\n",
       "    <tr>\n",
       "      <th>32556</th>\n",
       "      <td>40</td>\n",
       "      <td>Private</td>\n",
       "      <td>HS-grad</td>\n",
       "      <td>9</td>\n",
       "      <td>Married-civ-spouse</td>\n",
       "      <td>Machine-op-inspct</td>\n",
       "      <td>Husband</td>\n",
       "      <td>White</td>\n",
       "      <td>Male</td>\n",
       "      <td>40</td>\n",
       "      <td>United-States</td>\n",
       "      <td>&gt;50K</td>\n",
       "    </tr>\n",
       "    <tr>\n",
       "      <th>32557</th>\n",
       "      <td>58</td>\n",
       "      <td>Private</td>\n",
       "      <td>HS-grad</td>\n",
       "      <td>9</td>\n",
       "      <td>Widowed</td>\n",
       "      <td>Adm-clerical</td>\n",
       "      <td>Unmarried</td>\n",
       "      <td>White</td>\n",
       "      <td>Female</td>\n",
       "      <td>40</td>\n",
       "      <td>United-States</td>\n",
       "      <td>&lt;=50K</td>\n",
       "    </tr>\n",
       "    <tr>\n",
       "      <th>32558</th>\n",
       "      <td>22</td>\n",
       "      <td>Private</td>\n",
       "      <td>HS-grad</td>\n",
       "      <td>9</td>\n",
       "      <td>Never-married</td>\n",
       "      <td>Adm-clerical</td>\n",
       "      <td>Own-child</td>\n",
       "      <td>White</td>\n",
       "      <td>Male</td>\n",
       "      <td>20</td>\n",
       "      <td>United-States</td>\n",
       "      <td>&lt;=50K</td>\n",
       "    </tr>\n",
       "    <tr>\n",
       "      <th>32559</th>\n",
       "      <td>52</td>\n",
       "      <td>Self-emp-inc</td>\n",
       "      <td>HS-grad</td>\n",
       "      <td>9</td>\n",
       "      <td>Married-civ-spouse</td>\n",
       "      <td>Exec-managerial</td>\n",
       "      <td>Wife</td>\n",
       "      <td>White</td>\n",
       "      <td>Female</td>\n",
       "      <td>40</td>\n",
       "      <td>United-States</td>\n",
       "      <td>&gt;50K</td>\n",
       "    </tr>\n",
       "  </tbody>\n",
       "</table>\n",
       "<p>30161 rows × 12 columns</p>\n",
       "</div>"
      ],
      "text/plain": [
       "       Age          Workclass    Education  Education_num  \\\n",
       "0       50   Self-emp-not-inc    Bachelors             13   \n",
       "1       38            Private      HS-grad              9   \n",
       "2       53            Private         11th              7   \n",
       "3       28            Private    Bachelors             13   \n",
       "4       37            Private      Masters             14   \n",
       "...    ...                ...          ...            ...   \n",
       "32555   27            Private   Assoc-acdm             12   \n",
       "32556   40            Private      HS-grad              9   \n",
       "32557   58            Private      HS-grad              9   \n",
       "32558   22            Private      HS-grad              9   \n",
       "32559   52       Self-emp-inc      HS-grad              9   \n",
       "\n",
       "            Marital_status          Occupation    Relationship    Race  \\\n",
       "0       Married-civ-spouse     Exec-managerial         Husband   White   \n",
       "1                 Divorced   Handlers-cleaners   Not-in-family   White   \n",
       "2       Married-civ-spouse   Handlers-cleaners         Husband   Black   \n",
       "3       Married-civ-spouse      Prof-specialty            Wife   Black   \n",
       "4       Married-civ-spouse     Exec-managerial            Wife   White   \n",
       "...                    ...                 ...             ...     ...   \n",
       "32555   Married-civ-spouse        Tech-support            Wife   White   \n",
       "32556   Married-civ-spouse   Machine-op-inspct         Husband   White   \n",
       "32557              Widowed        Adm-clerical       Unmarried   White   \n",
       "32558        Never-married        Adm-clerical       Own-child   White   \n",
       "32559   Married-civ-spouse     Exec-managerial            Wife   White   \n",
       "\n",
       "           Sex  Hours_per_week  Native_country  Income  \n",
       "0         Male              13   United-States   <=50K  \n",
       "1         Male              40   United-States   <=50K  \n",
       "2         Male              40   United-States   <=50K  \n",
       "3       Female              40            Cuba   <=50K  \n",
       "4       Female              40   United-States   <=50K  \n",
       "...        ...             ...             ...     ...  \n",
       "32555   Female              38   United-States   <=50K  \n",
       "32556     Male              40   United-States    >50K  \n",
       "32557   Female              40   United-States   <=50K  \n",
       "32558     Male              20   United-States   <=50K  \n",
       "32559   Female              40   United-States    >50K  \n",
       "\n",
       "[30161 rows x 12 columns]"
      ]
     },
     "execution_count": 11,
     "metadata": {},
     "output_type": "execute_result"
    }
   ],
   "source": [
    "df.replace(to_replace=\" ?\", value=np.nan, inplace=True)\n",
    "df=df.dropna()\n",
    "df"
   ]
  },
  {
   "cell_type": "code",
   "execution_count": 12,
   "id": "a5a41496",
   "metadata": {},
   "outputs": [
    {
     "data": {
      "text/plain": [
       "Age               0\n",
       "Workclass         0\n",
       "Education         0\n",
       "Education_num     0\n",
       "Marital_status    0\n",
       "Occupation        0\n",
       "Relationship      0\n",
       "Race              0\n",
       "Sex               0\n",
       "Hours_per_week    0\n",
       "Native_country    0\n",
       "Income            0\n",
       "dtype: int64"
      ]
     },
     "execution_count": 12,
     "metadata": {},
     "output_type": "execute_result"
    }
   ],
   "source": [
    "df.isin([\" ?\"]).sum()"
   ]
  },
  {
   "cell_type": "code",
   "execution_count": 13,
   "id": "fbdb08c9",
   "metadata": {},
   "outputs": [
    {
     "data": {
      "text/plain": [
       "(30161, 12)"
      ]
     },
     "execution_count": 13,
     "metadata": {},
     "output_type": "execute_result"
    }
   ],
   "source": [
    "df.shape"
   ]
  },
  {
   "cell_type": "code",
   "execution_count": 14,
   "id": "39c0eb74",
   "metadata": {},
   "outputs": [
    {
     "data": {
      "text/html": [
       "<div>\n",
       "<style scoped>\n",
       "    .dataframe tbody tr th:only-of-type {\n",
       "        vertical-align: middle;\n",
       "    }\n",
       "\n",
       "    .dataframe tbody tr th {\n",
       "        vertical-align: top;\n",
       "    }\n",
       "\n",
       "    .dataframe thead th {\n",
       "        text-align: right;\n",
       "    }\n",
       "</style>\n",
       "<table border=\"1\" class=\"dataframe\">\n",
       "  <thead>\n",
       "    <tr style=\"text-align: right;\">\n",
       "      <th></th>\n",
       "      <th>Age</th>\n",
       "      <th>Workclass</th>\n",
       "      <th>Education</th>\n",
       "      <th>Education_num</th>\n",
       "      <th>Marital_status</th>\n",
       "      <th>Occupation</th>\n",
       "      <th>Relationship</th>\n",
       "      <th>Race</th>\n",
       "      <th>Sex</th>\n",
       "      <th>Hours_per_week</th>\n",
       "      <th>Native_country</th>\n",
       "      <th>Income</th>\n",
       "    </tr>\n",
       "  </thead>\n",
       "  <tbody>\n",
       "    <tr>\n",
       "      <th>10738</th>\n",
       "      <td>33</td>\n",
       "      <td>Private</td>\n",
       "      <td>HS-grad</td>\n",
       "      <td>9</td>\n",
       "      <td>Never-married</td>\n",
       "      <td>Other-service</td>\n",
       "      <td>Own-child</td>\n",
       "      <td>White</td>\n",
       "      <td>Male</td>\n",
       "      <td>48</td>\n",
       "      <td>United-States</td>\n",
       "      <td>&lt;=50K</td>\n",
       "    </tr>\n",
       "    <tr>\n",
       "      <th>341</th>\n",
       "      <td>36</td>\n",
       "      <td>State-gov</td>\n",
       "      <td>HS-grad</td>\n",
       "      <td>9</td>\n",
       "      <td>Married-civ-spouse</td>\n",
       "      <td>Protective-serv</td>\n",
       "      <td>Husband</td>\n",
       "      <td>White</td>\n",
       "      <td>Male</td>\n",
       "      <td>40</td>\n",
       "      <td>United-States</td>\n",
       "      <td>&gt;50K</td>\n",
       "    </tr>\n",
       "    <tr>\n",
       "      <th>14223</th>\n",
       "      <td>25</td>\n",
       "      <td>Private</td>\n",
       "      <td>Bachelors</td>\n",
       "      <td>13</td>\n",
       "      <td>Never-married</td>\n",
       "      <td>Prof-specialty</td>\n",
       "      <td>Own-child</td>\n",
       "      <td>White</td>\n",
       "      <td>Female</td>\n",
       "      <td>35</td>\n",
       "      <td>United-States</td>\n",
       "      <td>&lt;=50K</td>\n",
       "    </tr>\n",
       "    <tr>\n",
       "      <th>32444</th>\n",
       "      <td>61</td>\n",
       "      <td>Private</td>\n",
       "      <td>HS-grad</td>\n",
       "      <td>9</td>\n",
       "      <td>Widowed</td>\n",
       "      <td>Craft-repair</td>\n",
       "      <td>Not-in-family</td>\n",
       "      <td>Black</td>\n",
       "      <td>Female</td>\n",
       "      <td>50</td>\n",
       "      <td>United-States</td>\n",
       "      <td>&lt;=50K</td>\n",
       "    </tr>\n",
       "    <tr>\n",
       "      <th>8596</th>\n",
       "      <td>32</td>\n",
       "      <td>Federal-gov</td>\n",
       "      <td>Assoc-acdm</td>\n",
       "      <td>12</td>\n",
       "      <td>Divorced</td>\n",
       "      <td>Protective-serv</td>\n",
       "      <td>Not-in-family</td>\n",
       "      <td>White</td>\n",
       "      <td>Male</td>\n",
       "      <td>40</td>\n",
       "      <td>United-States</td>\n",
       "      <td>&lt;=50K</td>\n",
       "    </tr>\n",
       "    <tr>\n",
       "      <th>...</th>\n",
       "      <td>...</td>\n",
       "      <td>...</td>\n",
       "      <td>...</td>\n",
       "      <td>...</td>\n",
       "      <td>...</td>\n",
       "      <td>...</td>\n",
       "      <td>...</td>\n",
       "      <td>...</td>\n",
       "      <td>...</td>\n",
       "      <td>...</td>\n",
       "      <td>...</td>\n",
       "      <td>...</td>\n",
       "    </tr>\n",
       "    <tr>\n",
       "      <th>10314</th>\n",
       "      <td>24</td>\n",
       "      <td>Private</td>\n",
       "      <td>Bachelors</td>\n",
       "      <td>13</td>\n",
       "      <td>Never-married</td>\n",
       "      <td>Adm-clerical</td>\n",
       "      <td>Not-in-family</td>\n",
       "      <td>White</td>\n",
       "      <td>Male</td>\n",
       "      <td>40</td>\n",
       "      <td>United-States</td>\n",
       "      <td>&lt;=50K</td>\n",
       "    </tr>\n",
       "    <tr>\n",
       "      <th>29478</th>\n",
       "      <td>33</td>\n",
       "      <td>Self-emp-not-inc</td>\n",
       "      <td>HS-grad</td>\n",
       "      <td>9</td>\n",
       "      <td>Married-civ-spouse</td>\n",
       "      <td>Sales</td>\n",
       "      <td>Husband</td>\n",
       "      <td>White</td>\n",
       "      <td>Male</td>\n",
       "      <td>60</td>\n",
       "      <td>United-States</td>\n",
       "      <td>&lt;=50K</td>\n",
       "    </tr>\n",
       "    <tr>\n",
       "      <th>18248</th>\n",
       "      <td>29</td>\n",
       "      <td>Private</td>\n",
       "      <td>HS-grad</td>\n",
       "      <td>9</td>\n",
       "      <td>Divorced</td>\n",
       "      <td>Machine-op-inspct</td>\n",
       "      <td>Unmarried</td>\n",
       "      <td>White</td>\n",
       "      <td>Male</td>\n",
       "      <td>40</td>\n",
       "      <td>United-States</td>\n",
       "      <td>&lt;=50K</td>\n",
       "    </tr>\n",
       "    <tr>\n",
       "      <th>24364</th>\n",
       "      <td>31</td>\n",
       "      <td>Local-gov</td>\n",
       "      <td>Some-college</td>\n",
       "      <td>10</td>\n",
       "      <td>Married-civ-spouse</td>\n",
       "      <td>Protective-serv</td>\n",
       "      <td>Husband</td>\n",
       "      <td>White</td>\n",
       "      <td>Male</td>\n",
       "      <td>45</td>\n",
       "      <td>United-States</td>\n",
       "      <td>&lt;=50K</td>\n",
       "    </tr>\n",
       "    <tr>\n",
       "      <th>14180</th>\n",
       "      <td>27</td>\n",
       "      <td>Private</td>\n",
       "      <td>Masters</td>\n",
       "      <td>14</td>\n",
       "      <td>Never-married</td>\n",
       "      <td>Adm-clerical</td>\n",
       "      <td>Not-in-family</td>\n",
       "      <td>White</td>\n",
       "      <td>Female</td>\n",
       "      <td>46</td>\n",
       "      <td>United-States</td>\n",
       "      <td>&lt;=50K</td>\n",
       "    </tr>\n",
       "  </tbody>\n",
       "</table>\n",
       "<p>4524 rows × 12 columns</p>\n",
       "</div>"
      ],
      "text/plain": [
       "       Age          Workclass      Education  Education_num  \\\n",
       "10738   33            Private        HS-grad              9   \n",
       "341     36          State-gov        HS-grad              9   \n",
       "14223   25            Private      Bachelors             13   \n",
       "32444   61            Private        HS-grad              9   \n",
       "8596    32        Federal-gov     Assoc-acdm             12   \n",
       "...    ...                ...            ...            ...   \n",
       "10314   24            Private      Bachelors             13   \n",
       "29478   33   Self-emp-not-inc        HS-grad              9   \n",
       "18248   29            Private        HS-grad              9   \n",
       "24364   31          Local-gov   Some-college             10   \n",
       "14180   27            Private        Masters             14   \n",
       "\n",
       "            Marital_status          Occupation    Relationship    Race  \\\n",
       "10738        Never-married       Other-service       Own-child   White   \n",
       "341     Married-civ-spouse     Protective-serv         Husband   White   \n",
       "14223        Never-married      Prof-specialty       Own-child   White   \n",
       "32444              Widowed        Craft-repair   Not-in-family   Black   \n",
       "8596              Divorced     Protective-serv   Not-in-family   White   \n",
       "...                    ...                 ...             ...     ...   \n",
       "10314        Never-married        Adm-clerical   Not-in-family   White   \n",
       "29478   Married-civ-spouse               Sales         Husband   White   \n",
       "18248             Divorced   Machine-op-inspct       Unmarried   White   \n",
       "24364   Married-civ-spouse     Protective-serv         Husband   White   \n",
       "14180        Never-married        Adm-clerical   Not-in-family   White   \n",
       "\n",
       "           Sex  Hours_per_week  Native_country  Income  \n",
       "10738     Male              48   United-States   <=50K  \n",
       "341       Male              40   United-States    >50K  \n",
       "14223   Female              35   United-States   <=50K  \n",
       "32444   Female              50   United-States   <=50K  \n",
       "8596      Male              40   United-States   <=50K  \n",
       "...        ...             ...             ...     ...  \n",
       "10314     Male              40   United-States   <=50K  \n",
       "29478     Male              60   United-States   <=50K  \n",
       "18248     Male              40   United-States   <=50K  \n",
       "24364     Male              45   United-States   <=50K  \n",
       "14180   Female              46   United-States   <=50K  \n",
       "\n",
       "[4524 rows x 12 columns]"
      ]
     },
     "execution_count": 14,
     "metadata": {},
     "output_type": "execute_result"
    }
   ],
   "source": [
    "subset=df.sample(frac=0.15)\n",
    "df=subset\n",
    "df"
   ]
  },
  {
   "cell_type": "markdown",
   "id": "858ae13f",
   "metadata": {},
   "source": [
    "# Exploratory Data Analysis"
   ]
  },
  {
   "cell_type": "code",
   "execution_count": 15,
   "id": "ef2980ff",
   "metadata": {},
   "outputs": [
    {
     "data": {
      "image/png": "[encoded data removed]",
      "text/plain": [
       "<Figure size 432x288 with 1 Axes>"
      ]
     },
     "metadata": {
      "needs_background": "light"
     },
     "output_type": "display_data"
    }
   ],
   "source": [
    "df[\"Age\"].hist(grid=True)\n",
    "plt.title(\"Age\")\n",
    "plt.show()"
   ]
  },
  {
   "cell_type": "code",
   "execution_count": 16,
   "id": "4ee491ea",
   "metadata": {},
   "outputs": [
    {
     "data": {
      "text/plain": [
       "<AxesSubplot:xlabel='Marital_status', ylabel='count'>"
      ]
     },
     "execution_count": 16,
     "metadata": {},
     "output_type": "execute_result"
    },
    {
     "data": {
      "image/png": "[encoded data removed]",
      "text/plain": [
       "<Figure size 1440x288 with 1 Axes>"
      ]
     },
     "metadata": {
      "needs_background": "light"
     },
     "output_type": "display_data"
    }
   ],
   "source": [
    "plt.figure(figsize=(20,4))\n",
    "sns.countplot(df.Marital_status)"
   ]
  },
  {
   "cell_type": "code",
   "execution_count": 17,
   "id": "3d52d53b",
   "metadata": {},
   "outputs": [
    {
     "data": {
      "text/plain": [
       "<AxesSubplot:xlabel='Sex', ylabel='count'>"
      ]
     },
     "execution_count": 17,
     "metadata": {},
     "output_type": "execute_result"
    },
    {
     "data": {
      "image/png": "[encoded data removed]",
      "text/plain": [
       "<Figure size 720x288 with 1 Axes>"
      ]
     },
     "metadata": {
      "needs_background": "light"
     },
     "output_type": "display_data"
    }
   ],
   "source": [
    "plt.figure(figsize=(10,4))\n",
    "sns.countplot(df.Sex)"
   ]
  },
  {
   "cell_type": "code",
   "execution_count": 18,
   "id": "dda78dda",
   "metadata": {},
   "outputs": [
    {
     "data": {
      "text/plain": [
       "<AxesSubplot:xlabel='Workclass', ylabel='count'>"
      ]
     },
     "execution_count": 18,
     "metadata": {},
     "output_type": "execute_result"
    },
    {
     "data": {
      "image/png": "[encoded data removed]",
      "text/plain": [
       "<Figure size 1080x288 with 1 Axes>"
      ]
     },
     "metadata": {
      "needs_background": "light"
     },
     "output_type": "display_data"
    }
   ],
   "source": [
    "plt.figure(figsize=(15,4))\n",
    "sns.countplot(df['Workclass'])"
   ]
  },
  {
   "cell_type": "code",
   "execution_count": 19,
   "id": "225d4775",
   "metadata": {},
   "outputs": [
    {
     "data": {
      "image/png": "[encoded data removed]",
      "text/plain": [
       "<Figure size 1080x288 with 1 Axes>"
      ]
     },
     "metadata": {
      "needs_background": "light"
     },
     "output_type": "display_data"
    }
   ],
   "source": [
    "#count plot for Education\n",
    "plt.figure(figsize=(15,4))\n",
    "sns.countplot(df['Education'])\n",
    "plt.xticks(rotation=90)\n",
    "plt.show()"
   ]
  },
  {
   "cell_type": "code",
   "execution_count": 20,
   "id": "29b6d9ca",
   "metadata": {},
   "outputs": [
    {
     "data": {
      "image/png": "[encoded data removed]",
      "text/plain": [
       "<Figure size 1080x288 with 1 Axes>"
      ]
     },
     "metadata": {
      "needs_background": "light"
     },
     "output_type": "display_data"
    }
   ],
   "source": [
    "plt.figure(figsize=(15,4))\n",
    "sns.countplot(df[\"Occupation\"])\n",
    "plt.xticks(rotation=90)\n",
    "plt.show()"
   ]
  },
  {
   "cell_type": "code",
   "execution_count": 21,
   "id": "4938b2ed",
   "metadata": {},
   "outputs": [
    {
     "data": {
      "image/png": "[encoded data removed]",
      "text/plain": [
       "<Figure size 1080x288 with 1 Axes>"
      ]
     },
     "metadata": {
      "needs_background": "light"
     },
     "output_type": "display_data"
    }
   ],
   "source": [
    "plt.figure(figsize=(15,4))\n",
    "sns.countplot(df[\"Relationship\"])\n",
    "plt.xticks(rotation=90)\n",
    "plt.show()"
   ]
  },
  {
   "cell_type": "code",
   "execution_count": 22,
   "id": "b54453fe",
   "metadata": {},
   "outputs": [
    {
     "data": {
      "text/plain": [
       "<AxesSubplot:xlabel='Race', ylabel='count'>"
      ]
     },
     "execution_count": 22,
     "metadata": {},
     "output_type": "execute_result"
    },
    {
     "data": {
      "image/png": "[encoded data removed]",
      "text/plain": [
       "<Figure size 1080x288 with 1 Axes>"
      ]
     },
     "metadata": {
      "needs_background": "light"
     },
     "output_type": "display_data"
    }
   ],
   "source": [
    "plt.figure(figsize=(15,4))\n",
    "sns.countplot(df.Race)"
   ]
  },
  {
   "cell_type": "code",
   "execution_count": 23,
   "id": "e91e24c5",
   "metadata": {},
   "outputs": [
    {
     "data": {
      "text/plain": [
       "<AxesSubplot:xlabel='Income', ylabel='count'>"
      ]
     },
     "execution_count": 23,
     "metadata": {},
     "output_type": "execute_result"
    },
    {
     "data": {
      "image/png": "[encoded data removed]",
      "text/plain": [
       "<Figure size 720x288 with 1 Axes>"
      ]
     },
     "metadata": {
      "needs_background": "light"
     },
     "output_type": "display_data"
    }
   ],
   "source": [
    "plt.figure(figsize=(10,4))\n",
    "sns.countplot(df.Income)"
   ]
  },
  {
   "cell_type": "markdown",
   "id": "8ed64c50",
   "metadata": {},
   "source": [
    "From the above figures, we can say\n",
    "There are more people from 25-45 age group.\n",
    "Most of the people have income <=50k.\n",
    "Most of the people working in private sector which i high compared to others.\n",
    "The count of HS- grad is high followed by some college and the count of doctorate.\n",
    "Married people have high counts followed by the singles or never married people.\n",
    "In Relationship Husband has more values.\n",
    "The count of white is more in the dataset."
   ]
  },
  {
   "cell_type": "code",
   "execution_count": 24,
   "id": "9d22a35b",
   "metadata": {},
   "outputs": [
    {
     "data": {
      "image/png": "[encoded data removed]",
      "text/plain": [
       "<Figure size 864x864 with 9 Axes>"
      ]
     },
     "metadata": {
      "needs_background": "light"
     },
     "output_type": "display_data"
    }
   ],
   "source": [
    "df.hist(figsize=(12,12),layout=(3,3),sharex=False);"
   ]
  },
  {
   "cell_type": "markdown",
   "id": "0e691824",
   "metadata": {},
   "source": [
    "We can see there are more people from 25-45 age group.\n",
    "Mostly people having education for 9-11 followed by 13 years.\n",
    "Mostly people work 40 hours per week."
   ]
  },
  {
   "cell_type": "code",
   "execution_count": 25,
   "id": "114ebbe3",
   "metadata": {},
   "outputs": [
    {
     "data": {
      "image/png": "[encoded data removed]",
      "text/plain": [
       "<Figure size 1080x504 with 1 Axes>"
      ]
     },
     "metadata": {
      "needs_background": "light"
     },
     "output_type": "display_data"
    }
   ],
   "source": [
    "plt.figure(figsize=(15,7))\n",
    "sns.countplot(df['Workclass'],hue='Income', data=df)\n",
    "plt.xlabel('Workclass', fontsize=15)\n",
    "plt.ylabel('Count', fontsize=15)\n",
    "plt.show()"
   ]
  },
  {
   "cell_type": "markdown",
   "id": "15214a2a",
   "metadata": {},
   "source": [
    "We have maximum no of population working in private sector whose income is <=50K.\n",
    "\n",
    "At same time people working private sector are more as compared to other sectors, whose income is >=50K"
   ]
  },
  {
   "cell_type": "code",
   "execution_count": 26,
   "id": "69f559f8",
   "metadata": {},
   "outputs": [
    {
     "data": {
      "image/png": "[encoded data removed]",
      "text/plain": [
       "<Figure size 1080x504 with 1 Axes>"
      ]
     },
     "metadata": {
      "needs_background": "light"
     },
     "output_type": "display_data"
    }
   ],
   "source": [
    "plt.figure(figsize=(15,7))\n",
    "sns.countplot(df['Occupation'],hue='Income',data=df)\n",
    "plt.xlabel('Occupation', fontsize=15)\n",
    "plt.ylabel('Count', fontsize=15)\n",
    "locs, labels=plt.xticks(fontsize=15)\n",
    "plt.setp(labels,rotation=80)\n",
    "plt.show()"
   ]
  },
  {
   "cell_type": "markdown",
   "id": "de0748ab",
   "metadata": {},
   "source": [
    "Occupation like Exce-Managerial and prof-specialty having higher population with income>=50k. It indicates occupation has good impact on income."
   ]
  },
  {
   "cell_type": "code",
   "execution_count": 27,
   "id": "dccf6e54",
   "metadata": {},
   "outputs": [
    {
     "data": {
      "image/png": "[encoded data removed]",
      "text/plain": [
       "<Figure size 1440x504 with 1 Axes>"
      ]
     },
     "metadata": {
      "needs_background": "light"
     },
     "output_type": "display_data"
    }
   ],
   "source": [
    "plt.figure(figsize=(20,7))\n",
    "sns.countplot(df['Education'],hue='Income', data=df)\n",
    "plt.xlabel('Education', fontsize=15)\n",
    "plt.ylabel('Count', fontsize=15)\n",
    "plt.show()"
   ]
  },
  {
   "cell_type": "markdown",
   "id": "10fdddd0",
   "metadata": {},
   "source": [
    "Graph indicates that people with higher degree have more chance to have income>=50k"
   ]
  },
  {
   "cell_type": "code",
   "execution_count": 28,
   "id": "0dc128e1",
   "metadata": {},
   "outputs": [
    {
     "data": {
      "image/png": "[encoded data removed]",
      "text/plain": [
       "<Figure size 1440x504 with 1 Axes>"
      ]
     },
     "metadata": {
      "needs_background": "light"
     },
     "output_type": "display_data"
    }
   ],
   "source": [
    "plt.figure(figsize=(20,7))\n",
    "sns.countplot(df['Marital_status'], hue='Income', data=df)\n",
    "plt.xlabel('Marital_status', fontsize=15)\n",
    "plt.ylabel('Count', fontsize=15)\n",
    "plt.show()"
   ]
  },
  {
   "cell_type": "markdown",
   "id": "af147986",
   "metadata": {},
   "source": [
    "Married civ  population is having higher number of income which is >=50k, as compared to other columns"
   ]
  },
  {
   "cell_type": "code",
   "execution_count": 29,
   "id": "6395eddb",
   "metadata": {},
   "outputs": [
    {
     "data": {
      "image/png": "[encoded data removed]",
      "text/plain": [
       "<Figure size 720x504 with 1 Axes>"
      ]
     },
     "metadata": {
      "needs_background": "light"
     },
     "output_type": "display_data"
    }
   ],
   "source": [
    "plt.figure(figsize=(10,7))\n",
    "sns.countplot(df['Sex'],hue='Income', data=df)\n",
    "plt.xlabel('Sex', fontsize=15)\n",
    "plt.ylabel('Count', fontsize=15)\n",
    "plt.show()"
   ]
  },
  {
   "cell_type": "markdown",
   "id": "641560c9",
   "metadata": {},
   "source": [
    "We can see Male is having higher count as compared to Female, for income >=50k"
   ]
  },
  {
   "cell_type": "code",
   "execution_count": 30,
   "id": "9879f203",
   "metadata": {},
   "outputs": [
    {
     "data": {
      "image/png": "[encoded data removed]",
      "text/plain": [
       "<Figure size 1080x504 with 1 Axes>"
      ]
     },
     "metadata": {
      "needs_background": "light"
     },
     "output_type": "display_data"
    }
   ],
   "source": [
    "plt.figure(figsize=(15,7))\n",
    "sns.countplot(df['Race'],hue='Income', data=df)\n",
    "plt.xlabel('Race', fontsize=15)\n",
    "plt.ylabel('Count', fontsize=15)\n",
    "locs, labels=plt.xticks(fontsize=15)\n",
    "plt.setp(labels,rotation=80)\n",
    "plt.show()"
   ]
  },
  {
   "cell_type": "markdown",
   "id": "16c15f11",
   "metadata": {},
   "source": [
    "As majority of population is white, the chance of getting income>=50k, is higher for white"
   ]
  },
  {
   "cell_type": "code",
   "execution_count": 31,
   "id": "30815726",
   "metadata": {},
   "outputs": [
    {
     "data": {
      "text/plain": [
       "<seaborn.axisgrid.PairGrid at 0x29f09c67e20>"
      ]
     },
     "execution_count": 31,
     "metadata": {},
     "output_type": "execute_result"
    },
    {
     "data": {
      "image/png": "[encoded data removed]",
      "text/plain": [
       "<Figure size 540x540 with 12 Axes>"
      ]
     },
     "metadata": {
      "needs_background": "light"
     },
     "output_type": "display_data"
    }
   ],
   "source": [
    "sns.pairplot(df)"
   ]
  },
  {
   "cell_type": "markdown",
   "id": "67692295",
   "metadata": {},
   "source": [
    "# Checking Outliers"
   ]
  },
  {
   "cell_type": "code",
   "execution_count": 32,
   "id": "11a44853",
   "metadata": {},
   "outputs": [
    {
     "data": {
      "image/png": "[encoded data removed]",
      "text/plain": [
       "<Figure size 864x864 with 9 Axes>"
      ]
     },
     "metadata": {
      "needs_background": "light"
     },
     "output_type": "display_data"
    }
   ],
   "source": [
    "df.plot(kind='box',figsize=(12,12),layout=(3,3), sharex=False,subplots=True);"
   ]
  },
  {
   "cell_type": "markdown",
   "id": "617f6f19",
   "metadata": {},
   "source": [
    "# Removing Outliers"
   ]
  },
  {
   "cell_type": "code",
   "execution_count": 33,
   "id": "823eddb3",
   "metadata": {},
   "outputs": [
    {
     "data": {
      "text/html": [
       "<div>\n",
       "<style scoped>\n",
       "    .dataframe tbody tr th:only-of-type {\n",
       "        vertical-align: middle;\n",
       "    }\n",
       "\n",
       "    .dataframe tbody tr th {\n",
       "        vertical-align: top;\n",
       "    }\n",
       "\n",
       "    .dataframe thead th {\n",
       "        text-align: right;\n",
       "    }\n",
       "</style>\n",
       "<table border=\"1\" class=\"dataframe\">\n",
       "  <thead>\n",
       "    <tr style=\"text-align: right;\">\n",
       "      <th></th>\n",
       "      <th>Age</th>\n",
       "      <th>Education_num</th>\n",
       "      <th>Hours_per_week</th>\n",
       "    </tr>\n",
       "  </thead>\n",
       "  <tbody>\n",
       "    <tr>\n",
       "      <th>10738</th>\n",
       "      <td>0.411631</td>\n",
       "      <td>0.444254</td>\n",
       "      <td>0.594267</td>\n",
       "    </tr>\n",
       "    <tr>\n",
       "      <th>341</th>\n",
       "      <td>0.182124</td>\n",
       "      <td>0.444254</td>\n",
       "      <td>0.072308</td>\n",
       "    </tr>\n",
       "    <tr>\n",
       "      <th>14223</th>\n",
       "      <td>1.023650</td>\n",
       "      <td>1.138894</td>\n",
       "      <td>0.488918</td>\n",
       "    </tr>\n",
       "    <tr>\n",
       "      <th>32444</th>\n",
       "      <td>1.730434</td>\n",
       "      <td>0.444254</td>\n",
       "      <td>0.760911</td>\n",
       "    </tr>\n",
       "    <tr>\n",
       "      <th>8596</th>\n",
       "      <td>0.488134</td>\n",
       "      <td>0.743107</td>\n",
       "      <td>0.072308</td>\n",
       "    </tr>\n",
       "    <tr>\n",
       "      <th>...</th>\n",
       "      <td>...</td>\n",
       "      <td>...</td>\n",
       "      <td>...</td>\n",
       "    </tr>\n",
       "    <tr>\n",
       "      <th>10314</th>\n",
       "      <td>1.100152</td>\n",
       "      <td>1.138894</td>\n",
       "      <td>0.072308</td>\n",
       "    </tr>\n",
       "    <tr>\n",
       "      <th>29478</th>\n",
       "      <td>0.411631</td>\n",
       "      <td>0.444254</td>\n",
       "      <td>1.594130</td>\n",
       "    </tr>\n",
       "    <tr>\n",
       "      <th>18248</th>\n",
       "      <td>0.717641</td>\n",
       "      <td>0.444254</td>\n",
       "      <td>0.072308</td>\n",
       "    </tr>\n",
       "    <tr>\n",
       "      <th>24364</th>\n",
       "      <td>0.564636</td>\n",
       "      <td>0.048467</td>\n",
       "      <td>0.344301</td>\n",
       "    </tr>\n",
       "    <tr>\n",
       "      <th>14180</th>\n",
       "      <td>0.870645</td>\n",
       "      <td>1.534681</td>\n",
       "      <td>0.427623</td>\n",
       "    </tr>\n",
       "  </tbody>\n",
       "</table>\n",
       "<p>4524 rows × 3 columns</p>\n",
       "</div>"
      ],
      "text/plain": [
       "            Age  Education_num  Hours_per_week\n",
       "10738  0.411631       0.444254        0.594267\n",
       "341    0.182124       0.444254        0.072308\n",
       "14223  1.023650       1.138894        0.488918\n",
       "32444  1.730434       0.444254        0.760911\n",
       "8596   0.488134       0.743107        0.072308\n",
       "...         ...            ...             ...\n",
       "10314  1.100152       1.138894        0.072308\n",
       "29478  0.411631       0.444254        1.594130\n",
       "18248  0.717641       0.444254        0.072308\n",
       "24364  0.564636       0.048467        0.344301\n",
       "14180  0.870645       1.534681        0.427623\n",
       "\n",
       "[4524 rows x 3 columns]"
      ]
     },
     "execution_count": 33,
     "metadata": {},
     "output_type": "execute_result"
    }
   ],
   "source": [
    "features=df[[\"Age\",\"Education_num\",\"Hours_per_week\"]]\n",
    "from scipy.stats import zscore\n",
    "z=np.abs(zscore(features))\n",
    "z"
   ]
  },
  {
   "cell_type": "code",
   "execution_count": 34,
   "id": "f53c3ca4",
   "metadata": {},
   "outputs": [
    {
     "data": {
      "text/html": [
       "<div>\n",
       "<style scoped>\n",
       "    .dataframe tbody tr th:only-of-type {\n",
       "        vertical-align: middle;\n",
       "    }\n",
       "\n",
       "    .dataframe tbody tr th {\n",
       "        vertical-align: top;\n",
       "    }\n",
       "\n",
       "    .dataframe thead th {\n",
       "        text-align: right;\n",
       "    }\n",
       "</style>\n",
       "<table border=\"1\" class=\"dataframe\">\n",
       "  <thead>\n",
       "    <tr style=\"text-align: right;\">\n",
       "      <th></th>\n",
       "      <th>Age</th>\n",
       "      <th>Workclass</th>\n",
       "      <th>Education</th>\n",
       "      <th>Education_num</th>\n",
       "      <th>Marital_status</th>\n",
       "      <th>Occupation</th>\n",
       "      <th>Relationship</th>\n",
       "      <th>Race</th>\n",
       "      <th>Sex</th>\n",
       "      <th>Hours_per_week</th>\n",
       "      <th>Native_country</th>\n",
       "      <th>Income</th>\n",
       "    </tr>\n",
       "  </thead>\n",
       "  <tbody>\n",
       "    <tr>\n",
       "      <th>10738</th>\n",
       "      <td>33</td>\n",
       "      <td>Private</td>\n",
       "      <td>HS-grad</td>\n",
       "      <td>9</td>\n",
       "      <td>Never-married</td>\n",
       "      <td>Other-service</td>\n",
       "      <td>Own-child</td>\n",
       "      <td>White</td>\n",
       "      <td>Male</td>\n",
       "      <td>48</td>\n",
       "      <td>United-States</td>\n",
       "      <td>&lt;=50K</td>\n",
       "    </tr>\n",
       "    <tr>\n",
       "      <th>341</th>\n",
       "      <td>36</td>\n",
       "      <td>State-gov</td>\n",
       "      <td>HS-grad</td>\n",
       "      <td>9</td>\n",
       "      <td>Married-civ-spouse</td>\n",
       "      <td>Protective-serv</td>\n",
       "      <td>Husband</td>\n",
       "      <td>White</td>\n",
       "      <td>Male</td>\n",
       "      <td>40</td>\n",
       "      <td>United-States</td>\n",
       "      <td>&gt;50K</td>\n",
       "    </tr>\n",
       "    <tr>\n",
       "      <th>14223</th>\n",
       "      <td>25</td>\n",
       "      <td>Private</td>\n",
       "      <td>Bachelors</td>\n",
       "      <td>13</td>\n",
       "      <td>Never-married</td>\n",
       "      <td>Prof-specialty</td>\n",
       "      <td>Own-child</td>\n",
       "      <td>White</td>\n",
       "      <td>Female</td>\n",
       "      <td>35</td>\n",
       "      <td>United-States</td>\n",
       "      <td>&lt;=50K</td>\n",
       "    </tr>\n",
       "    <tr>\n",
       "      <th>32444</th>\n",
       "      <td>61</td>\n",
       "      <td>Private</td>\n",
       "      <td>HS-grad</td>\n",
       "      <td>9</td>\n",
       "      <td>Widowed</td>\n",
       "      <td>Craft-repair</td>\n",
       "      <td>Not-in-family</td>\n",
       "      <td>Black</td>\n",
       "      <td>Female</td>\n",
       "      <td>50</td>\n",
       "      <td>United-States</td>\n",
       "      <td>&lt;=50K</td>\n",
       "    </tr>\n",
       "    <tr>\n",
       "      <th>8596</th>\n",
       "      <td>32</td>\n",
       "      <td>Federal-gov</td>\n",
       "      <td>Assoc-acdm</td>\n",
       "      <td>12</td>\n",
       "      <td>Divorced</td>\n",
       "      <td>Protective-serv</td>\n",
       "      <td>Not-in-family</td>\n",
       "      <td>White</td>\n",
       "      <td>Male</td>\n",
       "      <td>40</td>\n",
       "      <td>United-States</td>\n",
       "      <td>&lt;=50K</td>\n",
       "    </tr>\n",
       "    <tr>\n",
       "      <th>...</th>\n",
       "      <td>...</td>\n",
       "      <td>...</td>\n",
       "      <td>...</td>\n",
       "      <td>...</td>\n",
       "      <td>...</td>\n",
       "      <td>...</td>\n",
       "      <td>...</td>\n",
       "      <td>...</td>\n",
       "      <td>...</td>\n",
       "      <td>...</td>\n",
       "      <td>...</td>\n",
       "      <td>...</td>\n",
       "    </tr>\n",
       "    <tr>\n",
       "      <th>10314</th>\n",
       "      <td>24</td>\n",
       "      <td>Private</td>\n",
       "      <td>Bachelors</td>\n",
       "      <td>13</td>\n",
       "      <td>Never-married</td>\n",
       "      <td>Adm-clerical</td>\n",
       "      <td>Not-in-family</td>\n",
       "      <td>White</td>\n",
       "      <td>Male</td>\n",
       "      <td>40</td>\n",
       "      <td>United-States</td>\n",
       "      <td>&lt;=50K</td>\n",
       "    </tr>\n",
       "    <tr>\n",
       "      <th>29478</th>\n",
       "      <td>33</td>\n",
       "      <td>Self-emp-not-inc</td>\n",
       "      <td>HS-grad</td>\n",
       "      <td>9</td>\n",
       "      <td>Married-civ-spouse</td>\n",
       "      <td>Sales</td>\n",
       "      <td>Husband</td>\n",
       "      <td>White</td>\n",
       "      <td>Male</td>\n",
       "      <td>60</td>\n",
       "      <td>United-States</td>\n",
       "      <td>&lt;=50K</td>\n",
       "    </tr>\n",
       "    <tr>\n",
       "      <th>18248</th>\n",
       "      <td>29</td>\n",
       "      <td>Private</td>\n",
       "      <td>HS-grad</td>\n",
       "      <td>9</td>\n",
       "      <td>Divorced</td>\n",
       "      <td>Machine-op-inspct</td>\n",
       "      <td>Unmarried</td>\n",
       "      <td>White</td>\n",
       "      <td>Male</td>\n",
       "      <td>40</td>\n",
       "      <td>United-States</td>\n",
       "      <td>&lt;=50K</td>\n",
       "    </tr>\n",
       "    <tr>\n",
       "      <th>24364</th>\n",
       "      <td>31</td>\n",
       "      <td>Local-gov</td>\n",
       "      <td>Some-college</td>\n",
       "      <td>10</td>\n",
       "      <td>Married-civ-spouse</td>\n",
       "      <td>Protective-serv</td>\n",
       "      <td>Husband</td>\n",
       "      <td>White</td>\n",
       "      <td>Male</td>\n",
       "      <td>45</td>\n",
       "      <td>United-States</td>\n",
       "      <td>&lt;=50K</td>\n",
       "    </tr>\n",
       "    <tr>\n",
       "      <th>14180</th>\n",
       "      <td>27</td>\n",
       "      <td>Private</td>\n",
       "      <td>Masters</td>\n",
       "      <td>14</td>\n",
       "      <td>Never-married</td>\n",
       "      <td>Adm-clerical</td>\n",
       "      <td>Not-in-family</td>\n",
       "      <td>White</td>\n",
       "      <td>Female</td>\n",
       "      <td>46</td>\n",
       "      <td>United-States</td>\n",
       "      <td>&lt;=50K</td>\n",
       "    </tr>\n",
       "  </tbody>\n",
       "</table>\n",
       "<p>4422 rows × 12 columns</p>\n",
       "</div>"
      ],
      "text/plain": [
       "       Age          Workclass      Education  Education_num  \\\n",
       "10738   33            Private        HS-grad              9   \n",
       "341     36          State-gov        HS-grad              9   \n",
       "14223   25            Private      Bachelors             13   \n",
       "32444   61            Private        HS-grad              9   \n",
       "8596    32        Federal-gov     Assoc-acdm             12   \n",
       "...    ...                ...            ...            ...   \n",
       "10314   24            Private      Bachelors             13   \n",
       "29478   33   Self-emp-not-inc        HS-grad              9   \n",
       "18248   29            Private        HS-grad              9   \n",
       "24364   31          Local-gov   Some-college             10   \n",
       "14180   27            Private        Masters             14   \n",
       "\n",
       "            Marital_status          Occupation    Relationship    Race  \\\n",
       "10738        Never-married       Other-service       Own-child   White   \n",
       "341     Married-civ-spouse     Protective-serv         Husband   White   \n",
       "14223        Never-married      Prof-specialty       Own-child   White   \n",
       "32444              Widowed        Craft-repair   Not-in-family   Black   \n",
       "8596              Divorced     Protective-serv   Not-in-family   White   \n",
       "...                    ...                 ...             ...     ...   \n",
       "10314        Never-married        Adm-clerical   Not-in-family   White   \n",
       "29478   Married-civ-spouse               Sales         Husband   White   \n",
       "18248             Divorced   Machine-op-inspct       Unmarried   White   \n",
       "24364   Married-civ-spouse     Protective-serv         Husband   White   \n",
       "14180        Never-married        Adm-clerical   Not-in-family   White   \n",
       "\n",
       "           Sex  Hours_per_week  Native_country  Income  \n",
       "10738     Male              48   United-States   <=50K  \n",
       "341       Male              40   United-States    >50K  \n",
       "14223   Female              35   United-States   <=50K  \n",
       "32444   Female              50   United-States   <=50K  \n",
       "8596      Male              40   United-States   <=50K  \n",
       "...        ...             ...             ...     ...  \n",
       "10314     Male              40   United-States   <=50K  \n",
       "29478     Male              60   United-States   <=50K  \n",
       "18248     Male              40   United-States   <=50K  \n",
       "24364     Male              45   United-States   <=50K  \n",
       "14180   Female              46   United-States   <=50K  \n",
       "\n",
       "[4422 rows x 12 columns]"
      ]
     },
     "execution_count": 34,
     "metadata": {},
     "output_type": "execute_result"
    }
   ],
   "source": [
    "df_new=df[(z<3).all(axis=1)]\n",
    "df_new"
   ]
  },
  {
   "cell_type": "code",
   "execution_count": 35,
   "id": "643fd663",
   "metadata": {},
   "outputs": [
    {
     "data": {
      "text/plain": [
       "(4524, 12)"
      ]
     },
     "execution_count": 35,
     "metadata": {},
     "output_type": "execute_result"
    }
   ],
   "source": [
    "df.shape"
   ]
  },
  {
   "cell_type": "code",
   "execution_count": 36,
   "id": "2135f81a",
   "metadata": {},
   "outputs": [
    {
     "data": {
      "text/plain": [
       "(4422, 12)"
      ]
     },
     "execution_count": 36,
     "metadata": {},
     "output_type": "execute_result"
    }
   ],
   "source": [
    "df_new.shape"
   ]
  },
  {
   "cell_type": "code",
   "execution_count": 37,
   "id": "9fc772f6",
   "metadata": {},
   "outputs": [
    {
     "data": {
      "text/plain": [
       "2.2546419098143233"
      ]
     },
     "execution_count": 37,
     "metadata": {},
     "output_type": "execute_result"
    }
   ],
   "source": [
    "data_loss=(df.shape[0]-df_new.shape[0])/df.shape[0]*100\n",
    "data_loss"
   ]
  },
  {
   "cell_type": "code",
   "execution_count": 38,
   "id": "e1e67724",
   "metadata": {},
   "outputs": [
    {
     "data": {
      "text/html": [
       "<div>\n",
       "<style scoped>\n",
       "    .dataframe tbody tr th:only-of-type {\n",
       "        vertical-align: middle;\n",
       "    }\n",
       "\n",
       "    .dataframe tbody tr th {\n",
       "        vertical-align: top;\n",
       "    }\n",
       "\n",
       "    .dataframe thead th {\n",
       "        text-align: right;\n",
       "    }\n",
       "</style>\n",
       "<table border=\"1\" class=\"dataframe\">\n",
       "  <thead>\n",
       "    <tr style=\"text-align: right;\">\n",
       "      <th></th>\n",
       "      <th>Age</th>\n",
       "      <th>Workclass</th>\n",
       "      <th>Education</th>\n",
       "      <th>Education_num</th>\n",
       "      <th>Marital_status</th>\n",
       "      <th>Occupation</th>\n",
       "      <th>Relationship</th>\n",
       "      <th>Race</th>\n",
       "      <th>Sex</th>\n",
       "      <th>Hours_per_week</th>\n",
       "      <th>Native_country</th>\n",
       "      <th>Income</th>\n",
       "    </tr>\n",
       "  </thead>\n",
       "  <tbody>\n",
       "    <tr>\n",
       "      <th>10738</th>\n",
       "      <td>33</td>\n",
       "      <td>Private</td>\n",
       "      <td>HS-grad</td>\n",
       "      <td>9</td>\n",
       "      <td>Never-married</td>\n",
       "      <td>Other-service</td>\n",
       "      <td>Own-child</td>\n",
       "      <td>White</td>\n",
       "      <td>Male</td>\n",
       "      <td>48</td>\n",
       "      <td>United-States</td>\n",
       "      <td>&lt;=50K</td>\n",
       "    </tr>\n",
       "    <tr>\n",
       "      <th>341</th>\n",
       "      <td>36</td>\n",
       "      <td>State-gov</td>\n",
       "      <td>HS-grad</td>\n",
       "      <td>9</td>\n",
       "      <td>Married-civ-spouse</td>\n",
       "      <td>Protective-serv</td>\n",
       "      <td>Husband</td>\n",
       "      <td>White</td>\n",
       "      <td>Male</td>\n",
       "      <td>40</td>\n",
       "      <td>United-States</td>\n",
       "      <td>&gt;50K</td>\n",
       "    </tr>\n",
       "    <tr>\n",
       "      <th>14223</th>\n",
       "      <td>25</td>\n",
       "      <td>Private</td>\n",
       "      <td>Bachelors</td>\n",
       "      <td>13</td>\n",
       "      <td>Never-married</td>\n",
       "      <td>Prof-specialty</td>\n",
       "      <td>Own-child</td>\n",
       "      <td>White</td>\n",
       "      <td>Female</td>\n",
       "      <td>35</td>\n",
       "      <td>United-States</td>\n",
       "      <td>&lt;=50K</td>\n",
       "    </tr>\n",
       "    <tr>\n",
       "      <th>32444</th>\n",
       "      <td>61</td>\n",
       "      <td>Private</td>\n",
       "      <td>HS-grad</td>\n",
       "      <td>9</td>\n",
       "      <td>Widowed</td>\n",
       "      <td>Craft-repair</td>\n",
       "      <td>Not-in-family</td>\n",
       "      <td>Black</td>\n",
       "      <td>Female</td>\n",
       "      <td>50</td>\n",
       "      <td>United-States</td>\n",
       "      <td>&lt;=50K</td>\n",
       "    </tr>\n",
       "    <tr>\n",
       "      <th>8596</th>\n",
       "      <td>32</td>\n",
       "      <td>Federal-gov</td>\n",
       "      <td>Assoc-acdm</td>\n",
       "      <td>12</td>\n",
       "      <td>Divorced</td>\n",
       "      <td>Protective-serv</td>\n",
       "      <td>Not-in-family</td>\n",
       "      <td>White</td>\n",
       "      <td>Male</td>\n",
       "      <td>40</td>\n",
       "      <td>United-States</td>\n",
       "      <td>&lt;=50K</td>\n",
       "    </tr>\n",
       "    <tr>\n",
       "      <th>...</th>\n",
       "      <td>...</td>\n",
       "      <td>...</td>\n",
       "      <td>...</td>\n",
       "      <td>...</td>\n",
       "      <td>...</td>\n",
       "      <td>...</td>\n",
       "      <td>...</td>\n",
       "      <td>...</td>\n",
       "      <td>...</td>\n",
       "      <td>...</td>\n",
       "      <td>...</td>\n",
       "      <td>...</td>\n",
       "    </tr>\n",
       "    <tr>\n",
       "      <th>10314</th>\n",
       "      <td>24</td>\n",
       "      <td>Private</td>\n",
       "      <td>Bachelors</td>\n",
       "      <td>13</td>\n",
       "      <td>Never-married</td>\n",
       "      <td>Adm-clerical</td>\n",
       "      <td>Not-in-family</td>\n",
       "      <td>White</td>\n",
       "      <td>Male</td>\n",
       "      <td>40</td>\n",
       "      <td>United-States</td>\n",
       "      <td>&lt;=50K</td>\n",
       "    </tr>\n",
       "    <tr>\n",
       "      <th>29478</th>\n",
       "      <td>33</td>\n",
       "      <td>Self-emp-not-inc</td>\n",
       "      <td>HS-grad</td>\n",
       "      <td>9</td>\n",
       "      <td>Married-civ-spouse</td>\n",
       "      <td>Sales</td>\n",
       "      <td>Husband</td>\n",
       "      <td>White</td>\n",
       "      <td>Male</td>\n",
       "      <td>60</td>\n",
       "      <td>United-States</td>\n",
       "      <td>&lt;=50K</td>\n",
       "    </tr>\n",
       "    <tr>\n",
       "      <th>18248</th>\n",
       "      <td>29</td>\n",
       "      <td>Private</td>\n",
       "      <td>HS-grad</td>\n",
       "      <td>9</td>\n",
       "      <td>Divorced</td>\n",
       "      <td>Machine-op-inspct</td>\n",
       "      <td>Unmarried</td>\n",
       "      <td>White</td>\n",
       "      <td>Male</td>\n",
       "      <td>40</td>\n",
       "      <td>United-States</td>\n",
       "      <td>&lt;=50K</td>\n",
       "    </tr>\n",
       "    <tr>\n",
       "      <th>24364</th>\n",
       "      <td>31</td>\n",
       "      <td>Local-gov</td>\n",
       "      <td>Some-college</td>\n",
       "      <td>10</td>\n",
       "      <td>Married-civ-spouse</td>\n",
       "      <td>Protective-serv</td>\n",
       "      <td>Husband</td>\n",
       "      <td>White</td>\n",
       "      <td>Male</td>\n",
       "      <td>45</td>\n",
       "      <td>United-States</td>\n",
       "      <td>&lt;=50K</td>\n",
       "    </tr>\n",
       "    <tr>\n",
       "      <th>14180</th>\n",
       "      <td>27</td>\n",
       "      <td>Private</td>\n",
       "      <td>Masters</td>\n",
       "      <td>14</td>\n",
       "      <td>Never-married</td>\n",
       "      <td>Adm-clerical</td>\n",
       "      <td>Not-in-family</td>\n",
       "      <td>White</td>\n",
       "      <td>Female</td>\n",
       "      <td>46</td>\n",
       "      <td>United-States</td>\n",
       "      <td>&lt;=50K</td>\n",
       "    </tr>\n",
       "  </tbody>\n",
       "</table>\n",
       "<p>4422 rows × 12 columns</p>\n",
       "</div>"
      ],
      "text/plain": [
       "       Age          Workclass      Education  Education_num  \\\n",
       "10738   33            Private        HS-grad              9   \n",
       "341     36          State-gov        HS-grad              9   \n",
       "14223   25            Private      Bachelors             13   \n",
       "32444   61            Private        HS-grad              9   \n",
       "8596    32        Federal-gov     Assoc-acdm             12   \n",
       "...    ...                ...            ...            ...   \n",
       "10314   24            Private      Bachelors             13   \n",
       "29478   33   Self-emp-not-inc        HS-grad              9   \n",
       "18248   29            Private        HS-grad              9   \n",
       "24364   31          Local-gov   Some-college             10   \n",
       "14180   27            Private        Masters             14   \n",
       "\n",
       "            Marital_status          Occupation    Relationship    Race  \\\n",
       "10738        Never-married       Other-service       Own-child   White   \n",
       "341     Married-civ-spouse     Protective-serv         Husband   White   \n",
       "14223        Never-married      Prof-specialty       Own-child   White   \n",
       "32444              Widowed        Craft-repair   Not-in-family   Black   \n",
       "8596              Divorced     Protective-serv   Not-in-family   White   \n",
       "...                    ...                 ...             ...     ...   \n",
       "10314        Never-married        Adm-clerical   Not-in-family   White   \n",
       "29478   Married-civ-spouse               Sales         Husband   White   \n",
       "18248             Divorced   Machine-op-inspct       Unmarried   White   \n",
       "24364   Married-civ-spouse     Protective-serv         Husband   White   \n",
       "14180        Never-married        Adm-clerical   Not-in-family   White   \n",
       "\n",
       "           Sex  Hours_per_week  Native_country  Income  \n",
       "10738     Male              48   United-States   <=50K  \n",
       "341       Male              40   United-States    >50K  \n",
       "14223   Female              35   United-States   <=50K  \n",
       "32444   Female              50   United-States   <=50K  \n",
       "8596      Male              40   United-States   <=50K  \n",
       "...        ...             ...             ...     ...  \n",
       "10314     Male              40   United-States   <=50K  \n",
       "29478     Male              60   United-States   <=50K  \n",
       "18248     Male              40   United-States   <=50K  \n",
       "24364     Male              45   United-States   <=50K  \n",
       "14180   Female              46   United-States   <=50K  \n",
       "\n",
       "[4422 rows x 12 columns]"
      ]
     },
     "execution_count": 38,
     "metadata": {},
     "output_type": "execute_result"
    }
   ],
   "source": [
    "df_new"
   ]
  },
  {
   "cell_type": "markdown",
   "id": "d0f9f635",
   "metadata": {},
   "source": [
    "# Label Encoder"
   ]
  },
  {
   "cell_type": "code",
   "execution_count": 39,
   "id": "9663c13a",
   "metadata": {},
   "outputs": [],
   "source": [
    "from sklearn.preprocessing import LabelEncoder\n",
    "le=LabelEncoder()\n",
    "df_new['Education']=le.fit_transform(df_new['Education'])\n",
    "df_new['Workclass']=le.fit_transform(df_new['Workclass'])\n",
    "df_new['Marital_status']=le.fit_transform(df_new['Marital_status'])\n",
    "df_new['Occupation']=le.fit_transform(df_new['Occupation'])\n",
    "df_new['Relationship']=le.fit_transform(df_new['Relationship'])\n",
    "df_new['Race']=le.fit_transform(df_new['Race'])\n",
    "df_new['Sex']=le.fit_transform(df_new['Sex'])\n",
    "df_new['Native_country']=le.fit_transform(df_new['Native_country'])\n",
    "df_new['Income']=le.fit_transform(df_new['Income'])\n"
   ]
  },
  {
   "cell_type": "code",
   "execution_count": 40,
   "id": "a245630c",
   "metadata": {},
   "outputs": [
    {
     "data": {
      "text/html": [
       "<div>\n",
       "<style scoped>\n",
       "    .dataframe tbody tr th:only-of-type {\n",
       "        vertical-align: middle;\n",
       "    }\n",
       "\n",
       "    .dataframe tbody tr th {\n",
       "        vertical-align: top;\n",
       "    }\n",
       "\n",
       "    .dataframe thead th {\n",
       "        text-align: right;\n",
       "    }\n",
       "</style>\n",
       "<table border=\"1\" class=\"dataframe\">\n",
       "  <thead>\n",
       "    <tr style=\"text-align: right;\">\n",
       "      <th></th>\n",
       "      <th>Age</th>\n",
       "      <th>Workclass</th>\n",
       "      <th>Education</th>\n",
       "      <th>Education_num</th>\n",
       "      <th>Marital_status</th>\n",
       "      <th>Occupation</th>\n",
       "      <th>Relationship</th>\n",
       "      <th>Race</th>\n",
       "      <th>Sex</th>\n",
       "      <th>Hours_per_week</th>\n",
       "      <th>Native_country</th>\n",
       "      <th>Income</th>\n",
       "    </tr>\n",
       "  </thead>\n",
       "  <tbody>\n",
       "    <tr>\n",
       "      <th>10738</th>\n",
       "      <td>33</td>\n",
       "      <td>2</td>\n",
       "      <td>10</td>\n",
       "      <td>9</td>\n",
       "      <td>4</td>\n",
       "      <td>7</td>\n",
       "      <td>3</td>\n",
       "      <td>4</td>\n",
       "      <td>1</td>\n",
       "      <td>48</td>\n",
       "      <td>35</td>\n",
       "      <td>0</td>\n",
       "    </tr>\n",
       "    <tr>\n",
       "      <th>341</th>\n",
       "      <td>36</td>\n",
       "      <td>5</td>\n",
       "      <td>10</td>\n",
       "      <td>9</td>\n",
       "      <td>2</td>\n",
       "      <td>10</td>\n",
       "      <td>0</td>\n",
       "      <td>4</td>\n",
       "      <td>1</td>\n",
       "      <td>40</td>\n",
       "      <td>35</td>\n",
       "      <td>1</td>\n",
       "    </tr>\n",
       "    <tr>\n",
       "      <th>14223</th>\n",
       "      <td>25</td>\n",
       "      <td>2</td>\n",
       "      <td>8</td>\n",
       "      <td>13</td>\n",
       "      <td>4</td>\n",
       "      <td>9</td>\n",
       "      <td>3</td>\n",
       "      <td>4</td>\n",
       "      <td>0</td>\n",
       "      <td>35</td>\n",
       "      <td>35</td>\n",
       "      <td>0</td>\n",
       "    </tr>\n",
       "    <tr>\n",
       "      <th>32444</th>\n",
       "      <td>61</td>\n",
       "      <td>2</td>\n",
       "      <td>10</td>\n",
       "      <td>9</td>\n",
       "      <td>6</td>\n",
       "      <td>2</td>\n",
       "      <td>1</td>\n",
       "      <td>2</td>\n",
       "      <td>0</td>\n",
       "      <td>50</td>\n",
       "      <td>35</td>\n",
       "      <td>0</td>\n",
       "    </tr>\n",
       "    <tr>\n",
       "      <th>8596</th>\n",
       "      <td>32</td>\n",
       "      <td>0</td>\n",
       "      <td>6</td>\n",
       "      <td>12</td>\n",
       "      <td>0</td>\n",
       "      <td>10</td>\n",
       "      <td>1</td>\n",
       "      <td>4</td>\n",
       "      <td>1</td>\n",
       "      <td>40</td>\n",
       "      <td>35</td>\n",
       "      <td>0</td>\n",
       "    </tr>\n",
       "    <tr>\n",
       "      <th>...</th>\n",
       "      <td>...</td>\n",
       "      <td>...</td>\n",
       "      <td>...</td>\n",
       "      <td>...</td>\n",
       "      <td>...</td>\n",
       "      <td>...</td>\n",
       "      <td>...</td>\n",
       "      <td>...</td>\n",
       "      <td>...</td>\n",
       "      <td>...</td>\n",
       "      <td>...</td>\n",
       "      <td>...</td>\n",
       "    </tr>\n",
       "    <tr>\n",
       "      <th>10314</th>\n",
       "      <td>24</td>\n",
       "      <td>2</td>\n",
       "      <td>8</td>\n",
       "      <td>13</td>\n",
       "      <td>4</td>\n",
       "      <td>0</td>\n",
       "      <td>1</td>\n",
       "      <td>4</td>\n",
       "      <td>1</td>\n",
       "      <td>40</td>\n",
       "      <td>35</td>\n",
       "      <td>0</td>\n",
       "    </tr>\n",
       "    <tr>\n",
       "      <th>29478</th>\n",
       "      <td>33</td>\n",
       "      <td>4</td>\n",
       "      <td>10</td>\n",
       "      <td>9</td>\n",
       "      <td>2</td>\n",
       "      <td>11</td>\n",
       "      <td>0</td>\n",
       "      <td>4</td>\n",
       "      <td>1</td>\n",
       "      <td>60</td>\n",
       "      <td>35</td>\n",
       "      <td>0</td>\n",
       "    </tr>\n",
       "    <tr>\n",
       "      <th>18248</th>\n",
       "      <td>29</td>\n",
       "      <td>2</td>\n",
       "      <td>10</td>\n",
       "      <td>9</td>\n",
       "      <td>0</td>\n",
       "      <td>6</td>\n",
       "      <td>4</td>\n",
       "      <td>4</td>\n",
       "      <td>1</td>\n",
       "      <td>40</td>\n",
       "      <td>35</td>\n",
       "      <td>0</td>\n",
       "    </tr>\n",
       "    <tr>\n",
       "      <th>24364</th>\n",
       "      <td>31</td>\n",
       "      <td>1</td>\n",
       "      <td>13</td>\n",
       "      <td>10</td>\n",
       "      <td>2</td>\n",
       "      <td>10</td>\n",
       "      <td>0</td>\n",
       "      <td>4</td>\n",
       "      <td>1</td>\n",
       "      <td>45</td>\n",
       "      <td>35</td>\n",
       "      <td>0</td>\n",
       "    </tr>\n",
       "    <tr>\n",
       "      <th>14180</th>\n",
       "      <td>27</td>\n",
       "      <td>2</td>\n",
       "      <td>11</td>\n",
       "      <td>14</td>\n",
       "      <td>4</td>\n",
       "      <td>0</td>\n",
       "      <td>1</td>\n",
       "      <td>4</td>\n",
       "      <td>0</td>\n",
       "      <td>46</td>\n",
       "      <td>35</td>\n",
       "      <td>0</td>\n",
       "    </tr>\n",
       "  </tbody>\n",
       "</table>\n",
       "<p>4422 rows × 12 columns</p>\n",
       "</div>"
      ],
      "text/plain": [
       "       Age  Workclass  Education  Education_num  Marital_status  Occupation  \\\n",
       "10738   33          2         10              9               4           7   \n",
       "341     36          5         10              9               2          10   \n",
       "14223   25          2          8             13               4           9   \n",
       "32444   61          2         10              9               6           2   \n",
       "8596    32          0          6             12               0          10   \n",
       "...    ...        ...        ...            ...             ...         ...   \n",
       "10314   24          2          8             13               4           0   \n",
       "29478   33          4         10              9               2          11   \n",
       "18248   29          2         10              9               0           6   \n",
       "24364   31          1         13             10               2          10   \n",
       "14180   27          2         11             14               4           0   \n",
       "\n",
       "       Relationship  Race  Sex  Hours_per_week  Native_country  Income  \n",
       "10738             3     4    1              48              35       0  \n",
       "341               0     4    1              40              35       1  \n",
       "14223             3     4    0              35              35       0  \n",
       "32444             1     2    0              50              35       0  \n",
       "8596              1     4    1              40              35       0  \n",
       "...             ...   ...  ...             ...             ...     ...  \n",
       "10314             1     4    1              40              35       0  \n",
       "29478             0     4    1              60              35       0  \n",
       "18248             4     4    1              40              35       0  \n",
       "24364             0     4    1              45              35       0  \n",
       "14180             1     4    0              46              35       0  \n",
       "\n",
       "[4422 rows x 12 columns]"
      ]
     },
     "execution_count": 40,
     "metadata": {},
     "output_type": "execute_result"
    }
   ],
   "source": [
    "df_new"
   ]
  },
  {
   "cell_type": "code",
   "execution_count": 41,
   "id": "84ca405f",
   "metadata": {},
   "outputs": [
    {
     "data": {
      "text/html": [
       "<div>\n",
       "<style scoped>\n",
       "    .dataframe tbody tr th:only-of-type {\n",
       "        vertical-align: middle;\n",
       "    }\n",
       "\n",
       "    .dataframe tbody tr th {\n",
       "        vertical-align: top;\n",
       "    }\n",
       "\n",
       "    .dataframe thead th {\n",
       "        text-align: right;\n",
       "    }\n",
       "</style>\n",
       "<table border=\"1\" class=\"dataframe\">\n",
       "  <thead>\n",
       "    <tr style=\"text-align: right;\">\n",
       "      <th></th>\n",
       "      <th>Age</th>\n",
       "      <th>Workclass</th>\n",
       "      <th>Education</th>\n",
       "      <th>Education_num</th>\n",
       "      <th>Marital_status</th>\n",
       "      <th>Occupation</th>\n",
       "      <th>Relationship</th>\n",
       "      <th>Race</th>\n",
       "      <th>Sex</th>\n",
       "      <th>Hours_per_week</th>\n",
       "      <th>Native_country</th>\n",
       "      <th>Income</th>\n",
       "    </tr>\n",
       "  </thead>\n",
       "  <tbody>\n",
       "    <tr>\n",
       "      <th>count</th>\n",
       "      <td>4422.000000</td>\n",
       "      <td>4422.000000</td>\n",
       "      <td>4422.000000</td>\n",
       "      <td>4422.000000</td>\n",
       "      <td>4422.000000</td>\n",
       "      <td>4422.000000</td>\n",
       "      <td>4422.000000</td>\n",
       "      <td>4422.000000</td>\n",
       "      <td>4422.000000</td>\n",
       "      <td>4422.000000</td>\n",
       "      <td>4422.000000</td>\n",
       "      <td>4422.000000</td>\n",
       "    </tr>\n",
       "    <tr>\n",
       "      <th>mean</th>\n",
       "      <td>38.146766</td>\n",
       "      <td>2.200814</td>\n",
       "      <td>9.234735</td>\n",
       "      <td>10.164405</td>\n",
       "      <td>2.587291</td>\n",
       "      <td>5.996382</td>\n",
       "      <td>1.428539</td>\n",
       "      <td>3.671416</td>\n",
       "      <td>0.675486</td>\n",
       "      <td>40.470149</td>\n",
       "      <td>33.563546</td>\n",
       "      <td>0.251922</td>\n",
       "    </tr>\n",
       "    <tr>\n",
       "      <th>std</th>\n",
       "      <td>12.744614</td>\n",
       "      <td>0.975807</td>\n",
       "      <td>3.319670</td>\n",
       "      <td>2.445954</td>\n",
       "      <td>1.507263</td>\n",
       "      <td>4.053865</td>\n",
       "      <td>1.611632</td>\n",
       "      <td>0.835695</td>\n",
       "      <td>0.468246</td>\n",
       "      <td>10.770472</td>\n",
       "      <td>5.481511</td>\n",
       "      <td>0.434166</td>\n",
       "    </tr>\n",
       "    <tr>\n",
       "      <th>min</th>\n",
       "      <td>17.000000</td>\n",
       "      <td>0.000000</td>\n",
       "      <td>0.000000</td>\n",
       "      <td>3.000000</td>\n",
       "      <td>0.000000</td>\n",
       "      <td>0.000000</td>\n",
       "      <td>0.000000</td>\n",
       "      <td>0.000000</td>\n",
       "      <td>0.000000</td>\n",
       "      <td>5.000000</td>\n",
       "      <td>0.000000</td>\n",
       "      <td>0.000000</td>\n",
       "    </tr>\n",
       "    <tr>\n",
       "      <th>25%</th>\n",
       "      <td>28.000000</td>\n",
       "      <td>2.000000</td>\n",
       "      <td>8.000000</td>\n",
       "      <td>9.000000</td>\n",
       "      <td>2.000000</td>\n",
       "      <td>2.000000</td>\n",
       "      <td>0.000000</td>\n",
       "      <td>4.000000</td>\n",
       "      <td>0.000000</td>\n",
       "      <td>40.000000</td>\n",
       "      <td>35.000000</td>\n",
       "      <td>0.000000</td>\n",
       "    </tr>\n",
       "    <tr>\n",
       "      <th>50%</th>\n",
       "      <td>37.000000</td>\n",
       "      <td>2.000000</td>\n",
       "      <td>10.000000</td>\n",
       "      <td>10.000000</td>\n",
       "      <td>2.000000</td>\n",
       "      <td>6.000000</td>\n",
       "      <td>1.000000</td>\n",
       "      <td>4.000000</td>\n",
       "      <td>1.000000</td>\n",
       "      <td>40.000000</td>\n",
       "      <td>35.000000</td>\n",
       "      <td>0.000000</td>\n",
       "    </tr>\n",
       "    <tr>\n",
       "      <th>75%</th>\n",
       "      <td>47.000000</td>\n",
       "      <td>2.000000</td>\n",
       "      <td>11.000000</td>\n",
       "      <td>13.000000</td>\n",
       "      <td>4.000000</td>\n",
       "      <td>9.000000</td>\n",
       "      <td>3.000000</td>\n",
       "      <td>4.000000</td>\n",
       "      <td>1.000000</td>\n",
       "      <td>45.000000</td>\n",
       "      <td>35.000000</td>\n",
       "      <td>1.000000</td>\n",
       "    </tr>\n",
       "    <tr>\n",
       "      <th>max</th>\n",
       "      <td>77.000000</td>\n",
       "      <td>6.000000</td>\n",
       "      <td>13.000000</td>\n",
       "      <td>16.000000</td>\n",
       "      <td>6.000000</td>\n",
       "      <td>13.000000</td>\n",
       "      <td>5.000000</td>\n",
       "      <td>4.000000</td>\n",
       "      <td>1.000000</td>\n",
       "      <td>75.000000</td>\n",
       "      <td>37.000000</td>\n",
       "      <td>1.000000</td>\n",
       "    </tr>\n",
       "  </tbody>\n",
       "</table>\n",
       "</div>"
      ],
      "text/plain": [
       "               Age    Workclass    Education  Education_num  Marital_status  \\\n",
       "count  4422.000000  4422.000000  4422.000000    4422.000000     4422.000000   \n",
       "mean     38.146766     2.200814     9.234735      10.164405        2.587291   \n",
       "std      12.744614     0.975807     3.319670       2.445954        1.507263   \n",
       "min      17.000000     0.000000     0.000000       3.000000        0.000000   \n",
       "25%      28.000000     2.000000     8.000000       9.000000        2.000000   \n",
       "50%      37.000000     2.000000    10.000000      10.000000        2.000000   \n",
       "75%      47.000000     2.000000    11.000000      13.000000        4.000000   \n",
       "max      77.000000     6.000000    13.000000      16.000000        6.000000   \n",
       "\n",
       "        Occupation  Relationship         Race          Sex  Hours_per_week  \\\n",
       "count  4422.000000   4422.000000  4422.000000  4422.000000     4422.000000   \n",
       "mean      5.996382      1.428539     3.671416     0.675486       40.470149   \n",
       "std       4.053865      1.611632     0.835695     0.468246       10.770472   \n",
       "min       0.000000      0.000000     0.000000     0.000000        5.000000   \n",
       "25%       2.000000      0.000000     4.000000     0.000000       40.000000   \n",
       "50%       6.000000      1.000000     4.000000     1.000000       40.000000   \n",
       "75%       9.000000      3.000000     4.000000     1.000000       45.000000   \n",
       "max      13.000000      5.000000     4.000000     1.000000       75.000000   \n",
       "\n",
       "       Native_country       Income  \n",
       "count     4422.000000  4422.000000  \n",
       "mean        33.563546     0.251922  \n",
       "std          5.481511     0.434166  \n",
       "min          0.000000     0.000000  \n",
       "25%         35.000000     0.000000  \n",
       "50%         35.000000     0.000000  \n",
       "75%         35.000000     1.000000  \n",
       "max         37.000000     1.000000  "
      ]
     },
     "execution_count": 41,
     "metadata": {},
     "output_type": "execute_result"
    }
   ],
   "source": [
    "df_new.describe()"
   ]
  },
  {
   "cell_type": "markdown",
   "id": "c4feb166",
   "metadata": {},
   "source": [
    "# Skewness"
   ]
  },
  {
   "cell_type": "code",
   "execution_count": 42,
   "id": "5f471ecf",
   "metadata": {},
   "outputs": [
    {
     "data": {
      "text/plain": [
       "Age               0.406235\n",
       "Workclass         1.188536\n",
       "Education        -1.126189\n",
       "Education_num    -0.117590\n",
       "Marital_status    0.005245\n",
       "Occupation        0.104059\n",
       "Relationship      0.795786\n",
       "Race             -2.442150\n",
       "Sex              -0.749886\n",
       "Hours_per_week   -0.327564\n",
       "Native_country   -4.186574\n",
       "Income            1.143296\n",
       "dtype: float64"
      ]
     },
     "execution_count": 42,
     "metadata": {},
     "output_type": "execute_result"
    }
   ],
   "source": [
    "df_new.skew()"
   ]
  },
  {
   "cell_type": "code",
   "execution_count": 43,
   "id": "57942305",
   "metadata": {},
   "outputs": [
    {
     "data": {
      "text/plain": [
       "<AxesSubplot:xlabel='Age', ylabel='Density'>"
      ]
     },
     "execution_count": 43,
     "metadata": {},
     "output_type": "execute_result"
    },
    {
     "data": {
      "image/png": "[encoded data removed]",
      "text/plain": [
       "<Figure size 432x288 with 1 Axes>"
      ]
     },
     "metadata": {
      "needs_background": "light"
     },
     "output_type": "display_data"
    }
   ],
   "source": [
    "sns.distplot(df_new[\"Age\"],color=\"purple\",kde_kws={\"shade\":True},hist=False)"
   ]
  },
  {
   "cell_type": "code",
   "execution_count": 44,
   "id": "7b067822",
   "metadata": {},
   "outputs": [
    {
     "data": {
      "text/plain": [
       "<AxesSubplot:xlabel='Education_num', ylabel='Density'>"
      ]
     },
     "execution_count": 44,
     "metadata": {},
     "output_type": "execute_result"
    },
    {
     "data": {
      "image/png": "[encoded data removed]",
      "text/plain": [
       "<Figure size 432x288 with 1 Axes>"
      ]
     },
     "metadata": {
      "needs_background": "light"
     },
     "output_type": "display_data"
    }
   ],
   "source": [
    "sns.distplot(df_new[\"Education_num\"],color=\"purple\",kde_kws={\"shade\":True},hist=False)"
   ]
  },
  {
   "cell_type": "code",
   "execution_count": 45,
   "id": "afedee12",
   "metadata": {},
   "outputs": [
    {
     "data": {
      "text/plain": [
       "<AxesSubplot:xlabel='Hours_per_week', ylabel='Density'>"
      ]
     },
     "execution_count": 45,
     "metadata": {},
     "output_type": "execute_result"
    },
    {
     "data": {
      "image/png": "[encoded data removed]",
      "text/plain": [
       "<Figure size 432x288 with 1 Axes>"
      ]
     },
     "metadata": {
      "needs_background": "light"
     },
     "output_type": "display_data"
    }
   ],
   "source": [
    "sns.distplot(df_new[\"Hours_per_week\"],color=\"purple\",kde_kws={\"shade\":True},hist=False)"
   ]
  },
  {
   "cell_type": "markdown",
   "id": "83d339ef",
   "metadata": {},
   "source": [
    "From the above we can see that there is no skewness"
   ]
  },
  {
   "cell_type": "markdown",
   "id": "ef54acd0",
   "metadata": {},
   "source": [
    "# Correlation "
   ]
  },
  {
   "cell_type": "code",
   "execution_count": 46,
   "id": "77b96ed4",
   "metadata": {},
   "outputs": [
    {
     "data": {
      "text/html": [
       "<div>\n",
       "<style scoped>\n",
       "    .dataframe tbody tr th:only-of-type {\n",
       "        vertical-align: middle;\n",
       "    }\n",
       "\n",
       "    .dataframe tbody tr th {\n",
       "        vertical-align: top;\n",
       "    }\n",
       "\n",
       "    .dataframe thead th {\n",
       "        text-align: right;\n",
       "    }\n",
       "</style>\n",
       "<table border=\"1\" class=\"dataframe\">\n",
       "  <thead>\n",
       "    <tr style=\"text-align: right;\">\n",
       "      <th></th>\n",
       "      <th>Age</th>\n",
       "      <th>Workclass</th>\n",
       "      <th>Education</th>\n",
       "      <th>Education_num</th>\n",
       "      <th>Marital_status</th>\n",
       "      <th>Occupation</th>\n",
       "      <th>Relationship</th>\n",
       "      <th>Race</th>\n",
       "      <th>Sex</th>\n",
       "      <th>Hours_per_week</th>\n",
       "      <th>Native_country</th>\n",
       "      <th>Income</th>\n",
       "    </tr>\n",
       "  </thead>\n",
       "  <tbody>\n",
       "    <tr>\n",
       "      <th>Age</th>\n",
       "      <td>1.000000</td>\n",
       "      <td>0.058524</td>\n",
       "      <td>0.002762</td>\n",
       "      <td>0.063072</td>\n",
       "      <td>-0.287761</td>\n",
       "      <td>-0.011114</td>\n",
       "      <td>-0.245250</td>\n",
       "      <td>0.017930</td>\n",
       "      <td>0.069955</td>\n",
       "      <td>0.122857</td>\n",
       "      <td>-0.016389</td>\n",
       "      <td>0.259232</td>\n",
       "    </tr>\n",
       "    <tr>\n",
       "      <th>Workclass</th>\n",
       "      <td>0.058524</td>\n",
       "      <td>1.000000</td>\n",
       "      <td>0.025037</td>\n",
       "      <td>0.045964</td>\n",
       "      <td>0.008687</td>\n",
       "      <td>0.021683</td>\n",
       "      <td>-0.042220</td>\n",
       "      <td>0.045984</td>\n",
       "      <td>0.039687</td>\n",
       "      <td>0.030055</td>\n",
       "      <td>0.012330</td>\n",
       "      <td>0.011902</td>\n",
       "    </tr>\n",
       "    <tr>\n",
       "      <th>Education</th>\n",
       "      <td>0.002762</td>\n",
       "      <td>0.025037</td>\n",
       "      <td>1.000000</td>\n",
       "      <td>0.343683</td>\n",
       "      <td>-0.050613</td>\n",
       "      <td>-0.049218</td>\n",
       "      <td>-0.006461</td>\n",
       "      <td>0.013214</td>\n",
       "      <td>-0.031017</td>\n",
       "      <td>0.069165</td>\n",
       "      <td>0.087883</td>\n",
       "      <td>0.058617</td>\n",
       "    </tr>\n",
       "    <tr>\n",
       "      <th>Education_num</th>\n",
       "      <td>0.063072</td>\n",
       "      <td>0.045964</td>\n",
       "      <td>0.343683</td>\n",
       "      <td>1.000000</td>\n",
       "      <td>-0.049510</td>\n",
       "      <td>0.088684</td>\n",
       "      <td>-0.112038</td>\n",
       "      <td>0.024442</td>\n",
       "      <td>0.030201</td>\n",
       "      <td>0.171432</td>\n",
       "      <td>0.060824</td>\n",
       "      <td>0.337357</td>\n",
       "    </tr>\n",
       "    <tr>\n",
       "      <th>Marital_status</th>\n",
       "      <td>-0.287761</td>\n",
       "      <td>0.008687</td>\n",
       "      <td>-0.050613</td>\n",
       "      <td>-0.049510</td>\n",
       "      <td>1.000000</td>\n",
       "      <td>0.053692</td>\n",
       "      <td>0.188289</td>\n",
       "      <td>-0.079132</td>\n",
       "      <td>-0.116735</td>\n",
       "      <td>-0.198787</td>\n",
       "      <td>-0.037877</td>\n",
       "      <td>-0.186043</td>\n",
       "    </tr>\n",
       "    <tr>\n",
       "      <th>Occupation</th>\n",
       "      <td>-0.011114</td>\n",
       "      <td>0.021683</td>\n",
       "      <td>-0.049218</td>\n",
       "      <td>0.088684</td>\n",
       "      <td>0.053692</td>\n",
       "      <td>1.000000</td>\n",
       "      <td>-0.048994</td>\n",
       "      <td>-0.008096</td>\n",
       "      <td>0.070282</td>\n",
       "      <td>0.008918</td>\n",
       "      <td>-0.015075</td>\n",
       "      <td>0.026864</td>\n",
       "    </tr>\n",
       "    <tr>\n",
       "      <th>Relationship</th>\n",
       "      <td>-0.245250</td>\n",
       "      <td>-0.042220</td>\n",
       "      <td>-0.006461</td>\n",
       "      <td>-0.112038</td>\n",
       "      <td>0.188289</td>\n",
       "      <td>-0.048994</td>\n",
       "      <td>1.000000</td>\n",
       "      <td>-0.128365</td>\n",
       "      <td>-0.586898</td>\n",
       "      <td>-0.270927</td>\n",
       "      <td>0.015493</td>\n",
       "      <td>-0.261971</td>\n",
       "    </tr>\n",
       "    <tr>\n",
       "      <th>Race</th>\n",
       "      <td>0.017930</td>\n",
       "      <td>0.045984</td>\n",
       "      <td>0.013214</td>\n",
       "      <td>0.024442</td>\n",
       "      <td>-0.079132</td>\n",
       "      <td>-0.008096</td>\n",
       "      <td>-0.128365</td>\n",
       "      <td>1.000000</td>\n",
       "      <td>0.104325</td>\n",
       "      <td>0.074213</td>\n",
       "      <td>0.130053</td>\n",
       "      <td>0.061121</td>\n",
       "    </tr>\n",
       "    <tr>\n",
       "      <th>Sex</th>\n",
       "      <td>0.069955</td>\n",
       "      <td>0.039687</td>\n",
       "      <td>-0.031017</td>\n",
       "      <td>0.030201</td>\n",
       "      <td>-0.116735</td>\n",
       "      <td>0.070282</td>\n",
       "      <td>-0.586898</td>\n",
       "      <td>0.104325</td>\n",
       "      <td>1.000000</td>\n",
       "      <td>0.233254</td>\n",
       "      <td>-0.024879</td>\n",
       "      <td>0.225316</td>\n",
       "    </tr>\n",
       "    <tr>\n",
       "      <th>Hours_per_week</th>\n",
       "      <td>0.122857</td>\n",
       "      <td>0.030055</td>\n",
       "      <td>0.069165</td>\n",
       "      <td>0.171432</td>\n",
       "      <td>-0.198787</td>\n",
       "      <td>0.008918</td>\n",
       "      <td>-0.270927</td>\n",
       "      <td>0.074213</td>\n",
       "      <td>0.233254</td>\n",
       "      <td>1.000000</td>\n",
       "      <td>0.001074</td>\n",
       "      <td>0.252124</td>\n",
       "    </tr>\n",
       "    <tr>\n",
       "      <th>Native_country</th>\n",
       "      <td>-0.016389</td>\n",
       "      <td>0.012330</td>\n",
       "      <td>0.087883</td>\n",
       "      <td>0.060824</td>\n",
       "      <td>-0.037877</td>\n",
       "      <td>-0.015075</td>\n",
       "      <td>0.015493</td>\n",
       "      <td>0.130053</td>\n",
       "      <td>-0.024879</td>\n",
       "      <td>0.001074</td>\n",
       "      <td>1.000000</td>\n",
       "      <td>0.003917</td>\n",
       "    </tr>\n",
       "    <tr>\n",
       "      <th>Income</th>\n",
       "      <td>0.259232</td>\n",
       "      <td>0.011902</td>\n",
       "      <td>0.058617</td>\n",
       "      <td>0.337357</td>\n",
       "      <td>-0.186043</td>\n",
       "      <td>0.026864</td>\n",
       "      <td>-0.261971</td>\n",
       "      <td>0.061121</td>\n",
       "      <td>0.225316</td>\n",
       "      <td>0.252124</td>\n",
       "      <td>0.003917</td>\n",
       "      <td>1.000000</td>\n",
       "    </tr>\n",
       "  </tbody>\n",
       "</table>\n",
       "</div>"
      ],
      "text/plain": [
       "                     Age  Workclass  Education  Education_num  Marital_status  \\\n",
       "Age             1.000000   0.058524   0.002762       0.063072       -0.287761   \n",
       "Workclass       0.058524   1.000000   0.025037       0.045964        0.008687   \n",
       "Education       0.002762   0.025037   1.000000       0.343683       -0.050613   \n",
       "Education_num   0.063072   0.045964   0.343683       1.000000       -0.049510   \n",
       "Marital_status -0.287761   0.008687  -0.050613      -0.049510        1.000000   \n",
       "Occupation     -0.011114   0.021683  -0.049218       0.088684        0.053692   \n",
       "Relationship   -0.245250  -0.042220  -0.006461      -0.112038        0.188289   \n",
       "Race            0.017930   0.045984   0.013214       0.024442       -0.079132   \n",
       "Sex             0.069955   0.039687  -0.031017       0.030201       -0.116735   \n",
       "Hours_per_week  0.122857   0.030055   0.069165       0.171432       -0.198787   \n",
       "Native_country -0.016389   0.012330   0.087883       0.060824       -0.037877   \n",
       "Income          0.259232   0.011902   0.058617       0.337357       -0.186043   \n",
       "\n",
       "                Occupation  Relationship      Race       Sex  Hours_per_week  \\\n",
       "Age              -0.011114     -0.245250  0.017930  0.069955        0.122857   \n",
       "Workclass         0.021683     -0.042220  0.045984  0.039687        0.030055   \n",
       "Education        -0.049218     -0.006461  0.013214 -0.031017        0.069165   \n",
       "Education_num     0.088684     -0.112038  0.024442  0.030201        0.171432   \n",
       "Marital_status    0.053692      0.188289 -0.079132 -0.116735       -0.198787   \n",
       "Occupation        1.000000     -0.048994 -0.008096  0.070282        0.008918   \n",
       "Relationship     -0.048994      1.000000 -0.128365 -0.586898       -0.270927   \n",
       "Race             -0.008096     -0.128365  1.000000  0.104325        0.074213   \n",
       "Sex               0.070282     -0.586898  0.104325  1.000000        0.233254   \n",
       "Hours_per_week    0.008918     -0.270927  0.074213  0.233254        1.000000   \n",
       "Native_country   -0.015075      0.015493  0.130053 -0.024879        0.001074   \n",
       "Income            0.026864     -0.261971  0.061121  0.225316        0.252124   \n",
       "\n",
       "                Native_country    Income  \n",
       "Age                  -0.016389  0.259232  \n",
       "Workclass             0.012330  0.011902  \n",
       "Education             0.087883  0.058617  \n",
       "Education_num         0.060824  0.337357  \n",
       "Marital_status       -0.037877 -0.186043  \n",
       "Occupation           -0.015075  0.026864  \n",
       "Relationship          0.015493 -0.261971  \n",
       "Race                  0.130053  0.061121  \n",
       "Sex                  -0.024879  0.225316  \n",
       "Hours_per_week        0.001074  0.252124  \n",
       "Native_country        1.000000  0.003917  \n",
       "Income                0.003917  1.000000  "
      ]
     },
     "execution_count": 46,
     "metadata": {},
     "output_type": "execute_result"
    }
   ],
   "source": [
    "df_new.corr()"
   ]
  },
  {
   "cell_type": "code",
   "execution_count": 47,
   "id": "4023d35f",
   "metadata": {},
   "outputs": [],
   "source": [
    "# correlation matrix using heatmap"
   ]
  },
  {
   "cell_type": "code",
   "execution_count": 48,
   "id": "23565bc2",
   "metadata": {},
   "outputs": [
    {
     "data": {
      "image/png": "[encoded data removed]",
      "text/plain": [
       "<Figure size 1440x1080 with 2 Axes>"
      ]
     },
     "metadata": {
      "needs_background": "light"
     },
     "output_type": "display_data"
    }
   ],
   "source": [
    "plt.figure(figsize=(20,15))\n",
    "sns.heatmap(df_new.corr(),linewidths=.1,vmin=-1,vmax=1,fmt='.1g',annot=True, linecolor=\"black\",annot_kws={'size':10},cmap=\"coolwarm\")\n",
    "plt.yticks(rotation=0);"
   ]
  },
  {
   "cell_type": "markdown",
   "id": "9f0d78cb",
   "metadata": {},
   "source": [
    "There is no multicolinearity. Workclass, Native_country, occupation, Race and Education has less correlation with target.\n",
    "\n",
    "Columns Education_num, Age, sex and Hours_per_week have positive correlation with the target."
   ]
  },
  {
   "cell_type": "markdown",
   "id": "3090034e",
   "metadata": {},
   "source": [
    "# Splitting of Data "
   ]
  },
  {
   "cell_type": "code",
   "execution_count": 49,
   "id": "83b93815",
   "metadata": {},
   "outputs": [],
   "source": [
    "x=df_new.drop(\"Income\", axis=1)\n",
    "y=df_new[\"Income\"]"
   ]
  },
  {
   "cell_type": "markdown",
   "id": "a4bcf7b9",
   "metadata": {},
   "source": [
    "# Finding Best Random State"
   ]
  },
  {
   "cell_type": "code",
   "execution_count": 50,
   "id": "afdd8eb9",
   "metadata": {},
   "outputs": [
    {
     "name": "stdout",
     "output_type": "stream",
     "text": [
      "Best Accuracy is 0.7887005649717514 on Random_State 1\n",
      "Best Accuracy is 0.8192090395480226 on Random_State 2\n",
      "Best Accuracy is 0.8192090395480226 on Random_State 2\n",
      "Best Accuracy is 0.8192090395480226 on Random_State 2\n",
      "Best Accuracy is 0.8192090395480226 on Random_State 2\n",
      "Best Accuracy is 0.8192090395480226 on Random_State 2\n",
      "Best Accuracy is 0.8214689265536723 on Random_State 7\n",
      "Best Accuracy is 0.8214689265536723 on Random_State 7\n",
      "Best Accuracy is 0.8214689265536723 on Random_State 7\n",
      "Best Accuracy is 0.8214689265536723 on Random_State 7\n",
      "Best Accuracy is 0.8214689265536723 on Random_State 7\n",
      "Best Accuracy is 0.8214689265536723 on Random_State 7\n",
      "Best Accuracy is 0.8214689265536723 on Random_State 7\n",
      "Best Accuracy is 0.8214689265536723 on Random_State 7\n",
      "Best Accuracy is 0.8214689265536723 on Random_State 7\n",
      "Best Accuracy is 0.8214689265536723 on Random_State 7\n",
      "Best Accuracy is 0.8248587570621468 on Random_State 17\n",
      "Best Accuracy is 0.8248587570621468 on Random_State 17\n",
      "Best Accuracy is 0.8248587570621468 on Random_State 17\n",
      "Best Accuracy is 0.8248587570621468 on Random_State 17\n",
      "Best Accuracy is 0.8248587570621468 on Random_State 17\n",
      "Best Accuracy is 0.8248587570621468 on Random_State 17\n",
      "Best Accuracy is 0.8248587570621468 on Random_State 17\n",
      "Best Accuracy is 0.8248587570621468 on Random_State 17\n",
      "Best Accuracy is 0.8248587570621468 on Random_State 17\n",
      "Best Accuracy is 0.8248587570621468 on Random_State 17\n",
      "Best Accuracy is 0.8248587570621468 on Random_State 17\n",
      "Best Accuracy is 0.8248587570621468 on Random_State 17\n",
      "Best Accuracy is 0.8248587570621468 on Random_State 17\n",
      "Best Accuracy is 0.8248587570621468 on Random_State 17\n",
      "Best Accuracy is 0.8248587570621468 on Random_State 17\n",
      "Best Accuracy is 0.8248587570621468 on Random_State 17\n",
      "Best Accuracy is 0.8248587570621468 on Random_State 17\n",
      "Best Accuracy is 0.8248587570621468 on Random_State 17\n",
      "Best Accuracy is 0.8248587570621468 on Random_State 17\n",
      "Best Accuracy is 0.8248587570621468 on Random_State 17\n",
      "Best Accuracy is 0.8248587570621468 on Random_State 17\n",
      "Best Accuracy is 0.8248587570621468 on Random_State 17\n",
      "Best Accuracy is 0.8248587570621468 on Random_State 17\n",
      "Best Accuracy is 0.8248587570621468 on Random_State 17\n",
      "Best Accuracy is 0.8248587570621468 on Random_State 17\n",
      "Best Accuracy is 0.8248587570621468 on Random_State 17\n",
      "Best Accuracy is 0.8248587570621468 on Random_State 17\n",
      "Best Accuracy is 0.8248587570621468 on Random_State 17\n",
      "Best Accuracy is 0.8248587570621468 on Random_State 17\n",
      "Best Accuracy is 0.8248587570621468 on Random_State 17\n",
      "Best Accuracy is 0.8248587570621468 on Random_State 17\n",
      "Best Accuracy is 0.8248587570621468 on Random_State 17\n",
      "Best Accuracy is 0.8248587570621468 on Random_State 17\n",
      "Best Accuracy is 0.8248587570621468 on Random_State 17\n",
      "Best Accuracy is 0.8248587570621468 on Random_State 17\n",
      "Best Accuracy is 0.8248587570621468 on Random_State 17\n",
      "Best Accuracy is 0.8248587570621468 on Random_State 17\n",
      "Best Accuracy is 0.8248587570621468 on Random_State 17\n",
      "Best Accuracy is 0.8248587570621468 on Random_State 17\n",
      "Best Accuracy is 0.8248587570621468 on Random_State 17\n",
      "Best Accuracy is 0.8248587570621468 on Random_State 17\n",
      "Best Accuracy is 0.8248587570621468 on Random_State 17\n",
      "Best Accuracy is 0.8248587570621468 on Random_State 17\n",
      "Best Accuracy is 0.8248587570621468 on Random_State 17\n",
      "Best Accuracy is 0.8248587570621468 on Random_State 17\n",
      "Best Accuracy is 0.8248587570621468 on Random_State 17\n",
      "Best Accuracy is 0.8248587570621468 on Random_State 17\n",
      "Best Accuracy is 0.8248587570621468 on Random_State 17\n",
      "Best Accuracy is 0.8248587570621468 on Random_State 17\n",
      "Best Accuracy is 0.8248587570621468 on Random_State 17\n",
      "Best Accuracy is 0.8248587570621468 on Random_State 17\n",
      "Best Accuracy is 0.8248587570621468 on Random_State 17\n",
      "Best Accuracy is 0.8248587570621468 on Random_State 17\n",
      "Best Accuracy is 0.8248587570621468 on Random_State 17\n",
      "Best Accuracy is 0.8248587570621468 on Random_State 17\n",
      "Best Accuracy is 0.8248587570621468 on Random_State 17\n",
      "Best Accuracy is 0.8248587570621468 on Random_State 17\n",
      "Best Accuracy is 0.8248587570621468 on Random_State 17\n",
      "Best Accuracy is 0.8248587570621468 on Random_State 17\n",
      "Best Accuracy is 0.8248587570621468 on Random_State 17\n",
      "Best Accuracy is 0.8248587570621468 on Random_State 17\n",
      "Best Accuracy is 0.8248587570621468 on Random_State 17\n",
      "Best Accuracy is 0.8248587570621468 on Random_State 17\n",
      "Best Accuracy is 0.8248587570621468 on Random_State 17\n",
      "Best Accuracy is 0.8248587570621468 on Random_State 17\n",
      "Best Accuracy is 0.8248587570621468 on Random_State 17\n",
      "Best Accuracy is 0.8248587570621468 on Random_State 17\n",
      "Best Accuracy is 0.8248587570621468 on Random_State 17\n",
      "Best Accuracy is 0.8248587570621468 on Random_State 17\n",
      "Best Accuracy is 0.8248587570621468 on Random_State 17\n",
      "Best Accuracy is 0.8248587570621468 on Random_State 17\n",
      "Best Accuracy is 0.8248587570621468 on Random_State 17\n",
      "Best Accuracy is 0.8248587570621468 on Random_State 17\n",
      "Best Accuracy is 0.8248587570621468 on Random_State 17\n",
      "Best Accuracy is 0.8248587570621468 on Random_State 17\n",
      "Best Accuracy is 0.8248587570621468 on Random_State 17\n",
      "Best Accuracy is 0.8248587570621468 on Random_State 17\n",
      "Best Accuracy is 0.8248587570621468 on Random_State 17\n",
      "Best Accuracy is 0.8248587570621468 on Random_State 17\n",
      "Best Accuracy is 0.8248587570621468 on Random_State 17\n",
      "Best Accuracy is 0.8248587570621468 on Random_State 17\n",
      "Best Accuracy is 0.8248587570621468 on Random_State 17\n",
      "Best Accuracy is 0.8248587570621468 on Random_State 17\n"
     ]
    }
   ],
   "source": [
    "from sklearn.linear_model import LogisticRegression\n",
    "maxAccu=0\n",
    "maxRs=0\n",
    "for i in range(1,100):\n",
    "    x_train,x_test, y_train, y_test= train_test_split(x,y, test_size=0.20, random_state=i)\n",
    "    lr=LogisticRegression()\n",
    "    lr.fit(x_train, y_train)\n",
    "    predlr=lr.predict(x_test)\n",
    "    acc=accuracy_score(y_test,predlr)\n",
    "    if acc>maxAccu:\n",
    "        maxAccu=acc\n",
    "        maxRs=i\n",
    "    print(\"Best Accuracy is\", maxAccu,\"on Random_State\", maxRs)"
   ]
  },
  {
   "cell_type": "code",
   "execution_count": 51,
   "id": "a4d572de",
   "metadata": {},
   "outputs": [],
   "source": [
    "x_train, x_test, y_train, y_test= train_test_split(x,y,test_size=0.20, random_state=10)"
   ]
  },
  {
   "cell_type": "code",
   "execution_count": 52,
   "id": "f7e290ce",
   "metadata": {},
   "outputs": [],
   "source": [
    "from sklearn.linear_model import LogisticRegression\n",
    "from sklearn.tree import DecisionTreeClassifier\n",
    "from sklearn.ensemble import RandomForestClassifier\n",
    "from sklearn.neighbors import KNeighborsClassifier\n",
    "from sklearn.svm import SVC\n",
    "from sklearn.model_selection import cross_val_score\n",
    "\n",
    "lg=LogisticRegression()\n",
    "sv=SVC()\n",
    "rf=RandomForestClassifier()\n",
    "knn=KNeighborsClassifier()\n",
    "dtc=DecisionTreeClassifier()"
   ]
  },
  {
   "cell_type": "code",
   "execution_count": 53,
   "id": "e5ae308d",
   "metadata": {},
   "outputs": [
    {
     "name": "stdout",
     "output_type": "stream",
     "text": [
      "Accuracy score: of LogisticRegression()\n",
      "0.7943502824858757\n",
      "[[610  44]\n",
      " [138  93]]\n",
      "              precision    recall  f1-score   support\n",
      "\n",
      "           0       0.82      0.93      0.87       654\n",
      "           1       0.68      0.40      0.51       231\n",
      "\n",
      "    accuracy                           0.79       885\n",
      "   macro avg       0.75      0.67      0.69       885\n",
      "weighted avg       0.78      0.79      0.77       885\n",
      "\n",
      "Cross Validation Score: 0.7991839865020323\n",
      "Difference between Accuracy Score and CrossValidation Score: 0.00483370401615657\n",
      "\n",
      "\n",
      "Accuracy score: of SVC()\n",
      "0.7796610169491526\n",
      "[[637  17]\n",
      " [178  53]]\n",
      "              precision    recall  f1-score   support\n",
      "\n",
      "           0       0.78      0.97      0.87       654\n",
      "           1       0.76      0.23      0.35       231\n",
      "\n",
      "    accuracy                           0.78       885\n",
      "   macro avg       0.77      0.60      0.61       885\n",
      "weighted avg       0.78      0.78      0.73       885\n",
      "\n",
      "Cross Validation Score: 0.7919495360073625\n",
      "Difference between Accuracy Score and CrossValidation Score: 0.012288519058209935\n",
      "\n",
      "\n",
      "Accuracy score: of RandomForestClassifier()\n",
      "0.8372881355932204\n",
      "[[603  51]\n",
      " [ 93 138]]\n",
      "              precision    recall  f1-score   support\n",
      "\n",
      "           0       0.87      0.92      0.89       654\n",
      "           1       0.73      0.60      0.66       231\n",
      "\n",
      "    accuracy                           0.84       885\n",
      "   macro avg       0.80      0.76      0.78       885\n",
      "weighted avg       0.83      0.84      0.83       885\n",
      "\n",
      "Cross Validation Score: 0.817052432446251\n",
      "Difference between Accuracy Score and CrossValidation Score: 0.02023570314696932\n",
      "\n",
      "\n",
      "Accuracy score: of KNeighborsClassifier()\n",
      "0.7887005649717514\n",
      "[[580  74]\n",
      " [113 118]]\n",
      "              precision    recall  f1-score   support\n",
      "\n",
      "           0       0.84      0.89      0.86       654\n",
      "           1       0.61      0.51      0.56       231\n",
      "\n",
      "    accuracy                           0.79       885\n",
      "   macro avg       0.73      0.70      0.71       885\n",
      "weighted avg       0.78      0.79      0.78       885\n",
      "\n",
      "Cross Validation Score: 0.7781586011197177\n",
      "Difference between Accuracy Score and CrossValidation Score: 0.010541963852033764\n",
      "\n",
      "\n",
      "Accuracy score: of DecisionTreeClassifier()\n",
      "0.7864406779661017\n",
      "[[566  88]\n",
      " [101 130]]\n",
      "              precision    recall  f1-score   support\n",
      "\n",
      "           0       0.85      0.87      0.86       654\n",
      "           1       0.60      0.56      0.58       231\n",
      "\n",
      "    accuracy                           0.79       885\n",
      "   macro avg       0.72      0.71      0.72       885\n",
      "weighted avg       0.78      0.79      0.78       885\n",
      "\n",
      "Cross Validation Score: 0.7625518316844339\n",
      "Difference between Accuracy Score and CrossValidation Score: 0.023888846281667875\n",
      "\n",
      "\n"
     ]
    }
   ],
   "source": [
    "model=[lg,sv,rf,knn,dtc]\n",
    "\n",
    "for m in model:\n",
    "    m.fit(x_train,y_train)\n",
    "    pred=m.predict(x_test)\n",
    "    print('Accuracy score: of', m)\n",
    "    acc=accuracy_score(y_test,pred)\n",
    "    print(acc)\n",
    "    print(confusion_matrix(y_test,pred))\n",
    "    print(classification_report(y_test,pred))\n",
    "    score=cross_val_score(m,x,y,cv=5)\n",
    "    crossval=score.mean()\n",
    "    print(\"Cross Validation Score:\", crossval)\n",
    "    print(\"Difference between Accuracy Score and CrossValidation Score:\",abs(acc-crossval))\n",
    "    print(\"\\n\")"
   ]
  },
  {
   "cell_type": "markdown",
   "id": "9bb9cd45",
   "metadata": {},
   "source": [
    "We can see Random Forest Classifier is performing better than other models."
   ]
  },
  {
   "cell_type": "markdown",
   "id": "03fa4a10",
   "metadata": {},
   "source": [
    "# Hyper Parameter Tuning"
   ]
  },
  {
   "cell_type": "code",
   "execution_count": null,
   "id": "7c80a200",
   "metadata": {},
   "outputs": [],
   "source": [
    "from sklearn.model_selection import GridSearchCV\n",
    "\n",
    "param_grid={'max_depth':[4,5,6,7,8],\n",
    "           'max_features':['sqrt','auto','log2'],\n",
    "           'n_estimators':[200,500],\n",
    "           'criterion':['gini','entropy'] }\n",
    "rfc=GridSearchCV(estimator=rf,param_grid=param_grid,cv=3)\n",
    "rfc.fit(x_train,y_train)\n",
    "\n"
   ]
  },
  {
   "cell_type": "code",
   "execution_count": 64,
   "id": "675ae9ba",
   "metadata": {},
   "outputs": [
    {
     "name": "stdout",
     "output_type": "stream",
     "text": [
      "Accuracy score: of RandomForestClassifier(max_depth=10, n_estimators=102)\n",
      "0.8372881355932204\n",
      "[[615  39]\n",
      " [105 126]]\n",
      "              precision    recall  f1-score   support\n",
      "\n",
      "           0       0.85      0.94      0.90       654\n",
      "           1       0.76      0.55      0.64       231\n",
      "\n",
      "    accuracy                           0.84       885\n",
      "   macro avg       0.81      0.74      0.77       885\n",
      "weighted avg       0.83      0.84      0.83       885\n",
      "\n"
     ]
    }
   ],
   "source": [
    "rf1=RandomForestClassifier(max_features='sqrt',max_depth=10, criterion='gini', n_estimators=102)\n",
    "rf1.fit(x_train,y_train)\n",
    "predrf1=rf1.predict(x_test)\n",
    "print('Accuracy score: of',rf1)\n",
    "acc=accuracy_score(y_test,predrf1)\n",
    "print(acc)\n",
    "print(confusion_matrix(y_test,predrf1))\n",
    "print(classification_report(y_test,predrf1))"
   ]
  },
  {
   "cell_type": "markdown",
   "id": "887d28e0",
   "metadata": {},
   "source": [
    "# ROC AUC"
   ]
  },
  {
   "cell_type": "code",
   "execution_count": 65,
   "id": "c1687dcc",
   "metadata": {},
   "outputs": [
    {
     "data": {
      "image/png": "[encoded data removed]",
      "text/plain": [
       "<Figure size 432x288 with 1 Axes>"
      ]
     },
     "metadata": {
      "needs_background": "light"
     },
     "output_type": "display_data"
    }
   ],
   "source": [
    "from sklearn import datasets\n",
    "from sklearn import metrics\n",
    "from sklearn import model_selection\n",
    "from sklearn.metrics import plot_roc_curve\n",
    "disp=plot_roc_curve(rf1,x_test,y_test)\n",
    "plt.show()"
   ]
  },
  {
   "cell_type": "markdown",
   "id": "273b9184",
   "metadata": {},
   "source": [
    " The score is good, we can save the model"
   ]
  },
  {
   "cell_type": "markdown",
   "id": "2982fd8c",
   "metadata": {},
   "source": [
    "# Saving the Model"
   ]
  },
  {
   "cell_type": "code",
   "execution_count": 66,
   "id": "372a2bf7",
   "metadata": {},
   "outputs": [],
   "source": [
    "import pickle\n",
    "filename='Census_Income.pkl'\n",
    "pickle.dump(rf1,open(filename,'wb'))"
   ]
  },
  {
   "cell_type": "markdown",
   "id": "1bc26590",
   "metadata": {},
   "source": [
    "# Conclusion"
   ]
  },
  {
   "cell_type": "code",
   "execution_count": 67,
   "id": "69c283e0",
   "metadata": {},
   "outputs": [
    {
     "data": {
      "text/html": [
       "<div>\n",
       "<style scoped>\n",
       "    .dataframe tbody tr th:only-of-type {\n",
       "        vertical-align: middle;\n",
       "    }\n",
       "\n",
       "    .dataframe tbody tr th {\n",
       "        vertical-align: top;\n",
       "    }\n",
       "\n",
       "    .dataframe thead th {\n",
       "        text-align: right;\n",
       "    }\n",
       "</style>\n",
       "<table border=\"1\" class=\"dataframe\">\n",
       "  <thead>\n",
       "    <tr style=\"text-align: right;\">\n",
       "      <th></th>\n",
       "      <th>original</th>\n",
       "      <th>Predicted</th>\n",
       "    </tr>\n",
       "  </thead>\n",
       "  <tbody>\n",
       "    <tr>\n",
       "      <th>380</th>\n",
       "      <td>0</td>\n",
       "      <td>0</td>\n",
       "    </tr>\n",
       "    <tr>\n",
       "      <th>693</th>\n",
       "      <td>0</td>\n",
       "      <td>0</td>\n",
       "    </tr>\n",
       "    <tr>\n",
       "      <th>225</th>\n",
       "      <td>1</td>\n",
       "      <td>1</td>\n",
       "    </tr>\n",
       "    <tr>\n",
       "      <th>550</th>\n",
       "      <td>0</td>\n",
       "      <td>0</td>\n",
       "    </tr>\n",
       "    <tr>\n",
       "      <th>823</th>\n",
       "      <td>0</td>\n",
       "      <td>0</td>\n",
       "    </tr>\n",
       "    <tr>\n",
       "      <th>554</th>\n",
       "      <td>0</td>\n",
       "      <td>0</td>\n",
       "    </tr>\n",
       "    <tr>\n",
       "      <th>598</th>\n",
       "      <td>1</td>\n",
       "      <td>0</td>\n",
       "    </tr>\n",
       "    <tr>\n",
       "      <th>702</th>\n",
       "      <td>0</td>\n",
       "      <td>0</td>\n",
       "    </tr>\n",
       "    <tr>\n",
       "      <th>488</th>\n",
       "      <td>0</td>\n",
       "      <td>0</td>\n",
       "    </tr>\n",
       "    <tr>\n",
       "      <th>393</th>\n",
       "      <td>0</td>\n",
       "      <td>0</td>\n",
       "    </tr>\n",
       "  </tbody>\n",
       "</table>\n",
       "</div>"
      ],
      "text/plain": [
       "     original  Predicted\n",
       "380         0          0\n",
       "693         0          0\n",
       "225         1          1\n",
       "550         0          0\n",
       "823         0          0\n",
       "554         0          0\n",
       "598         1          0\n",
       "702         0          0\n",
       "488         0          0\n",
       "393         0          0"
      ]
     },
     "execution_count": 67,
     "metadata": {},
     "output_type": "execute_result"
    }
   ],
   "source": [
    "import numpy as np\n",
    "a=np.array(y_test)\n",
    "df_com=pd.DataFrame({\"original\":a,\"Predicted\":predrf1},index=range(len(a)))\n",
    "df_com.sample(10)"
   ]
  },
  {
   "cell_type": "code",
   "execution_count": null,
   "id": "652cfd15",
   "metadata": {},
   "outputs": [],
   "source": []
  },
  {
   "cell_type": "code",
   "execution_count": null,
   "id": "d2a33b39",
   "metadata": {},
   "outputs": [],
   "source": []
  }
 ],
 "metadata": {
  "kernelspec": {
   "display_name": "Python 3 (ipykernel)",
   "language": "python",
   "name": "python3"
  },
  "language_info": {
   "codemirror_mode": {
    "name": "ipython",
    "version": 3
   },
   "file_extension": ".py",
   "mimetype": "text/x-python",
   "name": "python",
   "nbconvert_exporter": "python",
   "pygments_lexer": "ipython3",
   "version": "3.9.7"
  }
 },
 "nbformat": 4,
 "nbformat_minor": 5
}
